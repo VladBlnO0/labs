{
 "cells": [
  {
   "cell_type": "code",
   "metadata": {
    "ExecuteTime": {
     "end_time": "2025-04-28T08:53:42.561835Z",
     "start_time": "2025-04-28T08:53:42.146553Z"
    }
   },
   "source": [
    "import pandas as pd\n",
    "import sklearn\n",
    "import numpy as np\n",
    "\n",
    "from sklearn.feature_extraction.text import CountVectorizer\n",
    "from sklearn.feature_extraction.text import TfidfVectorizer\n",
    "from sklearn.metrics.pairwise import cosine_similarity\n",
    "from sklearn.metrics.pairwise import pairwise_distances\n",
    "from sklearn.neighbors import NearestNeighbors"
   ],
   "outputs": [],
   "execution_count": 2
  },
  {
   "cell_type": "code",
   "metadata": {
    "ExecuteTime": {
     "end_time": "2025-04-28T08:53:43.775020Z",
     "start_time": "2025-04-28T08:53:43.260247Z"
    }
   },
   "source": "people = pd.read_csv('people_wiki.csv')",
   "outputs": [],
   "execution_count": 3
  },
  {
   "cell_type": "code",
   "execution_count": 272,
   "metadata": {},
   "outputs": [
    {
     "data": {
      "application/vnd.microsoft.datawrangler.viewer.v0+json": {
       "columns": [
        {
         "name": "index",
         "rawType": "int64",
         "type": "integer"
        },
        {
         "name": "URI",
         "rawType": "object",
         "type": "string"
        },
        {
         "name": "name",
         "rawType": "object",
         "type": "string"
        },
        {
         "name": "text",
         "rawType": "object",
         "type": "string"
        }
       ],
       "conversionMethod": "pd.DataFrame",
       "ref": "a52eac40-7ea0-439f-8249-2ba65d734541",
       "rows": [
        [
         "24478",
         "<http://dbpedia.org/resource/Joe_Biden>",
         "Joe Biden",
         "joseph robinette joe biden jr dosf rbnt badn born november 20 1942 is the 47th and current vice president of the united states jointly elected with president barack obama he is a member of the democratic party and was a united states senator from delaware from january 3 1973 until his resignation on january 15 2009 following his election to the vice presidency in 2012 biden was elected to a second term alongside obamabiden was born in scranton pennsylvania and lived there for ten years before moving to delaware he became an attorney in 1969 and was elected to the new castle county council in 1970 biden was first elected to the senate in 1972 and became the sixthyoungest senator in us history he was reelected to the senate six times and was the fourth most senior senator at the time of his resignation biden was a longtime member and former chairman of the foreign relations committee his strong advocacy helped bring about us military assistance and intervention during the bosnian war he opposed the gulf war in 1991 he voted in favor of the iraq war resolution in 2002 but later proposed resolutions to alter us strategy there he has also served as chairman of the senate judiciary committee dealing with issues related to drug policy crime prevention and civil liberties and led creation of the violent crime control and law enforcement act and violence against women act he chaired the judiciary committee during the contentious us supreme court nominations of robert bork and clarence thomasbiden unsuccessfully sought the democratic presidential nomination in 1988 and 2008 both times dropping out early in the race barack obama selected biden to be the democratic party nominee for vice president in the 2008 us presidential election biden is the first roman catholic and the first delawarean to become vice president of the united states as vice president biden has been heavily involved in obamas decisionmaking process and held the oversight role for infrastructure spending from the obama stimulus package aimed at counteracting the late2000s recession his ability to negotiate with congressional republicans played a key role in bringing about the bipartisan deals that resulted in the tax relief unemployment insurance reauthorization and job creation act of 2010 that resolved a taxation deadlock the budget control act of 2011 that resolved that years debt ceiling crisis and the american taxpayer relief act of 2012 that addressed the impending fiscal cliff obama and biden were reelected in 2012"
        ]
       ],
       "shape": {
        "columns": 3,
        "rows": 1
       }
      },
      "text/html": [
       "<div>\n",
       "<style scoped>\n",
       "    .dataframe tbody tr th:only-of-type {\n",
       "        vertical-align: middle;\n",
       "    }\n",
       "\n",
       "    .dataframe tbody tr th {\n",
       "        vertical-align: top;\n",
       "    }\n",
       "\n",
       "    .dataframe thead th {\n",
       "        text-align: right;\n",
       "    }\n",
       "</style>\n",
       "<table border=\"1\" class=\"dataframe\">\n",
       "  <thead>\n",
       "    <tr style=\"text-align: right;\">\n",
       "      <th></th>\n",
       "      <th>URI</th>\n",
       "      <th>name</th>\n",
       "      <th>text</th>\n",
       "    </tr>\n",
       "  </thead>\n",
       "  <tbody>\n",
       "    <tr>\n",
       "      <th>24478</th>\n",
       "      <td>&lt;http://dbpedia.org/resource/Joe_Biden&gt;</td>\n",
       "      <td>Joe Biden</td>\n",
       "      <td>joseph robinette joe biden jr dosf rbnt badn born november 20 1942 is the 47th and current vice president of the united states jointly e...</td>\n",
       "    </tr>\n",
       "  </tbody>\n",
       "</table>\n",
       "</div>"
      ],
      "text/plain": [
       "                                           URI       name  \\\n",
       "24478  <http://dbpedia.org/resource/Joe_Biden>  Joe Biden   \n",
       "\n",
       "                                                                                                                                              text  \n",
       "24478  joseph robinette joe biden jr dosf rbnt badn born november 20 1942 is the 47th and current vice president of the united states jointly e...  "
      ]
     },
     "execution_count": 272,
     "metadata": {},
     "output_type": "execute_result"
    }
   ],
   "source": [
    "people[people['name'] =='Joe Biden']"
   ]
  },
  {
   "cell_type": "code",
   "execution_count": 273,
   "metadata": {},
   "outputs": [],
   "source": [
    "biden = people[people['name'] == 'Joe Biden']"
   ]
  },
  {
   "cell_type": "markdown",
   "metadata": {},
   "source": [
    "Bag Of Words"
   ]
  },
  {
   "cell_type": "code",
   "execution_count": 274,
   "metadata": {},
   "outputs": [
    {
     "data": {
      "text/plain": [
       "'joseph robinette joe biden jr dosf rbnt badn born november 20 1942 is the 47th and current vice president of the united states jointly elected with president barack obama he is a member of the democratic party and was a united states senator from delaware from january 3 1973 until his resignation on january 15 2009 following his election to the vice presidency in 2012 biden was elected to a second term alongside obamabiden was born in scranton pennsylvania and lived there for ten years before moving to delaware he became an attorney in 1969 and was elected to the new castle county council in 1970 biden was first elected to the senate in 1972 and became the sixthyoungest senator in us history he was reelected to the senate six times and was the fourth most senior senator at the time of his resignation biden was a longtime member and former chairman of the foreign relations committee his strong advocacy helped bring about us military assistance and intervention during the bosnian war he opposed the gulf war in 1991 he voted in favor of the iraq war resolution in 2002 but later proposed resolutions to alter us strategy there he has also served as chairman of the senate judiciary committee dealing with issues related to drug policy crime prevention and civil liberties and led creation of the violent crime control and law enforcement act and violence against women act he chaired the judiciary committee during the contentious us supreme court nominations of robert bork and clarence thomasbiden unsuccessfully sought the democratic presidential nomination in 1988 and 2008 both times dropping out early in the race barack obama selected biden to be the democratic party nominee for vice president in the 2008 us presidential election biden is the first roman catholic and the first delawarean to become vice president of the united states as vice president biden has been heavily involved in obamas decisionmaking process and held the oversight role for infrastructure spending from the obama stimulus package aimed at counteracting the late2000s recession his ability to negotiate with congressional republicans played a key role in bringing about the bipartisan deals that resulted in the tax relief unemployment insurance reauthorization and job creation act of 2010 that resolved a taxation deadlock the budget control act of 2011 that resolved that years debt ceiling crisis and the american taxpayer relief act of 2012 that addressed the impending fiscal cliff obama and biden were reelected in 2012'"
      ]
     },
     "execution_count": 274,
     "metadata": {},
     "output_type": "execute_result"
    }
   ],
   "source": [
    "biden_text = biden[\"text\"].values[0]\n",
    "biden_text"
   ]
  },
  {
   "cell_type": "markdown",
   "metadata": {},
   "source": [
    "Вхідний текст на матрицю"
   ]
  },
  {
   "cell_type": "code",
   "execution_count": 275,
   "metadata": {},
   "outputs": [
    {
     "data": {
      "text/plain": [
       "<Compressed Sparse Row sparse matrix of dtype 'int64'\n",
       "\twith 217 stored elements and shape (1, 217)>"
      ]
     },
     "execution_count": 275,
     "metadata": {},
     "output_type": "execute_result"
    }
   ],
   "source": [
    "vectorizer = CountVectorizer()\n",
    "features = vectorizer.fit_transform(biden['text'])\n",
    "features"
   ]
  },
  {
   "cell_type": "code",
   "execution_count": 276,
   "metadata": {},
   "outputs": [],
   "source": [
    "# Беремо токени\n",
    "vocab = vectorizer.get_feature_names_out()\n",
    "\n",
    "# Знаходимо кількість входжень кожного слова тексту в DataFrame\n",
    "dist = np.sum(features.toarray(), axis=0)\n",
    "\n",
    "biden_word_count_table = pd.DataFrame({'token':vocab, 'count':dist}).sort_values('count')"
   ]
  },
  {
   "cell_type": "markdown",
   "metadata": {},
   "source": [
    "Відсортуємо та виведемо цю таблицю за зменшенням кількості слів"
   ]
  },
  {
   "cell_type": "code",
   "execution_count": 277,
   "metadata": {},
   "outputs": [
    {
     "data": {
      "application/vnd.microsoft.datawrangler.viewer.v0+json": {
       "columns": [
        {
         "name": "index",
         "rawType": "int64",
         "type": "integer"
        },
        {
         "name": "token",
         "rawType": "object",
         "type": "string"
        },
        {
         "name": "count",
         "rawType": "int64",
         "type": "integer"
        }
       ],
       "conversionMethod": "pd.DataFrame",
       "ref": "296e418e-22d0-42b0-b1d5-c389881f0f81",
       "rows": [
        [
         "40",
         "biden",
         "8"
        ],
        [
         "151",
         "president",
         "5"
        ],
        [
         "18",
         "act",
         "5"
        ],
        [
         "207",
         "vice",
         "5"
        ],
        [
         "83",
         "elected",
         "4"
        ],
        [
         "137",
         "obama",
         "4"
        ],
        [
         "58",
         "committee",
         "3"
        ],
        [
         "14",
         "2012",
         "3"
        ],
        [
         "87",
         "first",
         "3"
        ],
        [
         "77",
         "democratic",
         "3"
        ]
       ],
       "shape": {
        "columns": 2,
        "rows": 10
       }
      },
      "text/html": [
       "<div>\n",
       "<style scoped>\n",
       "    .dataframe tbody tr th:only-of-type {\n",
       "        vertical-align: middle;\n",
       "    }\n",
       "\n",
       "    .dataframe tbody tr th {\n",
       "        vertical-align: top;\n",
       "    }\n",
       "\n",
       "    .dataframe thead th {\n",
       "        text-align: right;\n",
       "    }\n",
       "</style>\n",
       "<table border=\"1\" class=\"dataframe\">\n",
       "  <thead>\n",
       "    <tr style=\"text-align: right;\">\n",
       "      <th></th>\n",
       "      <th>token</th>\n",
       "      <th>count</th>\n",
       "    </tr>\n",
       "  </thead>\n",
       "  <tbody>\n",
       "    <tr>\n",
       "      <th>40</th>\n",
       "      <td>biden</td>\n",
       "      <td>8</td>\n",
       "    </tr>\n",
       "    <tr>\n",
       "      <th>151</th>\n",
       "      <td>president</td>\n",
       "      <td>5</td>\n",
       "    </tr>\n",
       "    <tr>\n",
       "      <th>18</th>\n",
       "      <td>act</td>\n",
       "      <td>5</td>\n",
       "    </tr>\n",
       "    <tr>\n",
       "      <th>207</th>\n",
       "      <td>vice</td>\n",
       "      <td>5</td>\n",
       "    </tr>\n",
       "    <tr>\n",
       "      <th>83</th>\n",
       "      <td>elected</td>\n",
       "      <td>4</td>\n",
       "    </tr>\n",
       "    <tr>\n",
       "      <th>137</th>\n",
       "      <td>obama</td>\n",
       "      <td>4</td>\n",
       "    </tr>\n",
       "    <tr>\n",
       "      <th>58</th>\n",
       "      <td>committee</td>\n",
       "      <td>3</td>\n",
       "    </tr>\n",
       "    <tr>\n",
       "      <th>14</th>\n",
       "      <td>2012</td>\n",
       "      <td>3</td>\n",
       "    </tr>\n",
       "    <tr>\n",
       "      <th>87</th>\n",
       "      <td>first</td>\n",
       "      <td>3</td>\n",
       "    </tr>\n",
       "    <tr>\n",
       "      <th>77</th>\n",
       "      <td>democratic</td>\n",
       "      <td>3</td>\n",
       "    </tr>\n",
       "  </tbody>\n",
       "</table>\n",
       "</div>"
      ],
      "text/plain": [
       "          token  count\n",
       "40        biden      8\n",
       "151   president      5\n",
       "18          act      5\n",
       "207        vice      5\n",
       "83      elected      4\n",
       "137       obama      4\n",
       "58    committee      3\n",
       "14         2012      3\n",
       "87        first      3\n",
       "77   democratic      3"
      ]
     },
     "execution_count": 277,
     "metadata": {},
     "output_type": "execute_result"
    }
   ],
   "source": [
    "stopwords = ['the', 'and', 'in', 'in', 'of', 'to', 'he', 'was', 'us', 'his', 'is', 'that', 'from', 'with']\n",
    "filtered_table = biden_word_count_table[~biden_word_count_table['token'].isin(stopwords)]\n",
    "\n",
    "filtered_table.sort_values('count', ascending=False).head(10)"
   ]
  },
  {
   "cell_type": "markdown",
   "metadata": {},
   "source": [
    "TF_IDF "
   ]
  },
  {
   "cell_type": "code",
   "execution_count": 278,
   "metadata": {},
   "outputs": [],
   "source": [
    "# Векторизація Tf Idf\n",
    "vect_tfidf = TfidfVectorizer()\n",
    "\n",
    "dtm_tfidf = vect_tfidf.fit_transform(people['text'])\n",
    "\n",
    "vocab_tfidf = vect_tfidf.get_feature_names_out()"
   ]
  },
  {
   "cell_type": "code",
   "execution_count": 279,
   "metadata": {},
   "outputs": [],
   "source": [
    "biden_index = biden.index[0]\n",
    "\n",
    "# Make a dictionary із отриманих слів\n",
    "word_index_dict = {word: idx for idx, word in enumerate(vocab_tfidf)}"
   ]
  },
  {
   "cell_type": "code",
   "execution_count": 280,
   "metadata": {},
   "outputs": [],
   "source": [
    "# Важливість для кожного слова\n",
    "biden_word_scores = {}\n",
    "for word in vocab_tfidf:\n",
    "    word_index = word_index_dict[word]\n",
    "    biden_word_scores[ word ] = dtm_tfidf[biden_index, word_index]"
   ]
  },
  {
   "cell_type": "markdown",
   "metadata": {},
   "source": [
    "Створюємо таблицю для виводу кожного слова із його важливістю"
   ]
  },
  {
   "cell_type": "code",
   "execution_count": 281,
   "metadata": {},
   "outputs": [],
   "source": [
    "biden_word_scores_df = pd.DataFrame(biden_word_scores.items(), columns=['word', 'tfidf'])\n",
    "\n",
    "# tf-idf for each word\n",
    "biden_word_scores_df_sorted = biden_word_scores_df.sort_values('tfidf', ascending=False)"
   ]
  },
  {
   "cell_type": "code",
   "execution_count": 282,
   "metadata": {},
   "outputs": [
    {
     "data": {
      "application/vnd.microsoft.datawrangler.viewer.v0+json": {
       "columns": [
        {
         "name": "index",
         "rawType": "int64",
         "type": "integer"
        },
        {
         "name": "word",
         "rawType": "object",
         "type": "string"
        },
        {
         "name": "tfidf",
         "rawType": "float64",
         "type": "float"
        }
       ],
       "conversionMethod": "pd.DataFrame",
       "ref": "86f4d005-6e86-4651-a02c-5c8de802f9cc",
       "rows": [
        [
         "89034",
         "biden",
         "0.5381713785070756"
        ],
        [
         "488148",
         "the",
         "0.24828728959887936"
        ],
        [
         "358557",
         "obama",
         "0.17479359735918218"
        ],
        [
         "45073",
         "act",
         "0.16773700507796338"
        ],
        [
         "518424",
         "vice",
         "0.15315247024500406"
        ],
        [
         "58906",
         "and",
         "0.1430452769325505"
        ],
        [
         "251905",
         "in",
         "0.12048569300448493"
        ],
        [
         "417560",
         "resolved",
         "0.11368440155814201"
        ],
        [
         "442677",
         "senator",
         "0.11069788524458264"
        ],
        [
         "512199",
         "us",
         "0.110288822263215"
        ]
       ],
       "shape": {
        "columns": 2,
        "rows": 10
       }
      },
      "text/html": [
       "<div>\n",
       "<style scoped>\n",
       "    .dataframe tbody tr th:only-of-type {\n",
       "        vertical-align: middle;\n",
       "    }\n",
       "\n",
       "    .dataframe tbody tr th {\n",
       "        vertical-align: top;\n",
       "    }\n",
       "\n",
       "    .dataframe thead th {\n",
       "        text-align: right;\n",
       "    }\n",
       "</style>\n",
       "<table border=\"1\" class=\"dataframe\">\n",
       "  <thead>\n",
       "    <tr style=\"text-align: right;\">\n",
       "      <th></th>\n",
       "      <th>word</th>\n",
       "      <th>tfidf</th>\n",
       "    </tr>\n",
       "  </thead>\n",
       "  <tbody>\n",
       "    <tr>\n",
       "      <th>89034</th>\n",
       "      <td>biden</td>\n",
       "      <td>0.538171</td>\n",
       "    </tr>\n",
       "    <tr>\n",
       "      <th>488148</th>\n",
       "      <td>the</td>\n",
       "      <td>0.248287</td>\n",
       "    </tr>\n",
       "    <tr>\n",
       "      <th>358557</th>\n",
       "      <td>obama</td>\n",
       "      <td>0.174794</td>\n",
       "    </tr>\n",
       "    <tr>\n",
       "      <th>45073</th>\n",
       "      <td>act</td>\n",
       "      <td>0.167737</td>\n",
       "    </tr>\n",
       "    <tr>\n",
       "      <th>518424</th>\n",
       "      <td>vice</td>\n",
       "      <td>0.153152</td>\n",
       "    </tr>\n",
       "    <tr>\n",
       "      <th>58906</th>\n",
       "      <td>and</td>\n",
       "      <td>0.143045</td>\n",
       "    </tr>\n",
       "    <tr>\n",
       "      <th>251905</th>\n",
       "      <td>in</td>\n",
       "      <td>0.120486</td>\n",
       "    </tr>\n",
       "    <tr>\n",
       "      <th>417560</th>\n",
       "      <td>resolved</td>\n",
       "      <td>0.113684</td>\n",
       "    </tr>\n",
       "    <tr>\n",
       "      <th>442677</th>\n",
       "      <td>senator</td>\n",
       "      <td>0.110698</td>\n",
       "    </tr>\n",
       "    <tr>\n",
       "      <th>512199</th>\n",
       "      <td>us</td>\n",
       "      <td>0.110289</td>\n",
       "    </tr>\n",
       "  </tbody>\n",
       "</table>\n",
       "</div>"
      ],
      "text/plain": [
       "            word     tfidf\n",
       "89034      biden  0.538171\n",
       "488148       the  0.248287\n",
       "358557     obama  0.174794\n",
       "45073        act  0.167737\n",
       "518424      vice  0.153152\n",
       "58906        and  0.143045\n",
       "251905        in  0.120486\n",
       "417560  resolved  0.113684\n",
       "442677   senator  0.110698\n",
       "512199        us  0.110289"
      ]
     },
     "execution_count": 282,
     "metadata": {},
     "output_type": "execute_result"
    }
   ],
   "source": [
    "biden_word_scores_df_sorted.head(10)"
   ]
  },
  {
   "cell_type": "code",
   "execution_count": 283,
   "metadata": {},
   "outputs": [],
   "source": [
    "# Delete \"the\", \"in\", \"of\"\n",
    "vect = TfidfVectorizer(stop_words = 'english')\n",
    "dtm2 = vect.fit_transform(people['text'])\n",
    "vocab2 = vect.get_feature_names_out()"
   ]
  },
  {
   "cell_type": "code",
   "execution_count": 284,
   "metadata": {},
   "outputs": [],
   "source": [
    "biden_word_scores = {}\n",
    "for word in vocab2:\n",
    "    word_index = word_index_dict[word]\n",
    "    biden_word_scores[word] = dtm_tfidf[biden_index, word_index]"
   ]
  },
  {
   "cell_type": "code",
   "execution_count": 285,
   "metadata": {},
   "outputs": [],
   "source": [
    "biden_word_scores_tfidf = pd.DataFrame(biden_word_scores.items(), columns=['word', 'tfidf'])\n",
    "biden_word_scores_tfidf_sorted = biden_word_scores_tfidf.sort_values('tfidf', ascending=False)"
   ]
  },
  {
   "cell_type": "code",
   "execution_count": 286,
   "metadata": {},
   "outputs": [
    {
     "data": {
      "application/vnd.microsoft.datawrangler.viewer.v0+json": {
       "columns": [
        {
         "name": "index",
         "rawType": "int64",
         "type": "integer"
        },
        {
         "name": "word",
         "rawType": "object",
         "type": "string"
        },
        {
         "name": "tfidf",
         "rawType": "float64",
         "type": "float"
        }
       ],
       "conversionMethod": "pd.DataFrame",
       "ref": "e02005a4-0b04-487c-9505-bff4e59c764e",
       "rows": [
        [
         "88985",
         "biden",
         "0.5381713785070756"
        ],
        [
         "358378",
         "obama",
         "0.17479359735918218"
        ],
        [
         "45070",
         "act",
         "0.16773700507796338"
        ],
        [
         "518147",
         "vice",
         "0.15315247024500406"
        ],
        [
         "417356",
         "resolved",
         "0.11368440155814201"
        ],
        [
         "442467",
         "senator",
         "0.11069788524458264"
        ],
        [
         "395397",
         "president",
         "0.10557273723585793"
        ],
        [
         "155024",
         "delaware",
         "0.10070724613591123"
        ],
        [
         "442385",
         "senate",
         "0.0990252374709766"
        ],
        [
         "269252",
         "judiciary",
         "0.09782602021390455"
        ],
        [
         "176854",
         "elected",
         "0.09744056688778528"
        ],
        [
         "155872",
         "democratic",
         "0.09258623390001303"
        ],
        [
         "79834",
         "barack",
         "0.09125412464982235"
        ],
        [
         "524897",
         "war",
         "0.08597898859030546"
        ],
        [
         "167105",
         "dosf",
         "0.08496103727181993"
        ],
        [
         "76940",
         "badn",
         "0.08496103727181993"
        ],
        [
         "410141",
         "rbnt",
         "0.08496103727181993"
        ],
        [
         "155025",
         "delawarean",
         "0.08496103727181993"
        ],
        [
         "490293",
         "thomasbiden",
         "0.08496103727181993"
        ],
        [
         "141522",
         "counteracting",
         "0.08191068551717647"
        ],
        [
         "414940",
         "relief",
         "0.08154792006427337"
        ],
        [
         "422498",
         "robinette",
         "0.07974642650466322"
        ],
        [
         "133036",
         "committee",
         "0.07826845738883677"
        ],
        [
         "453605",
         "sixthyoungest",
         "0.07806769679481332"
        ],
        [
         "417216",
         "resignation",
         "0.07763782562429422"
        ],
        [
         "358380",
         "obamabiden",
         "0.07669607475001974"
        ],
        [
         "143677",
         "creation",
         "0.07575363775664128"
        ],
        [
         "144211",
         "crime",
         "0.07561033966219155"
        ],
        [
         "96534",
         "bork",
         "0.07364572299537629"
        ],
        [
         "410924",
         "reauthorization",
         "0.07364572299537629"
        ],
        [
         "291424",
         "late2000s",
         "0.07213605867218818"
        ],
        [
         "138523",
         "control",
         "0.07103428772687038"
        ],
        [
         "395460",
         "presidential",
         "0.07060896217562146"
        ],
        [
         "412883",
         "reelected",
         "0.07044618913512857"
        ],
        [
         "152678",
         "deadlock",
         "0.06802435948927245"
        ],
        [
         "251286",
         "impending",
         "0.06484316803514167"
        ],
        [
         "468672",
         "stimulus",
         "0.06484316803514167"
        ],
        [
         "437955",
         "scranton",
         "0.06434144261622514"
        ],
        [
         "466577",
         "states",
         "0.06374269355659745"
        ],
        [
         "417350",
         "resolutions",
         "0.06342843359102131"
        ],
        [
         "482236",
         "taxpayer",
         "0.06321650146106284"
        ],
        [
         "26011",
         "2012",
         "0.06305236213442644"
        ],
        [
         "115301",
         "ceiling",
         "0.06242386449334314"
        ],
        [
         "35077",
         "47th",
         "0.06187978942366405"
        ],
        [
         "137980",
         "contentious",
         "0.061210629205889745"
        ],
        [
         "509144",
         "united",
         "0.057954700043243455"
        ],
        [
         "153643",
         "decisionmaking",
         "0.0578981222474298"
        ],
        [
         "347552",
         "negotiate",
         "0.05769478302884979"
        ],
        [
         "508423",
         "unemployment",
         "0.05739972195258681"
        ],
        [
         "411292",
         "recession",
         "0.05739972195258681"
        ]
       ],
       "shape": {
        "columns": 2,
        "rows": 548115
       }
      },
      "text/html": [
       "<div>\n",
       "<style scoped>\n",
       "    .dataframe tbody tr th:only-of-type {\n",
       "        vertical-align: middle;\n",
       "    }\n",
       "\n",
       "    .dataframe tbody tr th {\n",
       "        vertical-align: top;\n",
       "    }\n",
       "\n",
       "    .dataframe thead th {\n",
       "        text-align: right;\n",
       "    }\n",
       "</style>\n",
       "<table border=\"1\" class=\"dataframe\">\n",
       "  <thead>\n",
       "    <tr style=\"text-align: right;\">\n",
       "      <th></th>\n",
       "      <th>word</th>\n",
       "      <th>tfidf</th>\n",
       "    </tr>\n",
       "  </thead>\n",
       "  <tbody>\n",
       "    <tr>\n",
       "      <th>88985</th>\n",
       "      <td>biden</td>\n",
       "      <td>0.538171</td>\n",
       "    </tr>\n",
       "    <tr>\n",
       "      <th>358378</th>\n",
       "      <td>obama</td>\n",
       "      <td>0.174794</td>\n",
       "    </tr>\n",
       "    <tr>\n",
       "      <th>45070</th>\n",
       "      <td>act</td>\n",
       "      <td>0.167737</td>\n",
       "    </tr>\n",
       "    <tr>\n",
       "      <th>518147</th>\n",
       "      <td>vice</td>\n",
       "      <td>0.153152</td>\n",
       "    </tr>\n",
       "    <tr>\n",
       "      <th>417356</th>\n",
       "      <td>resolved</td>\n",
       "      <td>0.113684</td>\n",
       "    </tr>\n",
       "    <tr>\n",
       "      <th>...</th>\n",
       "      <td>...</td>\n",
       "      <td>...</td>\n",
       "    </tr>\n",
       "    <tr>\n",
       "      <th>182745</th>\n",
       "      <td>equestrian</td>\n",
       "      <td>0.000000</td>\n",
       "    </tr>\n",
       "    <tr>\n",
       "      <th>182746</th>\n",
       "      <td>equestrianism</td>\n",
       "      <td>0.000000</td>\n",
       "    </tr>\n",
       "    <tr>\n",
       "      <th>182747</th>\n",
       "      <td>equestrians</td>\n",
       "      <td>0.000000</td>\n",
       "    </tr>\n",
       "    <tr>\n",
       "      <th>182748</th>\n",
       "      <td>equestriansshe</td>\n",
       "      <td>0.000000</td>\n",
       "    </tr>\n",
       "    <tr>\n",
       "      <th>182740</th>\n",
       "      <td>equavalent</td>\n",
       "      <td>0.000000</td>\n",
       "    </tr>\n",
       "  </tbody>\n",
       "</table>\n",
       "<p>548115 rows × 2 columns</p>\n",
       "</div>"
      ],
      "text/plain": [
       "                  word     tfidf\n",
       "88985            biden  0.538171\n",
       "358378           obama  0.174794\n",
       "45070              act  0.167737\n",
       "518147            vice  0.153152\n",
       "417356        resolved  0.113684\n",
       "...                ...       ...\n",
       "182745      equestrian  0.000000\n",
       "182746   equestrianism  0.000000\n",
       "182747     equestrians  0.000000\n",
       "182748  equestriansshe  0.000000\n",
       "182740      equavalent  0.000000\n",
       "\n",
       "[548115 rows x 2 columns]"
      ]
     },
     "execution_count": 286,
     "metadata": {},
     "output_type": "execute_result"
    }
   ],
   "source": [
    "biden_word_scores_tfidf_sorted"
   ]
  },
  {
   "cell_type": "markdown",
   "metadata": {},
   "source": [
    "Розрахунок міри подібності між людьми на базі TF_IDF за допомогою функції cosine_similarity"
   ]
  },
  {
   "cell_type": "code",
   "execution_count": 287,
   "metadata": {},
   "outputs": [
    {
     "data": {
      "text/plain": [
       "'joseph isadore joe lieberman born february 24 1942 is a former united states senator from connecticut a former member of the democratic party he was the partys nominee for vice president in the 2000 election currently an independent he remains closely associated with the partyborn in stamford connecticut lieberman is a graduate of yale college and yale law school he was elected as a reform democrat in 1970 to the connecticut senate where he served three terms as majority leader after an unsuccessful bid for the us house of representatives in 1980 he served as state attorney general from 1983 to 1989 lieberman defeated moderate republican lowell weicker in 1988 to win election to the senate and was reelected in 1994 and 2000 lieberman was the democratic nominee for vice president in the 2000 united states presidential election running with presidential nominee al gore becoming the first jewish candidate on a major american political party presidential ticketin the 2000 presidential election gore and lieberman won the popular vote by a margin of more than 500000 votes but lost the deciding electoral college to the republican george w bush dick cheney ticket 271266 the us supreme court settled the legal controversy over the florida vote recount by ruling 54 to stop recounting votes effectively ensuring bushs election it was the only time in history that the supreme court has ruled on a case directly related to a presidential election lieberman also unsuccessfully sought the democratic nomination in the 2004 presidential electionduring his reelection bid in 2006 he lost the democratic party primary election but won reelection in the general election as a third party candidate under the party label connecticut for lieberman lieberman himself was never a member of the connecticut for lieberman party he was a registered democrat while he ranlieberman was officially listed in senate records for the 110th and 111th congresses as an independent democrat and sat as part of the senate democratic caucus but since his speech at the 2008 republican national convention in which he endorsed john mccain for president lieberman no longer attended democratic caucus leadership strategy meetings or policy lunches on november 5 2008 lieberman met with senate majority leader harry reid to discuss his future role with the democratic party ultimately the senate democratic caucus voted to allow lieberman to keep chairmanship of the senate committee on homeland security and governmental affairs subsequently lieberman announced that he would continue to caucus with the democratsas senator he introduced and championed the dont ask dont tell repeal act of 2010 and legislation that led to the creation of the department of homeland security lieberman announced in january 2011 that he would retire from the senate when his term ended in january 2013'"
      ]
     },
     "execution_count": 287,
     "metadata": {},
     "output_type": "execute_result"
    }
   ],
   "source": [
    "lieberman = people[people['name'] == 'Joe Lieberman']\n",
    "lieberman_text = lieberman[\"text\"].values[0]\n",
    "lieberman_text"
   ]
  },
  {
   "cell_type": "code",
   "execution_count": 288,
   "metadata": {},
   "outputs": [],
   "source": [
    "similarity_b_l = cosine_similarity(dtm2[biden.index], dtm2[lieberman.index])\n",
    "# cosine_distance = (1-similarity_b_l)\n",
    "\n",
    "distance_b_l = pairwise_distances(dtm2[biden.index], dtm2[lieberman.index], metric='cosine')"
   ]
  },
  {
   "cell_type": "code",
   "execution_count": 289,
   "metadata": {},
   "outputs": [
    {
     "data": {
      "text/plain": [
       "array([[0.14350046]])"
      ]
     },
     "execution_count": 289,
     "metadata": {},
     "output_type": "execute_result"
    }
   ],
   "source": [
    "similarity_b_l"
   ]
  },
  {
   "cell_type": "code",
   "execution_count": 290,
   "metadata": {},
   "outputs": [
    {
     "data": {
      "text/plain": [
       "array([[0.85649954]])"
      ]
     },
     "execution_count": 290,
     "metadata": {},
     "output_type": "execute_result"
    }
   ],
   "source": [
    "distance_b_l"
   ]
  },
  {
   "cell_type": "markdown",
   "metadata": {},
   "source": [
    "Модель NNM ׂ(Nearest Neighbor Model, використовується косінусна відстань) "
   ]
  },
  {
   "cell_type": "code",
   "execution_count": 322,
   "metadata": {},
   "outputs": [
    {
     "data": {
      "text/html": [
       "<style>#sk-container-id-4 {\n",
       "  /* Definition of color scheme common for light and dark mode */\n",
       "  --sklearn-color-text: #000;\n",
       "  --sklearn-color-text-muted: #666;\n",
       "  --sklearn-color-line: gray;\n",
       "  /* Definition of color scheme for unfitted estimators */\n",
       "  --sklearn-color-unfitted-level-0: #fff5e6;\n",
       "  --sklearn-color-unfitted-level-1: #f6e4d2;\n",
       "  --sklearn-color-unfitted-level-2: #ffe0b3;\n",
       "  --sklearn-color-unfitted-level-3: chocolate;\n",
       "  /* Definition of color scheme for fitted estimators */\n",
       "  --sklearn-color-fitted-level-0: #f0f8ff;\n",
       "  --sklearn-color-fitted-level-1: #d4ebff;\n",
       "  --sklearn-color-fitted-level-2: #b3dbfd;\n",
       "  --sklearn-color-fitted-level-3: cornflowerblue;\n",
       "\n",
       "  /* Specific color for light theme */\n",
       "  --sklearn-color-text-on-default-background: var(--sg-text-color, var(--theme-code-foreground, var(--jp-content-font-color1, black)));\n",
       "  --sklearn-color-background: var(--sg-background-color, var(--theme-background, var(--jp-layout-color0, white)));\n",
       "  --sklearn-color-border-box: var(--sg-text-color, var(--theme-code-foreground, var(--jp-content-font-color1, black)));\n",
       "  --sklearn-color-icon: #696969;\n",
       "\n",
       "  @media (prefers-color-scheme: dark) {\n",
       "    /* Redefinition of color scheme for dark theme */\n",
       "    --sklearn-color-text-on-default-background: var(--sg-text-color, var(--theme-code-foreground, var(--jp-content-font-color1, white)));\n",
       "    --sklearn-color-background: var(--sg-background-color, var(--theme-background, var(--jp-layout-color0, #111)));\n",
       "    --sklearn-color-border-box: var(--sg-text-color, var(--theme-code-foreground, var(--jp-content-font-color1, white)));\n",
       "    --sklearn-color-icon: #878787;\n",
       "  }\n",
       "}\n",
       "\n",
       "#sk-container-id-4 {\n",
       "  color: var(--sklearn-color-text);\n",
       "}\n",
       "\n",
       "#sk-container-id-4 pre {\n",
       "  padding: 0;\n",
       "}\n",
       "\n",
       "#sk-container-id-4 input.sk-hidden--visually {\n",
       "  border: 0;\n",
       "  clip: rect(1px 1px 1px 1px);\n",
       "  clip: rect(1px, 1px, 1px, 1px);\n",
       "  height: 1px;\n",
       "  margin: -1px;\n",
       "  overflow: hidden;\n",
       "  padding: 0;\n",
       "  position: absolute;\n",
       "  width: 1px;\n",
       "}\n",
       "\n",
       "#sk-container-id-4 div.sk-dashed-wrapped {\n",
       "  border: 1px dashed var(--sklearn-color-line);\n",
       "  margin: 0 0.4em 0.5em 0.4em;\n",
       "  box-sizing: border-box;\n",
       "  padding-bottom: 0.4em;\n",
       "  background-color: var(--sklearn-color-background);\n",
       "}\n",
       "\n",
       "#sk-container-id-4 div.sk-container {\n",
       "  /* jupyter's `normalize.less` sets `[hidden] { display: none; }`\n",
       "     but bootstrap.min.css set `[hidden] { display: none !important; }`\n",
       "     so we also need the `!important` here to be able to override the\n",
       "     default hidden behavior on the sphinx rendered scikit-learn.org.\n",
       "     See: https://github.com/scikit-learn/scikit-learn/issues/21755 */\n",
       "  display: inline-block !important;\n",
       "  position: relative;\n",
       "}\n",
       "\n",
       "#sk-container-id-4 div.sk-text-repr-fallback {\n",
       "  display: none;\n",
       "}\n",
       "\n",
       "div.sk-parallel-item,\n",
       "div.sk-serial,\n",
       "div.sk-item {\n",
       "  /* draw centered vertical line to link estimators */\n",
       "  background-image: linear-gradient(var(--sklearn-color-text-on-default-background), var(--sklearn-color-text-on-default-background));\n",
       "  background-size: 2px 100%;\n",
       "  background-repeat: no-repeat;\n",
       "  background-position: center center;\n",
       "}\n",
       "\n",
       "/* Parallel-specific style estimator block */\n",
       "\n",
       "#sk-container-id-4 div.sk-parallel-item::after {\n",
       "  content: \"\";\n",
       "  width: 100%;\n",
       "  border-bottom: 2px solid var(--sklearn-color-text-on-default-background);\n",
       "  flex-grow: 1;\n",
       "}\n",
       "\n",
       "#sk-container-id-4 div.sk-parallel {\n",
       "  display: flex;\n",
       "  align-items: stretch;\n",
       "  justify-content: center;\n",
       "  background-color: var(--sklearn-color-background);\n",
       "  position: relative;\n",
       "}\n",
       "\n",
       "#sk-container-id-4 div.sk-parallel-item {\n",
       "  display: flex;\n",
       "  flex-direction: column;\n",
       "}\n",
       "\n",
       "#sk-container-id-4 div.sk-parallel-item:first-child::after {\n",
       "  align-self: flex-end;\n",
       "  width: 50%;\n",
       "}\n",
       "\n",
       "#sk-container-id-4 div.sk-parallel-item:last-child::after {\n",
       "  align-self: flex-start;\n",
       "  width: 50%;\n",
       "}\n",
       "\n",
       "#sk-container-id-4 div.sk-parallel-item:only-child::after {\n",
       "  width: 0;\n",
       "}\n",
       "\n",
       "/* Serial-specific style estimator block */\n",
       "\n",
       "#sk-container-id-4 div.sk-serial {\n",
       "  display: flex;\n",
       "  flex-direction: column;\n",
       "  align-items: center;\n",
       "  background-color: var(--sklearn-color-background);\n",
       "  padding-right: 1em;\n",
       "  padding-left: 1em;\n",
       "}\n",
       "\n",
       "\n",
       "/* Toggleable style: style used for estimator/Pipeline/ColumnTransformer box that is\n",
       "clickable and can be expanded/collapsed.\n",
       "- Pipeline and ColumnTransformer use this feature and define the default style\n",
       "- Estimators will overwrite some part of the style using the `sk-estimator` class\n",
       "*/\n",
       "\n",
       "/* Pipeline and ColumnTransformer style (default) */\n",
       "\n",
       "#sk-container-id-4 div.sk-toggleable {\n",
       "  /* Default theme specific background. It is overwritten whether we have a\n",
       "  specific estimator or a Pipeline/ColumnTransformer */\n",
       "  background-color: var(--sklearn-color-background);\n",
       "}\n",
       "\n",
       "/* Toggleable label */\n",
       "#sk-container-id-4 label.sk-toggleable__label {\n",
       "  cursor: pointer;\n",
       "  display: flex;\n",
       "  width: 100%;\n",
       "  margin-bottom: 0;\n",
       "  padding: 0.5em;\n",
       "  box-sizing: border-box;\n",
       "  text-align: center;\n",
       "  align-items: start;\n",
       "  justify-content: space-between;\n",
       "  gap: 0.5em;\n",
       "}\n",
       "\n",
       "#sk-container-id-4 label.sk-toggleable__label .caption {\n",
       "  font-size: 0.6rem;\n",
       "  font-weight: lighter;\n",
       "  color: var(--sklearn-color-text-muted);\n",
       "}\n",
       "\n",
       "#sk-container-id-4 label.sk-toggleable__label-arrow:before {\n",
       "  /* Arrow on the left of the label */\n",
       "  content: \"▸\";\n",
       "  float: left;\n",
       "  margin-right: 0.25em;\n",
       "  color: var(--sklearn-color-icon);\n",
       "}\n",
       "\n",
       "#sk-container-id-4 label.sk-toggleable__label-arrow:hover:before {\n",
       "  color: var(--sklearn-color-text);\n",
       "}\n",
       "\n",
       "/* Toggleable content - dropdown */\n",
       "\n",
       "#sk-container-id-4 div.sk-toggleable__content {\n",
       "  max-height: 0;\n",
       "  max-width: 0;\n",
       "  overflow: hidden;\n",
       "  text-align: left;\n",
       "  /* unfitted */\n",
       "  background-color: var(--sklearn-color-unfitted-level-0);\n",
       "}\n",
       "\n",
       "#sk-container-id-4 div.sk-toggleable__content.fitted {\n",
       "  /* fitted */\n",
       "  background-color: var(--sklearn-color-fitted-level-0);\n",
       "}\n",
       "\n",
       "#sk-container-id-4 div.sk-toggleable__content pre {\n",
       "  margin: 0.2em;\n",
       "  border-radius: 0.25em;\n",
       "  color: var(--sklearn-color-text);\n",
       "  /* unfitted */\n",
       "  background-color: var(--sklearn-color-unfitted-level-0);\n",
       "}\n",
       "\n",
       "#sk-container-id-4 div.sk-toggleable__content.fitted pre {\n",
       "  /* unfitted */\n",
       "  background-color: var(--sklearn-color-fitted-level-0);\n",
       "}\n",
       "\n",
       "#sk-container-id-4 input.sk-toggleable__control:checked~div.sk-toggleable__content {\n",
       "  /* Expand drop-down */\n",
       "  max-height: 200px;\n",
       "  max-width: 100%;\n",
       "  overflow: auto;\n",
       "}\n",
       "\n",
       "#sk-container-id-4 input.sk-toggleable__control:checked~label.sk-toggleable__label-arrow:before {\n",
       "  content: \"▾\";\n",
       "}\n",
       "\n",
       "/* Pipeline/ColumnTransformer-specific style */\n",
       "\n",
       "#sk-container-id-4 div.sk-label input.sk-toggleable__control:checked~label.sk-toggleable__label {\n",
       "  color: var(--sklearn-color-text);\n",
       "  background-color: var(--sklearn-color-unfitted-level-2);\n",
       "}\n",
       "\n",
       "#sk-container-id-4 div.sk-label.fitted input.sk-toggleable__control:checked~label.sk-toggleable__label {\n",
       "  background-color: var(--sklearn-color-fitted-level-2);\n",
       "}\n",
       "\n",
       "/* Estimator-specific style */\n",
       "\n",
       "/* Colorize estimator box */\n",
       "#sk-container-id-4 div.sk-estimator input.sk-toggleable__control:checked~label.sk-toggleable__label {\n",
       "  /* unfitted */\n",
       "  background-color: var(--sklearn-color-unfitted-level-2);\n",
       "}\n",
       "\n",
       "#sk-container-id-4 div.sk-estimator.fitted input.sk-toggleable__control:checked~label.sk-toggleable__label {\n",
       "  /* fitted */\n",
       "  background-color: var(--sklearn-color-fitted-level-2);\n",
       "}\n",
       "\n",
       "#sk-container-id-4 div.sk-label label.sk-toggleable__label,\n",
       "#sk-container-id-4 div.sk-label label {\n",
       "  /* The background is the default theme color */\n",
       "  color: var(--sklearn-color-text-on-default-background);\n",
       "}\n",
       "\n",
       "/* On hover, darken the color of the background */\n",
       "#sk-container-id-4 div.sk-label:hover label.sk-toggleable__label {\n",
       "  color: var(--sklearn-color-text);\n",
       "  background-color: var(--sklearn-color-unfitted-level-2);\n",
       "}\n",
       "\n",
       "/* Label box, darken color on hover, fitted */\n",
       "#sk-container-id-4 div.sk-label.fitted:hover label.sk-toggleable__label.fitted {\n",
       "  color: var(--sklearn-color-text);\n",
       "  background-color: var(--sklearn-color-fitted-level-2);\n",
       "}\n",
       "\n",
       "/* Estimator label */\n",
       "\n",
       "#sk-container-id-4 div.sk-label label {\n",
       "  font-family: monospace;\n",
       "  font-weight: bold;\n",
       "  display: inline-block;\n",
       "  line-height: 1.2em;\n",
       "}\n",
       "\n",
       "#sk-container-id-4 div.sk-label-container {\n",
       "  text-align: center;\n",
       "}\n",
       "\n",
       "/* Estimator-specific */\n",
       "#sk-container-id-4 div.sk-estimator {\n",
       "  font-family: monospace;\n",
       "  border: 1px dotted var(--sklearn-color-border-box);\n",
       "  border-radius: 0.25em;\n",
       "  box-sizing: border-box;\n",
       "  margin-bottom: 0.5em;\n",
       "  /* unfitted */\n",
       "  background-color: var(--sklearn-color-unfitted-level-0);\n",
       "}\n",
       "\n",
       "#sk-container-id-4 div.sk-estimator.fitted {\n",
       "  /* fitted */\n",
       "  background-color: var(--sklearn-color-fitted-level-0);\n",
       "}\n",
       "\n",
       "/* on hover */\n",
       "#sk-container-id-4 div.sk-estimator:hover {\n",
       "  /* unfitted */\n",
       "  background-color: var(--sklearn-color-unfitted-level-2);\n",
       "}\n",
       "\n",
       "#sk-container-id-4 div.sk-estimator.fitted:hover {\n",
       "  /* fitted */\n",
       "  background-color: var(--sklearn-color-fitted-level-2);\n",
       "}\n",
       "\n",
       "/* Specification for estimator info (e.g. \"i\" and \"?\") */\n",
       "\n",
       "/* Common style for \"i\" and \"?\" */\n",
       "\n",
       ".sk-estimator-doc-link,\n",
       "a:link.sk-estimator-doc-link,\n",
       "a:visited.sk-estimator-doc-link {\n",
       "  float: right;\n",
       "  font-size: smaller;\n",
       "  line-height: 1em;\n",
       "  font-family: monospace;\n",
       "  background-color: var(--sklearn-color-background);\n",
       "  border-radius: 1em;\n",
       "  height: 1em;\n",
       "  width: 1em;\n",
       "  text-decoration: none !important;\n",
       "  margin-left: 0.5em;\n",
       "  text-align: center;\n",
       "  /* unfitted */\n",
       "  border: var(--sklearn-color-unfitted-level-1) 1pt solid;\n",
       "  color: var(--sklearn-color-unfitted-level-1);\n",
       "}\n",
       "\n",
       ".sk-estimator-doc-link.fitted,\n",
       "a:link.sk-estimator-doc-link.fitted,\n",
       "a:visited.sk-estimator-doc-link.fitted {\n",
       "  /* fitted */\n",
       "  border: var(--sklearn-color-fitted-level-1) 1pt solid;\n",
       "  color: var(--sklearn-color-fitted-level-1);\n",
       "}\n",
       "\n",
       "/* On hover */\n",
       "div.sk-estimator:hover .sk-estimator-doc-link:hover,\n",
       ".sk-estimator-doc-link:hover,\n",
       "div.sk-label-container:hover .sk-estimator-doc-link:hover,\n",
       ".sk-estimator-doc-link:hover {\n",
       "  /* unfitted */\n",
       "  background-color: var(--sklearn-color-unfitted-level-3);\n",
       "  color: var(--sklearn-color-background);\n",
       "  text-decoration: none;\n",
       "}\n",
       "\n",
       "div.sk-estimator.fitted:hover .sk-estimator-doc-link.fitted:hover,\n",
       ".sk-estimator-doc-link.fitted:hover,\n",
       "div.sk-label-container:hover .sk-estimator-doc-link.fitted:hover,\n",
       ".sk-estimator-doc-link.fitted:hover {\n",
       "  /* fitted */\n",
       "  background-color: var(--sklearn-color-fitted-level-3);\n",
       "  color: var(--sklearn-color-background);\n",
       "  text-decoration: none;\n",
       "}\n",
       "\n",
       "/* Span, style for the box shown on hovering the info icon */\n",
       ".sk-estimator-doc-link span {\n",
       "  display: none;\n",
       "  z-index: 9999;\n",
       "  position: relative;\n",
       "  font-weight: normal;\n",
       "  right: .2ex;\n",
       "  padding: .5ex;\n",
       "  margin: .5ex;\n",
       "  width: min-content;\n",
       "  min-width: 20ex;\n",
       "  max-width: 50ex;\n",
       "  color: var(--sklearn-color-text);\n",
       "  box-shadow: 2pt 2pt 4pt #999;\n",
       "  /* unfitted */\n",
       "  background: var(--sklearn-color-unfitted-level-0);\n",
       "  border: .5pt solid var(--sklearn-color-unfitted-level-3);\n",
       "}\n",
       "\n",
       ".sk-estimator-doc-link.fitted span {\n",
       "  /* fitted */\n",
       "  background: var(--sklearn-color-fitted-level-0);\n",
       "  border: var(--sklearn-color-fitted-level-3);\n",
       "}\n",
       "\n",
       ".sk-estimator-doc-link:hover span {\n",
       "  display: block;\n",
       "}\n",
       "\n",
       "/* \"?\"-specific style due to the `<a>` HTML tag */\n",
       "\n",
       "#sk-container-id-4 a.estimator_doc_link {\n",
       "  float: right;\n",
       "  font-size: 1rem;\n",
       "  line-height: 1em;\n",
       "  font-family: monospace;\n",
       "  background-color: var(--sklearn-color-background);\n",
       "  border-radius: 1rem;\n",
       "  height: 1rem;\n",
       "  width: 1rem;\n",
       "  text-decoration: none;\n",
       "  /* unfitted */\n",
       "  color: var(--sklearn-color-unfitted-level-1);\n",
       "  border: var(--sklearn-color-unfitted-level-1) 1pt solid;\n",
       "}\n",
       "\n",
       "#sk-container-id-4 a.estimator_doc_link.fitted {\n",
       "  /* fitted */\n",
       "  border: var(--sklearn-color-fitted-level-1) 1pt solid;\n",
       "  color: var(--sklearn-color-fitted-level-1);\n",
       "}\n",
       "\n",
       "/* On hover */\n",
       "#sk-container-id-4 a.estimator_doc_link:hover {\n",
       "  /* unfitted */\n",
       "  background-color: var(--sklearn-color-unfitted-level-3);\n",
       "  color: var(--sklearn-color-background);\n",
       "  text-decoration: none;\n",
       "}\n",
       "\n",
       "#sk-container-id-4 a.estimator_doc_link.fitted:hover {\n",
       "  /* fitted */\n",
       "  background-color: var(--sklearn-color-fitted-level-3);\n",
       "}\n",
       "</style><div id=\"sk-container-id-4\" class=\"sk-top-container\"><div class=\"sk-text-repr-fallback\"><pre>NearestNeighbors(metric=&#x27;cosine&#x27;, n_neighbors=10)</pre><b>In a Jupyter environment, please rerun this cell to show the HTML representation or trust the notebook. <br />On GitHub, the HTML representation is unable to render, please try loading this page with nbviewer.org.</b></div><div class=\"sk-container\" hidden><div class=\"sk-item\"><div class=\"sk-estimator fitted sk-toggleable\"><input class=\"sk-toggleable__control sk-hidden--visually\" id=\"sk-estimator-id-4\" type=\"checkbox\" checked><label for=\"sk-estimator-id-4\" class=\"sk-toggleable__label fitted sk-toggleable__label-arrow\"><div><div>NearestNeighbors</div></div><div><a class=\"sk-estimator-doc-link fitted\" rel=\"noreferrer\" target=\"_blank\" href=\"https://scikit-learn.org/1.6/modules/generated/sklearn.neighbors.NearestNeighbors.html\">?<span>Documentation for NearestNeighbors</span></a><span class=\"sk-estimator-doc-link fitted\">i<span>Fitted</span></span></div></label><div class=\"sk-toggleable__content fitted\"><pre>NearestNeighbors(metric=&#x27;cosine&#x27;, n_neighbors=10)</pre></div> </div></div></div></div>"
      ],
      "text/plain": [
       "NearestNeighbors(metric='cosine', n_neighbors=10)"
      ]
     },
     "execution_count": 322,
     "metadata": {},
     "output_type": "execute_result"
    }
   ],
   "source": [
    "knn_model = NearestNeighbors(n_neighbors=10, metric='cosine')\n",
    "\n",
    "# Для пошуку найближчих сусідів будемо використовувати модель тексту TF_IDF, і знаходити сусідів для конкретного імені\n",
    "knn_model.fit(dtm2)"
   ]
  },
  {
   "cell_type": "code",
   "execution_count": 335,
   "metadata": {},
   "outputs": [],
   "source": [
    "distances, indices = knn_model.kneighbors(dtm2[biden.index], return_distance=True)"
   ]
  },
  {
   "cell_type": "code",
   "execution_count": 336,
   "metadata": {},
   "outputs": [
    {
     "data": {
      "text/plain": [
       "[('Joe Biden', np.float64(0.0)),\n",
       " ('Jill Biden', np.float64(0.5369083361227046)),\n",
       " ('Cynthia Hogan', np.float64(0.606528555050327)),\n",
       " ('Barack Obama', np.float64(0.6787810413312336)),\n",
       " ('Sheila Nix', np.float64(0.681517961895459)),\n",
       " ('Chris Coons', np.float64(0.7348553857706975)),\n",
       " ('Kenneth D. Thompson', np.float64(0.7836254797930652)),\n",
       " ('Michael Castle', np.float64(0.8070862442922863)),\n",
       " ('Jeff Sessions', np.float64(0.8226375257713407)),\n",
       " ('Neil MacBride', np.float64(0.8290726990260255))]"
      ]
     },
     "execution_count": 336,
     "metadata": {},
     "output_type": "execute_result"
    }
   ],
   "source": [
    "list_nn = list(zip(people.iloc[indices[0]]['name'], distances[0]))\n",
    "list_nn"
   ]
  },
  {
   "cell_type": "code",
   "execution_count": 341,
   "metadata": {},
   "outputs": [
    {
     "name": "stdout",
     "output_type": "stream",
     "text": [
      "Jill Biden\n",
      "jill tracy biden ne jacobs previously stevenson born june 3 1951 is an american educator and as the wife of the 47th and current us vice president joe biden is the second lady of the united statesshe was born in hammonton new jersey and grew up in willow grove pennsylvania she married joe biden in 1977 and became stepmother to his two young sons from his first marriage beau and hunter whose mother and baby sister died in a car accident joe and jill biden have a daughter ashley born in 1981jill biden has a bachelors degree from the university of delaware masters degrees from west chester university and villanova university and a doctoral degree from the university of delaware she taught english and reading in high schools for 13 years and also taught adolescents with emotional disabilities at a psychiatric hospital from 1993 to 2008 she was an english and writing instructor at delaware technical community college since 2009 she has been a professor of english at northern virginia community college and is thought to be the first second lady to hold a paying job while her husband is vice president she is the founder of the biden breast health initiative nonprofit organization cofounded the book buddies program is active in delaware boots on the ground and cofounded joining forces with first lady michelle obama\n",
      "\n",
      "Cynthia Hogan\n",
      "cynthia c hogan born cincinnati ohio about 1958 is the senior vice president of public policy and government affairs for the national football league previously hogan served as the counsel to the vice president of the united states joe biden under president barack obama hogan previously worked as chief counsel to vice president biden during his time in the united states senate and served as staff director of the senate judiciary committeein 1995 she assisted with the drafting of antiterrorism legislationshe has experience with judicial nominations during the confirmation process for sonia sotomayors nomination to the us supreme court she was metaphorically judge sotomayors sherpashe holds a ba in art history from oberlin college 1979 and a jd from the university of virginia law school 1984 she was notes editor of the virginia law review then a clerk for us district court judge edward norman cahn in the eastern district of pennsylvania she was an associate at williams connolly before going to work for biden 19911996 she advised biden unofficially while she stayed home raising her childrenshe and her husband both contributed to democratic national committee 1992 she gave money to ralph neas 1997 in his unsuccessful attempt to unseat connie morella in marylands 8th congressional district her husband has consistently donated to his employers the arent fox law firm political action committee the firm appears to contribute to the party of the incumbent president of the united states\n"
     ]
    }
   ],
   "source": [
    "first_nn = indices[0][1]\n",
    "second_nn = indices[0][2]\n",
    "\n",
    "first_name = people.iloc[first_nn]['name']\n",
    "second_name = people.iloc[second_nn]['name']\n",
    "\n",
    "first_text = people.iloc[first_nn]['text']\n",
    "second_text = people.iloc[second_nn]['text']\n",
    "\n",
    "print(f\"{first_name}\\n{first_text}\\n\")\n",
    "print(f\"{second_name}\\n{second_text}\")\n"
   ]
  }
 ],
 "metadata": {
  "kernelspec": {
   "display_name": "py_envs",
   "language": "python",
   "name": "python3"
  },
  "language_info": {
   "codemirror_mode": {
    "name": "ipython",
    "version": 3
   },
   "file_extension": ".py",
   "mimetype": "text/x-python",
   "name": "python",
   "nbconvert_exporter": "python",
   "pygments_lexer": "ipython3",
   "version": "3.12.3"
  }
 },
 "nbformat": 4,
 "nbformat_minor": 1
}
