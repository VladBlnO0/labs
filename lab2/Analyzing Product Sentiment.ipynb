{
 "cells": [
  {
   "cell_type": "code",
   "execution_count": 4,
   "metadata": {},
   "outputs": [],
   "source": [
    "import numpy as np\n",
    "import pandas as pd\n",
    "import string\n",
    "from sklearn import metrics\n",
    "from sklearn.model_selection import train_test_split\n",
    "from sklearn.linear_model import LogisticRegression"
   ]
  },
  {
   "cell_type": "code",
   "execution_count": 5,
   "metadata": {},
   "outputs": [],
   "source": [
    "products = pd.read_csv('./amazon_baby.csv')"
   ]
  },
  {
   "cell_type": "code",
   "execution_count": 6,
   "metadata": {},
   "outputs": [],
   "source": [
    "# Function to clean all the NaN elements\n",
    "def cleanNaN(value):\n",
    "    if pd.isnull(value):\n",
    "        return \"\"\n",
    "    else:\n",
    "        return value\n",
    "products['review'] = products['review'].apply( cleanNaN )\n",
    "\n",
    "# Convert review to string type\n",
    "products['review'] = products['review'].astype(str)\n",
    "\n",
    "# Function to delete all the punctuation\n",
    "def punct_strip(word):\n",
    "    for i in string.punctuation:\n",
    "         word = word.replace(i, '')\n",
    "    return word\n",
    "\n",
    "# All the review strings to lower case. Delete all the punctuation\n",
    "def review_convertion( review ):\n",
    "    return punct_strip( review ).lower()\n",
    "\n",
    "products['review'] = products['review'].apply( review_convertion )"
   ]
  },
  {
   "cell_type": "code",
   "execution_count": 7,
   "metadata": {},
   "outputs": [],
   "source": [
    "def count_words(text, word):\n",
    "    return text.lower().split().count(word)\n",
    "\n",
    "products['fantastic'] = products['review'].apply(lambda x: count_words(x, 'fantastic'))\n",
    "products['terrible'] = products['review'].apply(lambda x: count_words(x, 'terrible'))\n"
   ]
  },
  {
   "cell_type": "code",
   "execution_count": 8,
   "metadata": {},
   "outputs": [
    {
     "data": {
      "application/vnd.microsoft.datawrangler.viewer.v0+json": {
       "columns": [
        {
         "name": "index",
         "rawType": "int64",
         "type": "integer"
        },
        {
         "name": "name",
         "rawType": "object",
         "type": "string"
        },
        {
         "name": "review",
         "rawType": "object",
         "type": "string"
        },
        {
         "name": "rating",
         "rawType": "int64",
         "type": "integer"
        },
        {
         "name": "fantastic",
         "rawType": "int64",
         "type": "integer"
        },
        {
         "name": "terrible",
         "rawType": "int64",
         "type": "integer"
        }
       ],
       "conversionMethod": "pd.DataFrame",
       "ref": "4192dc53-7ffc-429d-9845-78398fa1d23c",
       "rows": [
        [
         "0",
         "Planetwise Flannel Wipes",
         "these flannel wipes are ok but in my opinion not worth keeping  i also ordered someimse vimse cloth wipesocean blue12 countwhich are larger had a nicer softer texture and just seemed higher quality  i use cloth wipes for hands and faces and have been usingthirsties 6 pack fab wipes boyfor about 8 months now and need to replace them because they are starting to get rough and have had stink issues for a while that stripping no longer handles",
         "3",
         "0",
         "0"
        ],
        [
         "1",
         "Planetwise Wipe Pouch",
         "it came early and was not disappointed i love planet wise bags and now my wipe holder it keps my osocozy wipes moist and does not leak highly recommend it",
         "5",
         "0",
         "0"
        ],
        [
         "2",
         "Annas Dream Full Quilt with 2 Shams",
         "very soft and comfortable and warmer than it looksfit the full size bed perfectlywould recommend to anyone looking for this type of quilt",
         "5",
         "0",
         "0"
        ],
        [
         "3",
         "Stop Pacifier Sucking without tears with Thumbuddy To Love's Binky Fairy Puppet and Adorable Book",
         "this is a product well worth the purchase  i have not found anything else like this and it is a positive ingenious approach to losing the binky  what i love most about this product is how much ownership my daughter has in getting rid of the binky  she is so proud of herself and loves her little fairy  i love the artwork the chart in the back and the clever approach of this tool",
         "5",
         "0",
         "0"
        ],
        [
         "4",
         "Stop Pacifier Sucking without tears with Thumbuddy To Love's Binky Fairy Puppet and Adorable Book",
         "all of my kids have cried nonstop when i tried to ween them off their pacifier until i found thumbuddy to loves binky fairy puppet  it is an easy way to work with your kids to allow them to understand where their pacifier is going and help them part from itthis is a must buy book and a great gift for expecting parents  you will save them soo many headachesthanks for this book  you all rock",
         "5",
         "0",
         "0"
        ]
       ],
       "shape": {
        "columns": 5,
        "rows": 5
       }
      },
      "text/html": [
       "<div>\n",
       "<style scoped>\n",
       "    .dataframe tbody tr th:only-of-type {\n",
       "        vertical-align: middle;\n",
       "    }\n",
       "\n",
       "    .dataframe tbody tr th {\n",
       "        vertical-align: top;\n",
       "    }\n",
       "\n",
       "    .dataframe thead th {\n",
       "        text-align: right;\n",
       "    }\n",
       "</style>\n",
       "<table border=\"1\" class=\"dataframe\">\n",
       "  <thead>\n",
       "    <tr style=\"text-align: right;\">\n",
       "      <th></th>\n",
       "      <th>name</th>\n",
       "      <th>review</th>\n",
       "      <th>rating</th>\n",
       "      <th>fantastic</th>\n",
       "      <th>terrible</th>\n",
       "    </tr>\n",
       "  </thead>\n",
       "  <tbody>\n",
       "    <tr>\n",
       "      <th>0</th>\n",
       "      <td>Planetwise Flannel Wipes</td>\n",
       "      <td>these flannel wipes are ok but in my opinion n...</td>\n",
       "      <td>3</td>\n",
       "      <td>0</td>\n",
       "      <td>0</td>\n",
       "    </tr>\n",
       "    <tr>\n",
       "      <th>1</th>\n",
       "      <td>Planetwise Wipe Pouch</td>\n",
       "      <td>it came early and was not disappointed i love ...</td>\n",
       "      <td>5</td>\n",
       "      <td>0</td>\n",
       "      <td>0</td>\n",
       "    </tr>\n",
       "    <tr>\n",
       "      <th>2</th>\n",
       "      <td>Annas Dream Full Quilt with 2 Shams</td>\n",
       "      <td>very soft and comfortable and warmer than it l...</td>\n",
       "      <td>5</td>\n",
       "      <td>0</td>\n",
       "      <td>0</td>\n",
       "    </tr>\n",
       "    <tr>\n",
       "      <th>3</th>\n",
       "      <td>Stop Pacifier Sucking without tears with Thumb...</td>\n",
       "      <td>this is a product well worth the purchase  i h...</td>\n",
       "      <td>5</td>\n",
       "      <td>0</td>\n",
       "      <td>0</td>\n",
       "    </tr>\n",
       "    <tr>\n",
       "      <th>4</th>\n",
       "      <td>Stop Pacifier Sucking without tears with Thumb...</td>\n",
       "      <td>all of my kids have cried nonstop when i tried...</td>\n",
       "      <td>5</td>\n",
       "      <td>0</td>\n",
       "      <td>0</td>\n",
       "    </tr>\n",
       "  </tbody>\n",
       "</table>\n",
       "</div>"
      ],
      "text/plain": [
       "                                                name  \\\n",
       "0                           Planetwise Flannel Wipes   \n",
       "1                              Planetwise Wipe Pouch   \n",
       "2                Annas Dream Full Quilt with 2 Shams   \n",
       "3  Stop Pacifier Sucking without tears with Thumb...   \n",
       "4  Stop Pacifier Sucking without tears with Thumb...   \n",
       "\n",
       "                                              review  rating  fantastic  \\\n",
       "0  these flannel wipes are ok but in my opinion n...       3          0   \n",
       "1  it came early and was not disappointed i love ...       5          0   \n",
       "2  very soft and comfortable and warmer than it l...       5          0   \n",
       "3  this is a product well worth the purchase  i h...       5          0   \n",
       "4  all of my kids have cried nonstop when i tried...       5          0   \n",
       "\n",
       "   terrible  \n",
       "0         0  \n",
       "1         0  \n",
       "2         0  \n",
       "3         0  \n",
       "4         0  "
      ]
     },
     "execution_count": 8,
     "metadata": {},
     "output_type": "execute_result"
    }
   ],
   "source": [
    "products.head()"
   ]
  },
  {
   "cell_type": "code",
   "execution_count": 9,
   "metadata": {},
   "outputs": [
    {
     "name": "stdout",
     "output_type": "stream",
     "text": [
      "fantastic = 0.9872734937065066\n",
      "terrible = -2.2123911857342513\n"
     ]
    }
   ],
   "source": [
    "products = products[ products['rating'] != 3]\n",
    "products['sentiment'] = products['rating'] >=4\n",
    "\n",
    "X = products[['fantastic', 'terrible']]\n",
    "y = products['sentiment']\n",
    "\n",
    "X_train, X_test, y_train, y_test = train_test_split( X,y, test_size=0.2, random_state=42)\n",
    "\n",
    "model = LogisticRegression(solver='lbfgs', max_iter=100).fit( X_train, y_train )\n",
    "\n",
    "print(f\"fantastic = {model.coef_[0][0]}\")\n",
    "print(f\"terrible = {model.coef_[0][1]}\")"
   ]
  },
  {
   "cell_type": "code",
   "execution_count": 10,
   "metadata": {},
   "outputs": [
    {
     "name": "stdout",
     "output_type": "stream",
     "text": [
      "0.8436028904680519\n",
      "0.5148720879707679\n"
     ]
    }
   ],
   "source": [
    "predicted = model.predict( X_test )\n",
    "predicted_probability = model.predict_proba(X_test)[:, 1]\n",
    "\n",
    "print(metrics.accuracy_score(y_test, predicted)) #Score\n",
    "print(metrics.roc_auc_score(y_test, predicted_probability))"
   ]
  },
  {
   "cell_type": "markdown",
   "metadata": {},
   "source": [
    "0.9335851998440826\n",
    "\n",
    "0.9563326306365713"
   ]
  },
  {
   "cell_type": "code",
   "execution_count": 11,
   "metadata": {},
   "outputs": [],
   "source": [
    "My_reviews = products[ products['name'] == 'Medela Freestyle Breast Pump' ].copy()\n",
    "My_reviews_filtered = My_reviews[(My_reviews['fantastic'] > 0) | (My_reviews['terrible'] > 0)].copy()\n",
    "\n",
    "My_vect_dtm = My_reviews_filtered[['fantastic', 'terrible']]\n",
    "\n",
    "My_reviews_filtered['predicted_sentiment'] = model.predict(My_vect_dtm)\n",
    "My_reviews_filtered['predicted_sentiment_proba'] = model.predict_proba(My_vect_dtm)[:, 1]\n",
    "\n",
    "My_reviews_filtered = My_reviews_filtered.sort_values('rating', ascending=False)"
   ]
  },
  {
   "cell_type": "code",
   "execution_count": 12,
   "metadata": {},
   "outputs": [
    {
     "data": {
      "application/vnd.microsoft.datawrangler.viewer.v0+json": {
       "columns": [
        {
         "name": "index",
         "rawType": "int64",
         "type": "integer"
        },
        {
         "name": "review",
         "rawType": "object",
         "type": "string"
        },
        {
         "name": "rating",
         "rawType": "int64",
         "type": "integer"
        },
        {
         "name": "fantastic",
         "rawType": "int64",
         "type": "integer"
        },
        {
         "name": "terrible",
         "rawType": "int64",
         "type": "integer"
        },
        {
         "name": "predicted_sentiment",
         "rawType": "bool",
         "type": "boolean"
        },
        {
         "name": "predicted_sentiment_proba",
         "rawType": "float64",
         "type": "float"
        }
       ],
       "conversionMethod": "pd.DataFrame",
       "ref": "1c6d7418-745d-4b8c-930c-d05b4ec5d3e5",
       "rows": [
        [
         "56900",
         "i thought long and hard about purchasing this  the cost seemed so high and i really wasnt sure it was worth it  i caved and i am glad i did  the hands free option is fantastic  if you buy a medela nursing bra and use the same one each time it really makes the set up much faster and easier  it comes with nursing bra attachments for all other bras so the medela bra isnt necessary but i prefer it  i like the fact that i can work on the computer fix meals and walk around while pumping which is critical with a two year old and an 8 week old  one improvement i would like to see is for it to be spill proof  when you are finished pumping and taking off everything you have to be very careful to keep it upright and when setting it down the flanges seem to make it top heavy and it will easily tip over  ok so i wasnt really thinking but i bent over to check on baby and out came all of the milk i had pumped so it can be very frustrating to lose any precious milk let alone the clean upi really recommend this especially if you plan to pump at work or have an older child  it really helps with multitasking",
         "4",
         "1",
         "0",
         "True",
         "0.9351229591680739"
        ],
        [
         "56891",
         "i owned a pis when i was expressing for my daughter 8 years ago and i never had any problems with it i was an exclusive pumper and maintained a very good milk supply with my pis for over 6 months until my daughter was eating baby food and i stopped pumping i made enough milk i could have fed a small village we werent planning on having any more children so i gave the pump away after a few years i know you arent supposed to do that but i gave it to a family member it still worked i hated that you couldnt take the pump out of the bag though dragging that bag everywhere was a pain and was not discrete but it was the best pump on the market at the timewhen i became pregnant with my son in 2010 surprise i knew i needed a pump i was attracted to the freestyle because it was so small portable and wasnt attached to a bag when you pump exclusively you have to be able to pump whenever and wherever you need to so i chose it over the pis even though i knew that the pis could stand up to pumping 8 times per day i just assumed that because the medela brand is so respected that their top of the line pump would be able to meet my needs i also stuck it in a petunia pickle bottom bag which is much cuter than the tote bags that come with these pumpsmy son was born premature in april and ended up in the nicu i was given a medela symphony with the kit to use while hospitalized to build up my milk supply i used that for one week and then started using my freestyle and taking the expressed milk into the unit for my son the freestyle worked as well as the symphony in building my milk supply and i was able to express all my milk in 15 minutes and get large volumes i used the pump everywhere with a breastfeeding cover i pumped in the car in the ladies lounge in lactation rooms at babies r us in the nicu at my daughters school etc it is so convenient  i could not have been happier and didnt mind the 370 i spent on the pumpabout three weeks ago i started to have issues with low volume when i pumped i have an overabundant milk supply so i thought it was strange that i was having problems i replaced the valves i had only been using the pump for 7 weeks so i was annoyed that the valve already needed to be replaced and i still got varying degrees of milk i started fenugreek and included more water in my diet the problems persisted until i ended up with a clogged milk duct three days ago with no volume at all out of one breast i had to pump for 45 minutes to get any milk at all out of the nonclogged breast btw the pump cuts itself off at 32 minutes so i had to restart it each time i didnt think it was my pump since i never had any problems with the pis and the pump was still making its wahwah noise so out of desperation i paid a private lactation consultant 100 to meet with her the first thing she did was test the suction on my freestyle it was half what it should have been even jacked all the way up to l8 i have only been using the pump for 11 weeks and the motor burned out there is no way i could continue to use it unless i wanted to lose my milk supply my son has terrible reflux and cant tolerate formula so the faulty pump was a crisis at my house so i rented a medela lactina hospitalgrade pump for 50 bucks and i was able to recover i am using it as i write this but i am going back to work in two weeks and i cant possibly tote the lactina to work plus i already spent 400 on the freestyle and dont want to keep paying the rental fees on the lactinai called medela this morning and they are replacing the pump no questions asked i dont even have the receipt anymore and they were fine with that they are even overnighting it to me the ease with which they agreed to replace my pump makes me wonder if they know there is an issue with this pump the customer service was wonderful which is such a relief since you cant always count on that the rep let me know that the pump motor had been redesigned and i shouldnt have any more problems with it including the black dust problem which i also had who knows if that is true i am certainly going to be more on top of any volume issues this timesopros convenience convenience convenience  you can take this pump anywhere works as well as a hospital grade pump assuming the motor keeps going and you can establish a milk supply with it if you only plan to pump two or three times a day while away from your baby it is probably a great pumpconsit does not seem to be durable enough for exclusive pumping the pis worked like a charm for exclusive pumping expense  it is the most expensive personal pump on the market so it is very annoying that quality didnt match pricethe softshields that come with the pump turn yellow and warp meaning they will need to be replaced frequently i replaced the first set within days of first using them because i put them in the steam sterilizer and they warped  would have been nice if medela had let me know not to do this  cost 14 once my milk supply was established the softshields were too small for my breasts and i had to purchase the larger size hard plastic shields costing me another 14 they also are not as comfortable as the softshields the valve has to be replaced frequently and you have to buy the entire portion that attaches to the shields you cant just replace the rubber valve cost 19 taking all the parts apart and cleaning them after every pump is annoying and time consuming much more complicated than the pis parts it is finicky  if you dont have the parts snapped on just right there is no suction i have to adjust multiple times while pumping it leaks milk on you if you bend over because of a giant gap in the part that holds the valve ive lost ounces the freestyle cost me 370 for the pump 14 to replace the less then durable softshields 14 to purchase larger breast shields since the pump only comes with one size 19 to replace the valves 100 to meet with the lc and 50 to rent the lactina  not to mention the stress it caused me by losing suction and messing up my milk supply and the pain of the clogged duct thanks to the lactina my supply has been saved and i am back to only having to pump for 15 minutes i certainly hope the new freestyle doesnt die on memy advice if you plan on doing a lot of pumping or find yourself needing to even though it wasnt your plan get the pis metro bag it seems to combine the best of both worlds  a reliable strong pump that is more portable than the regular pis because you can remove the pump from the bag it is also cheaperi hope this helps someone make a better choice than i did i really wish i had the pis metro bag but cant justify spending anymore money on breast pumps",
         "2",
         "0",
         "1",
         "False",
         "0.37017166268207435"
        ]
       ],
       "shape": {
        "columns": 6,
        "rows": 2
       }
      },
      "text/html": [
       "<div>\n",
       "<style scoped>\n",
       "    .dataframe tbody tr th:only-of-type {\n",
       "        vertical-align: middle;\n",
       "    }\n",
       "\n",
       "    .dataframe tbody tr th {\n",
       "        vertical-align: top;\n",
       "    }\n",
       "\n",
       "    .dataframe thead th {\n",
       "        text-align: right;\n",
       "    }\n",
       "</style>\n",
       "<table border=\"1\" class=\"dataframe\">\n",
       "  <thead>\n",
       "    <tr style=\"text-align: right;\">\n",
       "      <th></th>\n",
       "      <th>review</th>\n",
       "      <th>rating</th>\n",
       "      <th>fantastic</th>\n",
       "      <th>terrible</th>\n",
       "      <th>predicted_sentiment</th>\n",
       "      <th>predicted_sentiment_proba</th>\n",
       "    </tr>\n",
       "  </thead>\n",
       "  <tbody>\n",
       "    <tr>\n",
       "      <th>56900</th>\n",
       "      <td>i thought long and hard about purchasing this ...</td>\n",
       "      <td>4</td>\n",
       "      <td>1</td>\n",
       "      <td>0</td>\n",
       "      <td>True</td>\n",
       "      <td>0.935123</td>\n",
       "    </tr>\n",
       "    <tr>\n",
       "      <th>56891</th>\n",
       "      <td>i owned a pis when i was expressing for my dau...</td>\n",
       "      <td>2</td>\n",
       "      <td>0</td>\n",
       "      <td>1</td>\n",
       "      <td>False</td>\n",
       "      <td>0.370172</td>\n",
       "    </tr>\n",
       "  </tbody>\n",
       "</table>\n",
       "</div>"
      ],
      "text/plain": [
       "                                                  review  rating  fantastic  \\\n",
       "56900  i thought long and hard about purchasing this ...       4          1   \n",
       "56891  i owned a pis when i was expressing for my dau...       2          0   \n",
       "\n",
       "       terrible  predicted_sentiment  predicted_sentiment_proba  \n",
       "56900         0                 True                   0.935123  \n",
       "56891         1                False                   0.370172  "
      ]
     },
     "execution_count": 12,
     "metadata": {},
     "output_type": "execute_result"
    }
   ],
   "source": [
    "My_reviews_filtered[['review', 'rating', 'fantastic', 'terrible', 'predicted_sentiment', 'predicted_sentiment_proba']].head(2)"
   ]
  },
  {
   "cell_type": "code",
   "execution_count": 13,
   "metadata": {},
   "outputs": [
    {
     "data": {
      "application/vnd.microsoft.datawrangler.viewer.v0+json": {
       "columns": [
        {
         "name": "index",
         "rawType": "int64",
         "type": "integer"
        },
        {
         "name": "review",
         "rawType": "object",
         "type": "string"
        },
        {
         "name": "rating",
         "rawType": "int64",
         "type": "integer"
        },
        {
         "name": "fantastic",
         "rawType": "int64",
         "type": "integer"
        },
        {
         "name": "terrible",
         "rawType": "int64",
         "type": "integer"
        },
        {
         "name": "predicted_sentiment",
         "rawType": "bool",
         "type": "boolean"
        },
        {
         "name": "predicted_sentiment_proba",
         "rawType": "float64",
         "type": "float"
        }
       ],
       "conversionMethod": "pd.DataFrame",
       "ref": "da464cf8-37f8-40c9-8244-5913b115d975",
       "rows": [
        [
         "56907",
         "i just had my second baby for my first i used a medela pump in style advanced for 14 months pumping 45 timesday while at work it worked great and i breastfed exclusively for all 14 monthswith my second baby i decided to take advantage of the fact that my insurance now reimburses for part of the cost and purchased a freestyle i assumed that since it was more expensive it was a better pump wrong i have had this pump for two weeks now and the suction is terrible luckily i am a second time mom and so i realized that it didnt seem like i was getting as much milk as with my first so i started pumping with my old pump after each freestyle pumping session and sure enough i got several more ounces of milk out of each breast the freestyle doesnt even come close to fully emptying my breasts and would surely hurt milk supply if used longtermi called medela to see what they would do and they would only send me a new freestyle which i dont want and not a pump in style which is a less expensive pump so i am now stuck with a pump that i will not use that cost almost 400 dont make the same mistake as me  save your money and get a pump in style or just get another brand that actually works",
         "1",
         "0",
         "1",
         "False",
         "0.37017166268207435"
        ],
        [
         "56923",
         "save your money this is a piece of junkspecifically1 suction is terrible even on the highest setting it only got out a little foremilk no hindmilk i had to use a hand pump to finish even after 15 minutes of pumping2 loud as hell it woke up my sleeping baby3 vibrates terribly its like one of the vibrating beds at a cheap motel extremely annoyingi threw it in the trash after one use i cant even return it because it has been used ",
         "1",
         "0",
         "1",
         "False",
         "0.37017166268207435"
        ]
       ],
       "shape": {
        "columns": 6,
        "rows": 2
       }
      },
      "text/html": [
       "<div>\n",
       "<style scoped>\n",
       "    .dataframe tbody tr th:only-of-type {\n",
       "        vertical-align: middle;\n",
       "    }\n",
       "\n",
       "    .dataframe tbody tr th {\n",
       "        vertical-align: top;\n",
       "    }\n",
       "\n",
       "    .dataframe thead th {\n",
       "        text-align: right;\n",
       "    }\n",
       "</style>\n",
       "<table border=\"1\" class=\"dataframe\">\n",
       "  <thead>\n",
       "    <tr style=\"text-align: right;\">\n",
       "      <th></th>\n",
       "      <th>review</th>\n",
       "      <th>rating</th>\n",
       "      <th>fantastic</th>\n",
       "      <th>terrible</th>\n",
       "      <th>predicted_sentiment</th>\n",
       "      <th>predicted_sentiment_proba</th>\n",
       "    </tr>\n",
       "  </thead>\n",
       "  <tbody>\n",
       "    <tr>\n",
       "      <th>56907</th>\n",
       "      <td>i just had my second baby for my first i used ...</td>\n",
       "      <td>1</td>\n",
       "      <td>0</td>\n",
       "      <td>1</td>\n",
       "      <td>False</td>\n",
       "      <td>0.370172</td>\n",
       "    </tr>\n",
       "    <tr>\n",
       "      <th>56923</th>\n",
       "      <td>save your money this is a piece of junkspecifi...</td>\n",
       "      <td>1</td>\n",
       "      <td>0</td>\n",
       "      <td>1</td>\n",
       "      <td>False</td>\n",
       "      <td>0.370172</td>\n",
       "    </tr>\n",
       "  </tbody>\n",
       "</table>\n",
       "</div>"
      ],
      "text/plain": [
       "                                                  review  rating  fantastic  \\\n",
       "56907  i just had my second baby for my first i used ...       1          0   \n",
       "56923  save your money this is a piece of junkspecifi...       1          0   \n",
       "\n",
       "       terrible  predicted_sentiment  predicted_sentiment_proba  \n",
       "56907         1                False                   0.370172  \n",
       "56923         1                False                   0.370172  "
      ]
     },
     "execution_count": 13,
     "metadata": {},
     "output_type": "execute_result"
    }
   ],
   "source": [
    "My_reviews_filtered[['review', 'rating', 'fantastic', 'terrible', 'predicted_sentiment', 'predicted_sentiment_proba']].tail(2)"
   ]
  }
 ],
 "metadata": {
  "kernelspec": {
   "display_name": "py_envs",
   "language": "python",
   "name": "python3"
  },
  "language_info": {
   "codemirror_mode": {
    "name": "ipython",
    "version": 3
   },
   "file_extension": ".py",
   "mimetype": "text/x-python",
   "name": "python",
   "nbconvert_exporter": "python",
   "pygments_lexer": "ipython3",
   "version": "3.12.3"
  }
 },
 "nbformat": 4,
 "nbformat_minor": 1
}
