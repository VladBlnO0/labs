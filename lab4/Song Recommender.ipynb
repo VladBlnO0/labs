{
 "cells": [
  {
   "cell_type": "code",
   "execution_count": 60,
   "metadata": {},
   "outputs": [],
   "source": [
    "%matplotlib inline\n",
    "import pandas\n",
    "from sklearn.model_selection import train_test_split\n",
    "import numpy as np\n",
    "import pylab as pl"
   ]
  },
  {
   "cell_type": "code",
   "execution_count": 61,
   "metadata": {},
   "outputs": [],
   "source": [
    "song_df = pandas.read_csv('./song_data.csv')"
   ]
  },
  {
   "cell_type": "code",
   "execution_count": 62,
   "metadata": {},
   "outputs": [
    {
     "data": {
      "application/vnd.microsoft.datawrangler.viewer.v0+json": {
       "columns": [
        {
         "name": "index",
         "rawType": "int64",
         "type": "integer"
        },
        {
         "name": "user_id",
         "rawType": "object",
         "type": "string"
        },
        {
         "name": "song_id",
         "rawType": "object",
         "type": "string"
        },
        {
         "name": "listen_count",
         "rawType": "int64",
         "type": "integer"
        },
        {
         "name": "title",
         "rawType": "object",
         "type": "string"
        },
        {
         "name": "artist",
         "rawType": "object",
         "type": "string"
        },
        {
         "name": "song",
         "rawType": "object",
         "type": "string"
        }
       ],
       "conversionMethod": "pd.DataFrame",
       "ref": "a79da583-ff98-428a-b3ee-0bc991fad5a1",
       "rows": [
        [
         "0",
         "b80344d063b5ccb3212f76538f3d9e43d87dca9e",
         "SOAKIMP12A8C130995",
         "1",
         "The Cove",
         "Jack Johnson",
         "The Cove - Jack Johnson"
        ],
        [
         "1",
         "b80344d063b5ccb3212f76538f3d9e43d87dca9e",
         "SOBBMDR12A8C13253B",
         "2",
         "Entre Dos Aguas",
         "Paco De Lucia",
         "Entre Dos Aguas - Paco De Lucia"
        ],
        [
         "2",
         "b80344d063b5ccb3212f76538f3d9e43d87dca9e",
         "SOBXHDL12A81C204C0",
         "1",
         "Stronger",
         "Kanye West",
         "Stronger - Kanye West"
        ],
        [
         "3",
         "b80344d063b5ccb3212f76538f3d9e43d87dca9e",
         "SOBYHAJ12A6701BF1D",
         "1",
         "Constellations",
         "Jack Johnson",
         "Constellations - Jack Johnson"
        ],
        [
         "4",
         "b80344d063b5ccb3212f76538f3d9e43d87dca9e",
         "SODACBL12A8C13C273",
         "1",
         "Learn To Fly",
         "Foo Fighters",
         "Learn To Fly - Foo Fighters"
        ]
       ],
       "shape": {
        "columns": 6,
        "rows": 5
       }
      },
      "text/html": [
       "<div>\n",
       "<style scoped>\n",
       "    .dataframe tbody tr th:only-of-type {\n",
       "        vertical-align: middle;\n",
       "    }\n",
       "\n",
       "    .dataframe tbody tr th {\n",
       "        vertical-align: top;\n",
       "    }\n",
       "\n",
       "    .dataframe thead th {\n",
       "        text-align: right;\n",
       "    }\n",
       "</style>\n",
       "<table border=\"1\" class=\"dataframe\">\n",
       "  <thead>\n",
       "    <tr style=\"text-align: right;\">\n",
       "      <th></th>\n",
       "      <th>user_id</th>\n",
       "      <th>song_id</th>\n",
       "      <th>listen_count</th>\n",
       "      <th>title</th>\n",
       "      <th>artist</th>\n",
       "      <th>song</th>\n",
       "    </tr>\n",
       "  </thead>\n",
       "  <tbody>\n",
       "    <tr>\n",
       "      <th>0</th>\n",
       "      <td>b80344d063b5ccb3212f76538f3d9e43d87dca9e</td>\n",
       "      <td>SOAKIMP12A8C130995</td>\n",
       "      <td>1</td>\n",
       "      <td>The Cove</td>\n",
       "      <td>Jack Johnson</td>\n",
       "      <td>The Cove - Jack Johnson</td>\n",
       "    </tr>\n",
       "    <tr>\n",
       "      <th>1</th>\n",
       "      <td>b80344d063b5ccb3212f76538f3d9e43d87dca9e</td>\n",
       "      <td>SOBBMDR12A8C13253B</td>\n",
       "      <td>2</td>\n",
       "      <td>Entre Dos Aguas</td>\n",
       "      <td>Paco De Lucia</td>\n",
       "      <td>Entre Dos Aguas - Paco De Lucia</td>\n",
       "    </tr>\n",
       "    <tr>\n",
       "      <th>2</th>\n",
       "      <td>b80344d063b5ccb3212f76538f3d9e43d87dca9e</td>\n",
       "      <td>SOBXHDL12A81C204C0</td>\n",
       "      <td>1</td>\n",
       "      <td>Stronger</td>\n",
       "      <td>Kanye West</td>\n",
       "      <td>Stronger - Kanye West</td>\n",
       "    </tr>\n",
       "    <tr>\n",
       "      <th>3</th>\n",
       "      <td>b80344d063b5ccb3212f76538f3d9e43d87dca9e</td>\n",
       "      <td>SOBYHAJ12A6701BF1D</td>\n",
       "      <td>1</td>\n",
       "      <td>Constellations</td>\n",
       "      <td>Jack Johnson</td>\n",
       "      <td>Constellations - Jack Johnson</td>\n",
       "    </tr>\n",
       "    <tr>\n",
       "      <th>4</th>\n",
       "      <td>b80344d063b5ccb3212f76538f3d9e43d87dca9e</td>\n",
       "      <td>SODACBL12A8C13C273</td>\n",
       "      <td>1</td>\n",
       "      <td>Learn To Fly</td>\n",
       "      <td>Foo Fighters</td>\n",
       "      <td>Learn To Fly - Foo Fighters</td>\n",
       "    </tr>\n",
       "  </tbody>\n",
       "</table>\n",
       "</div>"
      ],
      "text/plain": [
       "                                    user_id             song_id  listen_count  \\\n",
       "0  b80344d063b5ccb3212f76538f3d9e43d87dca9e  SOAKIMP12A8C130995             1   \n",
       "1  b80344d063b5ccb3212f76538f3d9e43d87dca9e  SOBBMDR12A8C13253B             2   \n",
       "2  b80344d063b5ccb3212f76538f3d9e43d87dca9e  SOBXHDL12A81C204C0             1   \n",
       "3  b80344d063b5ccb3212f76538f3d9e43d87dca9e  SOBYHAJ12A6701BF1D             1   \n",
       "4  b80344d063b5ccb3212f76538f3d9e43d87dca9e  SODACBL12A8C13C273             1   \n",
       "\n",
       "             title         artist                             song  \n",
       "0         The Cove   Jack Johnson          The Cove - Jack Johnson  \n",
       "1  Entre Dos Aguas  Paco De Lucia  Entre Dos Aguas - Paco De Lucia  \n",
       "2         Stronger     Kanye West            Stronger - Kanye West  \n",
       "3   Constellations   Jack Johnson    Constellations - Jack Johnson  \n",
       "4     Learn To Fly   Foo Fighters      Learn To Fly - Foo Fighters  "
      ]
     },
     "execution_count": 62,
     "metadata": {},
     "output_type": "execute_result"
    }
   ],
   "source": [
    "song_df.head()"
   ]
  },
  {
   "cell_type": "code",
   "execution_count": 63,
   "metadata": {},
   "outputs": [
    {
     "data": {
      "text/plain": [
       "1116609"
      ]
     },
     "execution_count": 63,
     "metadata": {},
     "output_type": "execute_result"
    }
   ],
   "source": [
    "len(song_df)"
   ]
  },
  {
   "cell_type": "code",
   "execution_count": 64,
   "metadata": {},
   "outputs": [],
   "source": [
    "song_df = song_df.head(10000)"
   ]
  },
  {
   "cell_type": "code",
   "execution_count": 65,
   "metadata": {},
   "outputs": [
    {
     "data": {
      "application/vnd.microsoft.datawrangler.viewer.v0+json": {
       "columns": [
        {
         "name": "index",
         "rawType": "int64",
         "type": "integer"
        },
        {
         "name": "song",
         "rawType": "object",
         "type": "string"
        },
        {
         "name": "listen_count",
         "rawType": "int64",
         "type": "integer"
        },
        {
         "name": "percentage",
         "rawType": "float64",
         "type": "float"
        }
       ],
       "conversionMethod": "pd.DataFrame",
       "ref": "ce4d951c-1596-46ef-860a-fc4703b89ce5",
       "rows": [
        [
         "3699",
         "Sehr kosmisch - Harmonia",
         "50",
         "0.5"
        ],
        [
         "1067",
         "Dog Days Are Over (Radio Edit) - Florence + The Machine",
         "48",
         "0.48"
        ],
        [
         "4690",
         "Undo - Björk",
         "46",
         "0.45999999999999996"
        ],
        [
         "5117",
         "You're The One - Dwight Yoakam",
         "43",
         "0.43"
        ],
        [
         "3691",
         "Secrets - OneRepublic",
         "42",
         "0.42"
        ],
        [
         "3511",
         "Revelry - Kings Of Leon",
         "38",
         "0.38"
        ],
        [
         "1889",
         "Horn Concerto No. 4 in E flat K495: II. Romance (Andante cantabile) - Barry Tuckwell/Academy of St Martin-in-the-Fields/Sir Neville Marriner",
         "36",
         "0.36"
        ],
        [
         "1407",
         "Fireflies - Charttraxx Karaoke",
         "33",
         "0.33"
        ],
        [
         "4412",
         "The Scientist - Coldplay",
         "28",
         "0.27999999999999997"
        ],
        [
         "1829",
         "Hey_ Soul Sister - Train",
         "25",
         "0.25"
        ]
       ],
       "shape": {
        "columns": 3,
        "rows": 10
       }
      },
      "text/html": [
       "<div>\n",
       "<style scoped>\n",
       "    .dataframe tbody tr th:only-of-type {\n",
       "        vertical-align: middle;\n",
       "    }\n",
       "\n",
       "    .dataframe tbody tr th {\n",
       "        vertical-align: top;\n",
       "    }\n",
       "\n",
       "    .dataframe thead th {\n",
       "        text-align: right;\n",
       "    }\n",
       "</style>\n",
       "<table border=\"1\" class=\"dataframe\">\n",
       "  <thead>\n",
       "    <tr style=\"text-align: right;\">\n",
       "      <th></th>\n",
       "      <th>song</th>\n",
       "      <th>listen_count</th>\n",
       "      <th>percentage</th>\n",
       "    </tr>\n",
       "  </thead>\n",
       "  <tbody>\n",
       "    <tr>\n",
       "      <th>3699</th>\n",
       "      <td>Sehr kosmisch - Harmonia</td>\n",
       "      <td>50</td>\n",
       "      <td>0.50</td>\n",
       "    </tr>\n",
       "    <tr>\n",
       "      <th>1067</th>\n",
       "      <td>Dog Days Are Over (Radio Edit) - Florence + Th...</td>\n",
       "      <td>48</td>\n",
       "      <td>0.48</td>\n",
       "    </tr>\n",
       "    <tr>\n",
       "      <th>4690</th>\n",
       "      <td>Undo - Björk</td>\n",
       "      <td>46</td>\n",
       "      <td>0.46</td>\n",
       "    </tr>\n",
       "    <tr>\n",
       "      <th>5117</th>\n",
       "      <td>You're The One - Dwight Yoakam</td>\n",
       "      <td>43</td>\n",
       "      <td>0.43</td>\n",
       "    </tr>\n",
       "    <tr>\n",
       "      <th>3691</th>\n",
       "      <td>Secrets - OneRepublic</td>\n",
       "      <td>42</td>\n",
       "      <td>0.42</td>\n",
       "    </tr>\n",
       "    <tr>\n",
       "      <th>3511</th>\n",
       "      <td>Revelry - Kings Of Leon</td>\n",
       "      <td>38</td>\n",
       "      <td>0.38</td>\n",
       "    </tr>\n",
       "    <tr>\n",
       "      <th>1889</th>\n",
       "      <td>Horn Concerto No. 4 in E flat K495: II. Romanc...</td>\n",
       "      <td>36</td>\n",
       "      <td>0.36</td>\n",
       "    </tr>\n",
       "    <tr>\n",
       "      <th>1407</th>\n",
       "      <td>Fireflies - Charttraxx Karaoke</td>\n",
       "      <td>33</td>\n",
       "      <td>0.33</td>\n",
       "    </tr>\n",
       "    <tr>\n",
       "      <th>4412</th>\n",
       "      <td>The Scientist - Coldplay</td>\n",
       "      <td>28</td>\n",
       "      <td>0.28</td>\n",
       "    </tr>\n",
       "    <tr>\n",
       "      <th>1829</th>\n",
       "      <td>Hey_ Soul Sister - Train</td>\n",
       "      <td>25</td>\n",
       "      <td>0.25</td>\n",
       "    </tr>\n",
       "  </tbody>\n",
       "</table>\n",
       "</div>"
      ],
      "text/plain": [
       "                                                   song  listen_count  \\\n",
       "3699                           Sehr kosmisch - Harmonia            50   \n",
       "1067  Dog Days Are Over (Radio Edit) - Florence + Th...            48   \n",
       "4690                                       Undo - Björk            46   \n",
       "5117                     You're The One - Dwight Yoakam            43   \n",
       "3691                              Secrets - OneRepublic            42   \n",
       "3511                            Revelry - Kings Of Leon            38   \n",
       "1889  Horn Concerto No. 4 in E flat K495: II. Romanc...            36   \n",
       "1407                     Fireflies - Charttraxx Karaoke            33   \n",
       "4412                           The Scientist - Coldplay            28   \n",
       "1829                           Hey_ Soul Sister - Train            25   \n",
       "\n",
       "      percentage  \n",
       "3699        0.50  \n",
       "1067        0.48  \n",
       "4690        0.46  \n",
       "5117        0.43  \n",
       "3691        0.42  \n",
       "3511        0.38  \n",
       "1889        0.36  \n",
       "1407        0.33  \n",
       "4412        0.28  \n",
       "1829        0.25  "
      ]
     },
     "execution_count": 65,
     "metadata": {},
     "output_type": "execute_result"
    }
   ],
   "source": [
    "# Тут пісні сортуються за кількістю прослуховувань з використанням агрегації\n",
    "song_grouped = song_df.groupby(['song']).agg({'listen_count': 'count'}).reset_index()\n",
    "grouped_sum  = song_grouped['listen_count'].sum()\n",
    "\n",
    "song_grouped['percentage']  = song_grouped['listen_count'].div(grouped_sum)*100\n",
    "song_grouped.sort_values( by='percentage', ascending=False).head(10)"
   ]
  },
  {
   "cell_type": "code",
   "execution_count": 66,
   "metadata": {},
   "outputs": [
    {
     "data": {
      "text/plain": [
       "count                        10000\n",
       "unique                        5155\n",
       "top       Sehr kosmisch - Harmonia\n",
       "freq                            50\n",
       "Name: song, dtype: object"
      ]
     },
     "execution_count": 66,
     "metadata": {},
     "output_type": "execute_result"
    }
   ],
   "source": [
    "song_df['song'].describe()"
   ]
  },
  {
   "cell_type": "code",
   "execution_count": 67,
   "metadata": {},
   "outputs": [],
   "source": [
    "# Кількість записів, а також кількість користувачів\n",
    "users = song_df['user_id'].unique()"
   ]
  },
  {
   "cell_type": "code",
   "execution_count": 68,
   "metadata": {},
   "outputs": [
    {
     "data": {
      "text/plain": [
       "10000"
      ]
     },
     "execution_count": 68,
     "metadata": {},
     "output_type": "execute_result"
    }
   ],
   "source": [
    "len(song_df)"
   ]
  },
  {
   "cell_type": "code",
   "execution_count": 69,
   "metadata": {},
   "outputs": [
    {
     "data": {
      "text/plain": [
       "595"
      ]
     },
     "execution_count": 69,
     "metadata": {},
     "output_type": "execute_result"
    }
   ],
   "source": [
    "len(users)"
   ]
  },
  {
   "cell_type": "markdown",
   "metadata": {},
   "source": [
    "### Створення рекомендаційної системи для пісень – simple popularity-based recommender"
   ]
  },
  {
   "cell_type": "code",
   "execution_count": 70,
   "metadata": {
    "scrolled": true
   },
   "outputs": [
    {
     "data": {
      "application/vnd.microsoft.datawrangler.viewer.v0+json": {
       "columns": [
        {
         "name": "index",
         "rawType": "int64",
         "type": "integer"
        },
        {
         "name": "user_id",
         "rawType": "object",
         "type": "string"
        },
        {
         "name": "song_id",
         "rawType": "object",
         "type": "string"
        },
        {
         "name": "listen_count",
         "rawType": "int64",
         "type": "integer"
        },
        {
         "name": "title",
         "rawType": "object",
         "type": "string"
        },
        {
         "name": "artist",
         "rawType": "object",
         "type": "string"
        },
        {
         "name": "song",
         "rawType": "object",
         "type": "string"
        }
       ],
       "conversionMethod": "pd.DataFrame",
       "ref": "b2ccc4fd-2114-4cfe-85e6-da4cfeea0586",
       "rows": [
        [
         "7389",
         "354cfdb566f543bb5b810a4d8959d974a30797fd",
         "SOPLUOT12A6D4F7AC3",
         "1",
         "Intergalactic",
         "Beastie Boys",
         "Intergalactic - Beastie Boys"
        ],
        [
         "9275",
         "0ec9cc33028dff6209aa49bf645ef64bdcbe00fc",
         "SOHAZRY12A8C13BC47",
         "12",
         "Southside",
         "Common / Kanye West",
         "Southside - Common / Kanye West"
        ],
        [
         "2995",
         "8fce200f3912e9608e3b1463cdb9c3529aab5c08",
         "SOIBPQQ12A6310F0F4",
         "1",
         "I Bloom Blaum",
         "Coldplay",
         "I Bloom Blaum - Coldplay"
        ],
        [
         "5316",
         "7ef2a3b074b34984f3f677bddde0f1813486cc10",
         "SOUJWJW12A63110848",
         "1",
         "Sound Check (Gravity)",
         "Gorillaz",
         "Sound Check (Gravity) - Gorillaz"
        ],
        [
         "356",
         "2b6c2f33bc0e887ea7c4411f58106805a1923280",
         "SONYEOJ12A8C142E86",
         "6",
         "Breed",
         "Nirvana",
         "Breed - Nirvana"
        ]
       ],
       "shape": {
        "columns": 6,
        "rows": 5
       }
      },
      "text/html": [
       "<div>\n",
       "<style scoped>\n",
       "    .dataframe tbody tr th:only-of-type {\n",
       "        vertical-align: middle;\n",
       "    }\n",
       "\n",
       "    .dataframe tbody tr th {\n",
       "        vertical-align: top;\n",
       "    }\n",
       "\n",
       "    .dataframe thead th {\n",
       "        text-align: right;\n",
       "    }\n",
       "</style>\n",
       "<table border=\"1\" class=\"dataframe\">\n",
       "  <thead>\n",
       "    <tr style=\"text-align: right;\">\n",
       "      <th></th>\n",
       "      <th>user_id</th>\n",
       "      <th>song_id</th>\n",
       "      <th>listen_count</th>\n",
       "      <th>title</th>\n",
       "      <th>artist</th>\n",
       "      <th>song</th>\n",
       "    </tr>\n",
       "  </thead>\n",
       "  <tbody>\n",
       "    <tr>\n",
       "      <th>7389</th>\n",
       "      <td>354cfdb566f543bb5b810a4d8959d974a30797fd</td>\n",
       "      <td>SOPLUOT12A6D4F7AC3</td>\n",
       "      <td>1</td>\n",
       "      <td>Intergalactic</td>\n",
       "      <td>Beastie Boys</td>\n",
       "      <td>Intergalactic - Beastie Boys</td>\n",
       "    </tr>\n",
       "    <tr>\n",
       "      <th>9275</th>\n",
       "      <td>0ec9cc33028dff6209aa49bf645ef64bdcbe00fc</td>\n",
       "      <td>SOHAZRY12A8C13BC47</td>\n",
       "      <td>12</td>\n",
       "      <td>Southside</td>\n",
       "      <td>Common / Kanye West</td>\n",
       "      <td>Southside - Common / Kanye West</td>\n",
       "    </tr>\n",
       "    <tr>\n",
       "      <th>2995</th>\n",
       "      <td>8fce200f3912e9608e3b1463cdb9c3529aab5c08</td>\n",
       "      <td>SOIBPQQ12A6310F0F4</td>\n",
       "      <td>1</td>\n",
       "      <td>I Bloom Blaum</td>\n",
       "      <td>Coldplay</td>\n",
       "      <td>I Bloom Blaum - Coldplay</td>\n",
       "    </tr>\n",
       "    <tr>\n",
       "      <th>5316</th>\n",
       "      <td>7ef2a3b074b34984f3f677bddde0f1813486cc10</td>\n",
       "      <td>SOUJWJW12A63110848</td>\n",
       "      <td>1</td>\n",
       "      <td>Sound Check (Gravity)</td>\n",
       "      <td>Gorillaz</td>\n",
       "      <td>Sound Check (Gravity) - Gorillaz</td>\n",
       "    </tr>\n",
       "    <tr>\n",
       "      <th>356</th>\n",
       "      <td>2b6c2f33bc0e887ea7c4411f58106805a1923280</td>\n",
       "      <td>SONYEOJ12A8C142E86</td>\n",
       "      <td>6</td>\n",
       "      <td>Breed</td>\n",
       "      <td>Nirvana</td>\n",
       "      <td>Breed - Nirvana</td>\n",
       "    </tr>\n",
       "  </tbody>\n",
       "</table>\n",
       "</div>"
      ],
      "text/plain": [
       "                                       user_id             song_id  \\\n",
       "7389  354cfdb566f543bb5b810a4d8959d974a30797fd  SOPLUOT12A6D4F7AC3   \n",
       "9275  0ec9cc33028dff6209aa49bf645ef64bdcbe00fc  SOHAZRY12A8C13BC47   \n",
       "2995  8fce200f3912e9608e3b1463cdb9c3529aab5c08  SOIBPQQ12A6310F0F4   \n",
       "5316  7ef2a3b074b34984f3f677bddde0f1813486cc10  SOUJWJW12A63110848   \n",
       "356   2b6c2f33bc0e887ea7c4411f58106805a1923280  SONYEOJ12A8C142E86   \n",
       "\n",
       "      listen_count                  title               artist  \\\n",
       "7389             1          Intergalactic         Beastie Boys   \n",
       "9275            12              Southside  Common / Kanye West   \n",
       "2995             1          I Bloom Blaum             Coldplay   \n",
       "5316             1  Sound Check (Gravity)             Gorillaz   \n",
       "356              6                  Breed              Nirvana   \n",
       "\n",
       "                                  song  \n",
       "7389      Intergalactic - Beastie Boys  \n",
       "9275   Southside - Common / Kanye West  \n",
       "2995          I Bloom Blaum - Coldplay  \n",
       "5316  Sound Check (Gravity) - Gorillaz  \n",
       "356                    Breed - Nirvana  "
      ]
     },
     "execution_count": 70,
     "metadata": {},
     "output_type": "execute_result"
    }
   ],
   "source": [
    "train_data, test_data = train_test_split(song_df, test_size = 0.20, random_state=0)\n",
    "train_data.head(5)"
   ]
  },
  {
   "cell_type": "code",
   "execution_count": 71,
   "metadata": {},
   "outputs": [],
   "source": [
    "#Class for Popularity based Recommender System model\n",
    "class popularity_recommender_py():\n",
    "    def __init__(self):\n",
    "        self.train_data = None\n",
    "        self.user_id = None\n",
    "        self.item_id = None\n",
    "        self.popularity_recommendations = None\n",
    "\n",
    "    #Create the popularity based recommender system model\n",
    "    def create(self, train_data, user_id, item_id):\n",
    "        self.train_data = train_data\n",
    "        self.user_id = user_id\n",
    "        self.item_id = item_id\n",
    "\n",
    "        #Get a count of user_ids for each unique song as recommendation score\n",
    "        train_data_grouped = train_data.groupby([self.item_id]).agg({self.user_id: 'count'}).reset_index()\n",
    "        train_data_grouped.rename(columns = {'user_id': 'score'},inplace=True)\n",
    "\n",
    "        #Sort the songs based upon recommendation score\n",
    "        train_data_sort = train_data_grouped.sort_values(['score', self.item_id], ascending = [0,1])\n",
    "\n",
    "        #Generate a recommendation rank based upon score\n",
    "        train_data_sort['Rank'] = train_data_sort['score'].rank(ascending=0, method='first')\n",
    "\n",
    "        #Get the top 10 recommendations\n",
    "        self.popularity_recommendations = train_data_sort.head(10)\n",
    "\n",
    "    #Use the popularity based recommender system model to\n",
    "    #make recommendations\n",
    "    def recommend(self, user_id):\n",
    "        user_recommendations = self.popularity_recommendations\n",
    "\n",
    "        #Add user_id column for which the recommendations are being generated\n",
    "        user_recommendations['user_id'] = user_id\n",
    "\n",
    "        #Bring user_id column to the front\n",
    "        cols = user_recommendations.columns.tolist()\n",
    "        cols = cols[-1:] + cols[:-1]\n",
    "        user_recommendations = user_recommendations[cols]\n",
    "\n",
    "        return user_recommendations"
   ]
  },
  {
   "cell_type": "code",
   "execution_count": 72,
   "metadata": {},
   "outputs": [],
   "source": [
    "popularity_m = popularity_recommender_py()\n",
    "popularity_m.create(train_data, 'user_id', 'song')"
   ]
  },
  {
   "cell_type": "code",
   "execution_count": 73,
   "metadata": {},
   "outputs": [
    {
     "data": {
      "application/vnd.microsoft.datawrangler.viewer.v0+json": {
       "columns": [
        {
         "name": "index",
         "rawType": "int64",
         "type": "integer"
        },
        {
         "name": "user_id",
         "rawType": "object",
         "type": "string"
        },
        {
         "name": "song",
         "rawType": "object",
         "type": "string"
        },
        {
         "name": "score",
         "rawType": "int64",
         "type": "integer"
        },
        {
         "name": "Rank",
         "rawType": "float64",
         "type": "float"
        }
       ],
       "conversionMethod": "pd.DataFrame",
       "ref": "2242ba0d-36b8-4fac-9374-1d1dd8de56c8",
       "rows": [
        [
         "3228",
         "b80344d063b5ccb3212f76538f3d9e43d87dca9e",
         "Sehr kosmisch - Harmonia",
         "44",
         "1.0"
        ],
        [
         "929",
         "b80344d063b5ccb3212f76538f3d9e43d87dca9e",
         "Dog Days Are Over (Radio Edit) - Florence + The Machine",
         "40",
         "2.0"
        ],
        [
         "4097",
         "b80344d063b5ccb3212f76538f3d9e43d87dca9e",
         "Undo - Björk",
         "35",
         "3.0"
        ],
        [
         "3222",
         "b80344d063b5ccb3212f76538f3d9e43d87dca9e",
         "Secrets - OneRepublic",
         "34",
         "4.0"
        ],
        [
         "4464",
         "b80344d063b5ccb3212f76538f3d9e43d87dca9e",
         "You're The One - Dwight Yoakam",
         "33",
         "5.0"
        ],
        [
         "1231",
         "b80344d063b5ccb3212f76538f3d9e43d87dca9e",
         "Fireflies - Charttraxx Karaoke",
         "29",
         "6.0"
        ],
        [
         "3072",
         "b80344d063b5ccb3212f76538f3d9e43d87dca9e",
         "Revelry - Kings Of Leon",
         "29",
         "7.0"
        ],
        [
         "1654",
         "b80344d063b5ccb3212f76538f3d9e43d87dca9e",
         "Horn Concerto No. 4 in E flat K495: II. Romance (Andante cantabile) - Barry Tuckwell/Academy of St Martin-in-the-Fields/Sir Neville Marriner",
         "28",
         "8.0"
        ],
        [
         "3849",
         "b80344d063b5ccb3212f76538f3d9e43d87dca9e",
         "The Scientist - Coldplay",
         "23",
         "9.0"
        ],
        [
         "1002",
         "b80344d063b5ccb3212f76538f3d9e43d87dca9e",
         "Drop The World - Lil Wayne / Eminem",
         "22",
         "10.0"
        ]
       ],
       "shape": {
        "columns": 4,
        "rows": 10
       }
      },
      "text/html": [
       "<div>\n",
       "<style scoped>\n",
       "    .dataframe tbody tr th:only-of-type {\n",
       "        vertical-align: middle;\n",
       "    }\n",
       "\n",
       "    .dataframe tbody tr th {\n",
       "        vertical-align: top;\n",
       "    }\n",
       "\n",
       "    .dataframe thead th {\n",
       "        text-align: right;\n",
       "    }\n",
       "</style>\n",
       "<table border=\"1\" class=\"dataframe\">\n",
       "  <thead>\n",
       "    <tr style=\"text-align: right;\">\n",
       "      <th></th>\n",
       "      <th>user_id</th>\n",
       "      <th>song</th>\n",
       "      <th>score</th>\n",
       "      <th>Rank</th>\n",
       "    </tr>\n",
       "  </thead>\n",
       "  <tbody>\n",
       "    <tr>\n",
       "      <th>3228</th>\n",
       "      <td>b80344d063b5ccb3212f76538f3d9e43d87dca9e</td>\n",
       "      <td>Sehr kosmisch - Harmonia</td>\n",
       "      <td>44</td>\n",
       "      <td>1.0</td>\n",
       "    </tr>\n",
       "    <tr>\n",
       "      <th>929</th>\n",
       "      <td>b80344d063b5ccb3212f76538f3d9e43d87dca9e</td>\n",
       "      <td>Dog Days Are Over (Radio Edit) - Florence + Th...</td>\n",
       "      <td>40</td>\n",
       "      <td>2.0</td>\n",
       "    </tr>\n",
       "    <tr>\n",
       "      <th>4097</th>\n",
       "      <td>b80344d063b5ccb3212f76538f3d9e43d87dca9e</td>\n",
       "      <td>Undo - Björk</td>\n",
       "      <td>35</td>\n",
       "      <td>3.0</td>\n",
       "    </tr>\n",
       "    <tr>\n",
       "      <th>3222</th>\n",
       "      <td>b80344d063b5ccb3212f76538f3d9e43d87dca9e</td>\n",
       "      <td>Secrets - OneRepublic</td>\n",
       "      <td>34</td>\n",
       "      <td>4.0</td>\n",
       "    </tr>\n",
       "    <tr>\n",
       "      <th>4464</th>\n",
       "      <td>b80344d063b5ccb3212f76538f3d9e43d87dca9e</td>\n",
       "      <td>You're The One - Dwight Yoakam</td>\n",
       "      <td>33</td>\n",
       "      <td>5.0</td>\n",
       "    </tr>\n",
       "    <tr>\n",
       "      <th>1231</th>\n",
       "      <td>b80344d063b5ccb3212f76538f3d9e43d87dca9e</td>\n",
       "      <td>Fireflies - Charttraxx Karaoke</td>\n",
       "      <td>29</td>\n",
       "      <td>6.0</td>\n",
       "    </tr>\n",
       "    <tr>\n",
       "      <th>3072</th>\n",
       "      <td>b80344d063b5ccb3212f76538f3d9e43d87dca9e</td>\n",
       "      <td>Revelry - Kings Of Leon</td>\n",
       "      <td>29</td>\n",
       "      <td>7.0</td>\n",
       "    </tr>\n",
       "    <tr>\n",
       "      <th>1654</th>\n",
       "      <td>b80344d063b5ccb3212f76538f3d9e43d87dca9e</td>\n",
       "      <td>Horn Concerto No. 4 in E flat K495: II. Romanc...</td>\n",
       "      <td>28</td>\n",
       "      <td>8.0</td>\n",
       "    </tr>\n",
       "    <tr>\n",
       "      <th>3849</th>\n",
       "      <td>b80344d063b5ccb3212f76538f3d9e43d87dca9e</td>\n",
       "      <td>The Scientist - Coldplay</td>\n",
       "      <td>23</td>\n",
       "      <td>9.0</td>\n",
       "    </tr>\n",
       "    <tr>\n",
       "      <th>1002</th>\n",
       "      <td>b80344d063b5ccb3212f76538f3d9e43d87dca9e</td>\n",
       "      <td>Drop The World - Lil Wayne / Eminem</td>\n",
       "      <td>22</td>\n",
       "      <td>10.0</td>\n",
       "    </tr>\n",
       "  </tbody>\n",
       "</table>\n",
       "</div>"
      ],
      "text/plain": [
       "                                       user_id  \\\n",
       "3228  b80344d063b5ccb3212f76538f3d9e43d87dca9e   \n",
       "929   b80344d063b5ccb3212f76538f3d9e43d87dca9e   \n",
       "4097  b80344d063b5ccb3212f76538f3d9e43d87dca9e   \n",
       "3222  b80344d063b5ccb3212f76538f3d9e43d87dca9e   \n",
       "4464  b80344d063b5ccb3212f76538f3d9e43d87dca9e   \n",
       "1231  b80344d063b5ccb3212f76538f3d9e43d87dca9e   \n",
       "3072  b80344d063b5ccb3212f76538f3d9e43d87dca9e   \n",
       "1654  b80344d063b5ccb3212f76538f3d9e43d87dca9e   \n",
       "3849  b80344d063b5ccb3212f76538f3d9e43d87dca9e   \n",
       "1002  b80344d063b5ccb3212f76538f3d9e43d87dca9e   \n",
       "\n",
       "                                                   song  score  Rank  \n",
       "3228                           Sehr kosmisch - Harmonia     44   1.0  \n",
       "929   Dog Days Are Over (Radio Edit) - Florence + Th...     40   2.0  \n",
       "4097                                       Undo - Björk     35   3.0  \n",
       "3222                              Secrets - OneRepublic     34   4.0  \n",
       "4464                     You're The One - Dwight Yoakam     33   5.0  \n",
       "1231                     Fireflies - Charttraxx Karaoke     29   6.0  \n",
       "3072                            Revelry - Kings Of Leon     29   7.0  \n",
       "1654  Horn Concerto No. 4 in E flat K495: II. Romanc...     28   8.0  \n",
       "3849                           The Scientist - Coldplay     23   9.0  \n",
       "1002                Drop The World - Lil Wayne / Eminem     22  10.0  "
      ]
     },
     "execution_count": 73,
     "metadata": {},
     "output_type": "execute_result"
    }
   ],
   "source": [
    "popularity_m.recommend(song_df['user_id'][0])"
   ]
  },
  {
   "cell_type": "code",
   "execution_count": 74,
   "metadata": {},
   "outputs": [
    {
     "data": {
      "application/vnd.microsoft.datawrangler.viewer.v0+json": {
       "columns": [
        {
         "name": "index",
         "rawType": "int64",
         "type": "integer"
        },
        {
         "name": "user_id",
         "rawType": "object",
         "type": "string"
        },
        {
         "name": "song",
         "rawType": "object",
         "type": "string"
        },
        {
         "name": "score",
         "rawType": "int64",
         "type": "integer"
        },
        {
         "name": "Rank",
         "rawType": "float64",
         "type": "float"
        }
       ],
       "conversionMethod": "pd.DataFrame",
       "ref": "3253f4cc-b34b-46f9-956d-877f0d6503ed",
       "rows": [
        [
         "3228",
         "b80344d063b5ccb3212f76538f3d9e43d87dca9e",
         "Sehr kosmisch - Harmonia",
         "44",
         "1.0"
        ],
        [
         "929",
         "b80344d063b5ccb3212f76538f3d9e43d87dca9e",
         "Dog Days Are Over (Radio Edit) - Florence + The Machine",
         "40",
         "2.0"
        ],
        [
         "4097",
         "b80344d063b5ccb3212f76538f3d9e43d87dca9e",
         "Undo - Björk",
         "35",
         "3.0"
        ],
        [
         "3222",
         "b80344d063b5ccb3212f76538f3d9e43d87dca9e",
         "Secrets - OneRepublic",
         "34",
         "4.0"
        ],
        [
         "4464",
         "b80344d063b5ccb3212f76538f3d9e43d87dca9e",
         "You're The One - Dwight Yoakam",
         "33",
         "5.0"
        ],
        [
         "1231",
         "b80344d063b5ccb3212f76538f3d9e43d87dca9e",
         "Fireflies - Charttraxx Karaoke",
         "29",
         "6.0"
        ],
        [
         "3072",
         "b80344d063b5ccb3212f76538f3d9e43d87dca9e",
         "Revelry - Kings Of Leon",
         "29",
         "7.0"
        ],
        [
         "1654",
         "b80344d063b5ccb3212f76538f3d9e43d87dca9e",
         "Horn Concerto No. 4 in E flat K495: II. Romance (Andante cantabile) - Barry Tuckwell/Academy of St Martin-in-the-Fields/Sir Neville Marriner",
         "28",
         "8.0"
        ],
        [
         "3849",
         "b80344d063b5ccb3212f76538f3d9e43d87dca9e",
         "The Scientist - Coldplay",
         "23",
         "9.0"
        ],
        [
         "1002",
         "b80344d063b5ccb3212f76538f3d9e43d87dca9e",
         "Drop The World - Lil Wayne / Eminem",
         "22",
         "10.0"
        ]
       ],
       "shape": {
        "columns": 4,
        "rows": 10
       }
      },
      "text/html": [
       "<div>\n",
       "<style scoped>\n",
       "    .dataframe tbody tr th:only-of-type {\n",
       "        vertical-align: middle;\n",
       "    }\n",
       "\n",
       "    .dataframe tbody tr th {\n",
       "        vertical-align: top;\n",
       "    }\n",
       "\n",
       "    .dataframe thead th {\n",
       "        text-align: right;\n",
       "    }\n",
       "</style>\n",
       "<table border=\"1\" class=\"dataframe\">\n",
       "  <thead>\n",
       "    <tr style=\"text-align: right;\">\n",
       "      <th></th>\n",
       "      <th>user_id</th>\n",
       "      <th>song</th>\n",
       "      <th>score</th>\n",
       "      <th>Rank</th>\n",
       "    </tr>\n",
       "  </thead>\n",
       "  <tbody>\n",
       "    <tr>\n",
       "      <th>3228</th>\n",
       "      <td>b80344d063b5ccb3212f76538f3d9e43d87dca9e</td>\n",
       "      <td>Sehr kosmisch - Harmonia</td>\n",
       "      <td>44</td>\n",
       "      <td>1.0</td>\n",
       "    </tr>\n",
       "    <tr>\n",
       "      <th>929</th>\n",
       "      <td>b80344d063b5ccb3212f76538f3d9e43d87dca9e</td>\n",
       "      <td>Dog Days Are Over (Radio Edit) - Florence + Th...</td>\n",
       "      <td>40</td>\n",
       "      <td>2.0</td>\n",
       "    </tr>\n",
       "    <tr>\n",
       "      <th>4097</th>\n",
       "      <td>b80344d063b5ccb3212f76538f3d9e43d87dca9e</td>\n",
       "      <td>Undo - Björk</td>\n",
       "      <td>35</td>\n",
       "      <td>3.0</td>\n",
       "    </tr>\n",
       "    <tr>\n",
       "      <th>3222</th>\n",
       "      <td>b80344d063b5ccb3212f76538f3d9e43d87dca9e</td>\n",
       "      <td>Secrets - OneRepublic</td>\n",
       "      <td>34</td>\n",
       "      <td>4.0</td>\n",
       "    </tr>\n",
       "    <tr>\n",
       "      <th>4464</th>\n",
       "      <td>b80344d063b5ccb3212f76538f3d9e43d87dca9e</td>\n",
       "      <td>You're The One - Dwight Yoakam</td>\n",
       "      <td>33</td>\n",
       "      <td>5.0</td>\n",
       "    </tr>\n",
       "    <tr>\n",
       "      <th>1231</th>\n",
       "      <td>b80344d063b5ccb3212f76538f3d9e43d87dca9e</td>\n",
       "      <td>Fireflies - Charttraxx Karaoke</td>\n",
       "      <td>29</td>\n",
       "      <td>6.0</td>\n",
       "    </tr>\n",
       "    <tr>\n",
       "      <th>3072</th>\n",
       "      <td>b80344d063b5ccb3212f76538f3d9e43d87dca9e</td>\n",
       "      <td>Revelry - Kings Of Leon</td>\n",
       "      <td>29</td>\n",
       "      <td>7.0</td>\n",
       "    </tr>\n",
       "    <tr>\n",
       "      <th>1654</th>\n",
       "      <td>b80344d063b5ccb3212f76538f3d9e43d87dca9e</td>\n",
       "      <td>Horn Concerto No. 4 in E flat K495: II. Romanc...</td>\n",
       "      <td>28</td>\n",
       "      <td>8.0</td>\n",
       "    </tr>\n",
       "    <tr>\n",
       "      <th>3849</th>\n",
       "      <td>b80344d063b5ccb3212f76538f3d9e43d87dca9e</td>\n",
       "      <td>The Scientist - Coldplay</td>\n",
       "      <td>23</td>\n",
       "      <td>9.0</td>\n",
       "    </tr>\n",
       "    <tr>\n",
       "      <th>1002</th>\n",
       "      <td>b80344d063b5ccb3212f76538f3d9e43d87dca9e</td>\n",
       "      <td>Drop The World - Lil Wayne / Eminem</td>\n",
       "      <td>22</td>\n",
       "      <td>10.0</td>\n",
       "    </tr>\n",
       "  </tbody>\n",
       "</table>\n",
       "</div>"
      ],
      "text/plain": [
       "                                       user_id  \\\n",
       "3228  b80344d063b5ccb3212f76538f3d9e43d87dca9e   \n",
       "929   b80344d063b5ccb3212f76538f3d9e43d87dca9e   \n",
       "4097  b80344d063b5ccb3212f76538f3d9e43d87dca9e   \n",
       "3222  b80344d063b5ccb3212f76538f3d9e43d87dca9e   \n",
       "4464  b80344d063b5ccb3212f76538f3d9e43d87dca9e   \n",
       "1231  b80344d063b5ccb3212f76538f3d9e43d87dca9e   \n",
       "3072  b80344d063b5ccb3212f76538f3d9e43d87dca9e   \n",
       "1654  b80344d063b5ccb3212f76538f3d9e43d87dca9e   \n",
       "3849  b80344d063b5ccb3212f76538f3d9e43d87dca9e   \n",
       "1002  b80344d063b5ccb3212f76538f3d9e43d87dca9e   \n",
       "\n",
       "                                                   song  score  Rank  \n",
       "3228                           Sehr kosmisch - Harmonia     44   1.0  \n",
       "929   Dog Days Are Over (Radio Edit) - Florence + Th...     40   2.0  \n",
       "4097                                       Undo - Björk     35   3.0  \n",
       "3222                              Secrets - OneRepublic     34   4.0  \n",
       "4464                     You're The One - Dwight Yoakam     33   5.0  \n",
       "1231                     Fireflies - Charttraxx Karaoke     29   6.0  \n",
       "3072                            Revelry - Kings Of Leon     29   7.0  \n",
       "1654  Horn Concerto No. 4 in E flat K495: II. Romanc...     28   8.0  \n",
       "3849                           The Scientist - Coldplay     23   9.0  \n",
       "1002                Drop The World - Lil Wayne / Eminem     22  10.0  "
      ]
     },
     "execution_count": 74,
     "metadata": {},
     "output_type": "execute_result"
    }
   ],
   "source": [
    "popularity_m.recommend(song_df['user_id'][1])"
   ]
  },
  {
   "cell_type": "markdown",
   "metadata": {},
   "source": [
    "### Рекомендаційна система з персоналізацією, що заснована на схожості"
   ]
  },
  {
   "cell_type": "code",
   "execution_count": 75,
   "metadata": {},
   "outputs": [],
   "source": [
    "class item_similarity_recommender_py():\n",
    "    def __init__(self):\n",
    "        self.train_data = None\n",
    "        self.user_id = None\n",
    "        self.item_id = None\n",
    "        self.cooccurence_matrix = None\n",
    "        self.songs_dict = None\n",
    "        self.rev_songs_dict = None\n",
    "        self.item_similarity_recommendations = None\n",
    "\n",
    "    #Get unique items (songs) corresponding to a given user\n",
    "    def get_user_items(self, user):\n",
    "        user_data = self.train_data[self.train_data[self.user_id] == user]\n",
    "        user_items = list(user_data[self.item_id].unique())\n",
    "\n",
    "        return user_items\n",
    "\n",
    "    #Get unique users for a given item (song)\n",
    "    def get_item_users(self, item):\n",
    "        item_data = self.train_data[self.train_data[self.item_id] == item]\n",
    "        item_users = set(item_data[self.user_id].unique())\n",
    "\n",
    "        return item_users\n",
    "\n",
    "    #Get unique items (songs) in the training data\n",
    "    def get_all_items_train_data(self):\n",
    "        all_items = list(self.train_data[self.item_id].unique())\n",
    "\n",
    "        return all_items\n",
    "\n",
    "    #Construct cooccurence matrix\n",
    "    def construct_cooccurence_matrix(self, user_songs, all_songs):\n",
    "\n",
    "        ####################################\n",
    "        #Get users for all songs in user_songs.\n",
    "        ####################################\n",
    "        user_songs_users = []\n",
    "        for i in range(0, len(user_songs)):\n",
    "            user_songs_users.append(self.get_item_users(user_songs[i]))\n",
    "\n",
    "        ###############################################\n",
    "        #Initialize the item cooccurence matrix of size\n",
    "        #len(user_songs) X len(songs)\n",
    "        ###############################################\n",
    "        cooccurence_matrix = np.matrix(np.zeros(shape=(len(user_songs), len(all_songs))), float)\n",
    "\n",
    "        #############################################################\n",
    "        #Calculate similarity between user songs and all unique songs\n",
    "        #in the training data\n",
    "        #############################################################\n",
    "        for i in range(0,len(all_songs)):\n",
    "            #Calculate unique listeners (users) of song (item) i\n",
    "            songs_i_data = self.train_data[self.train_data[self.item_id] == all_songs[i]]\n",
    "            users_i = set(songs_i_data[self.user_id].unique())\n",
    "\n",
    "            for j in range(0,len(user_songs)):\n",
    "\n",
    "                #Get unique listeners (users) of song (item) j\n",
    "                users_j = user_songs_users[j]\n",
    "\n",
    "                #Calculate intersection of listeners of songs i and j\n",
    "                users_intersection = users_i.intersection(users_j)\n",
    "\n",
    "                #Calculate cooccurence_matrix[i,j] as Jaccard Index\n",
    "                if len(users_intersection) != 0:\n",
    "                    #Calculate union of listeners of songs i and j\n",
    "                    users_union = users_i.union(users_j)\n",
    "\n",
    "                    cooccurence_matrix[j,i] = float(len(users_intersection))/float(len(users_union))\n",
    "                else:\n",
    "                    cooccurence_matrix[j,i] = 0\n",
    "\n",
    "\n",
    "        return cooccurence_matrix\n",
    "\n",
    "\n",
    "    #Use the cooccurence matrix to make top recommendations\n",
    "    def generate_top_recommendations(self, user, cooccurence_matrix, all_songs, user_songs):\n",
    "        print(\"Non zero values in cooccurence_matrix :%d\" % np.count_nonzero(cooccurence_matrix))\n",
    "\n",
    "        #Calculate a weighted average of the scores in cooccurence matrix for all user songs.\n",
    "        user_sim_scores = cooccurence_matrix.sum(axis=0)/float(cooccurence_matrix.shape[0])\n",
    "        user_sim_scores = np.array(user_sim_scores)[0].tolist()\n",
    "\n",
    "        #Sort the indices of user_sim_scores based upon their value\n",
    "        #Also maintain the corresponding score\n",
    "        sort_index = sorted(((e,i) for i,e in enumerate(list(user_sim_scores))), reverse=True)\n",
    "\n",
    "        #Create a dataframe from the following\n",
    "        columns = ['user_id', 'song', 'score', 'rank']\n",
    "        #index = np.arange(1) # array of numbers for the number of samples\n",
    "        df = pandas.DataFrame(columns=columns)\n",
    "\n",
    "        #Fill the dataframe with top 10 item based recommendations\n",
    "        rank = 1\n",
    "        for i in range(0,len(sort_index)):\n",
    "            if ~np.isnan(sort_index[i][0]) and all_songs[sort_index[i][1]] not in user_songs and rank <= 10:\n",
    "                df.loc[len(df)]=[user,all_songs[sort_index[i][1]],sort_index[i][0],rank]\n",
    "                rank = rank+1\n",
    "\n",
    "        #Handle the case where there are no recommendations\n",
    "        if df.shape[0] == 0:\n",
    "            print(\"The current user has no songs for training the item similarity based recommendation model.\")\n",
    "            return -1\n",
    "        else:\n",
    "            return df\n",
    "\n",
    "    #Create the item similarity based recommender system model\n",
    "    def create(self, train_data, user_id, item_id):\n",
    "        self.train_data = train_data\n",
    "        self.user_id = user_id\n",
    "        self.item_id = item_id\n",
    "\n",
    "    #Use the item similarity based recommender system model to\n",
    "    #make recommendations\n",
    "    def recommend(self, user):\n",
    "\n",
    "        ########################################\n",
    "        #A. Get all unique songs for this user\n",
    "        ########################################\n",
    "        user_songs = self.get_user_items(user)\n",
    "\n",
    "        print(\"No. of unique songs for the user: %d\" % len(user_songs))\n",
    "\n",
    "        ######################################################\n",
    "        #B. Get all unique items (songs) in the training data\n",
    "        ######################################################\n",
    "        all_songs = self.get_all_items_train_data()\n",
    "\n",
    "        print(\"No. of unique songs in the training set: %d\" % len(all_songs))\n",
    "\n",
    "        ###############################################\n",
    "        #C. Construct item cooccurence matrix of size\n",
    "        #len(user_songs) X len(songs)\n",
    "        ###############################################\n",
    "        cooccurence_matrix = self.construct_cooccurence_matrix(user_songs, all_songs)\n",
    "\n",
    "        #######################################################\n",
    "        #D. Use the cooccurence matrix to make recommendations\n",
    "        #######################################################\n",
    "        df_recommendations = self.generate_top_recommendations(user, cooccurence_matrix, all_songs, user_songs)\n",
    "\n",
    "        return df_recommendations\n",
    "\n",
    "    #Get similar items to given items\n",
    "    def get_similar_items(self, item_list):\n",
    "\n",
    "        user_songs = item_list\n",
    "\n",
    "        ######################################################\n",
    "        #B. Get all unique items (songs) in the training data\n",
    "        ######################################################\n",
    "        all_songs = self.get_all_items_train_data()\n",
    "\n",
    "        print(\"No. of unique songs in the training set: %d\" % len(all_songs))\n",
    "\n",
    "        ###############################################\n",
    "        #C. Construct item cooccurence matrix of size\n",
    "        #len(user_songs) X len(songs)\n",
    "        ###############################################\n",
    "        cooccurence_matrix = self.construct_cooccurence_matrix(user_songs, all_songs)\n",
    "\n",
    "        #######################################################\n",
    "        #D. Use the cooccurence matrix to make recommendations\n",
    "        #######################################################\n",
    "        user = \"\"\n",
    "        df_recommendations = self.generate_top_recommendations(user, cooccurence_matrix, all_songs, user_songs)\n",
    "\n",
    "        return df_recommendations"
   ]
  },
  {
   "cell_type": "code",
   "execution_count": 76,
   "metadata": {},
   "outputs": [],
   "source": [
    "personalized_model = item_similarity_recommender_py()\n",
    "personalized_model.create( train_data, 'user_id', 'song' )"
   ]
  },
  {
   "cell_type": "code",
   "execution_count": 77,
   "metadata": {},
   "outputs": [
    {
     "name": "stdout",
     "output_type": "stream",
     "text": [
      "No. of unique songs for the user: 13\n",
      "No. of unique songs in the training set: 4496\n",
      "Non zero values in cooccurence_matrix :959\n"
     ]
    },
    {
     "data": {
      "application/vnd.microsoft.datawrangler.viewer.v0+json": {
       "columns": [
        {
         "name": "index",
         "rawType": "int64",
         "type": "integer"
        },
        {
         "name": "user_id",
         "rawType": "object",
         "type": "string"
        },
        {
         "name": "song",
         "rawType": "object",
         "type": "string"
        },
        {
         "name": "score",
         "rawType": "float64",
         "type": "float"
        },
        {
         "name": "rank",
         "rawType": "int64",
         "type": "integer"
        }
       ],
       "conversionMethod": "pd.DataFrame",
       "ref": "77c91142-6668-4c9a-83f0-e2bfb3b26c59",
       "rows": [
        [
         "0",
         "4bd88bfb25263a75bbdd467e74018f4ae570e5df",
         "You Found Me (Album Version) - The Fray",
         "0.05897435897435897",
         "1"
        ],
        [
         "1",
         "4bd88bfb25263a75bbdd467e74018f4ae570e5df",
         "Hellbound - J-Black & Masta Ace",
         "0.05897435897435897",
         "2"
        ],
        [
         "2",
         "4bd88bfb25263a75bbdd467e74018f4ae570e5df",
         "As The World Turns - Eminem",
         "0.05378040762656147",
         "3"
        ],
        [
         "3",
         "4bd88bfb25263a75bbdd467e74018f4ae570e5df",
         "I'm Back - Eminem",
         "0.05201465201465202",
         "4"
        ],
        [
         "4",
         "4bd88bfb25263a75bbdd467e74018f4ae570e5df",
         "Armed And Ready (2009 Digital Remaster) - The Michael Schenker Group",
         "0.04432234432234432",
         "5"
        ],
        [
         "5",
         "4bd88bfb25263a75bbdd467e74018f4ae570e5df",
         "I'm The One Who Understands (Edit Version) - War",
         "0.04432234432234432",
         "6"
        ],
        [
         "6",
         "4bd88bfb25263a75bbdd467e74018f4ae570e5df",
         "Falling - Iration",
         "0.04432234432234432",
         "7"
        ],
        [
         "7",
         "4bd88bfb25263a75bbdd467e74018f4ae570e5df",
         "Superman - Eminem / Dina Rae",
         "0.03977688977688977",
         "8"
        ],
        [
         "8",
         "4bd88bfb25263a75bbdd467e74018f4ae570e5df",
         "The Seed (2.0) - The Roots / Cody Chestnutt",
         "0.038586413586413584",
         "9"
        ],
        [
         "9",
         "4bd88bfb25263a75bbdd467e74018f4ae570e5df",
         "The Way You Move - OutKast",
         "0.038586413586413584",
         "10"
        ]
       ],
       "shape": {
        "columns": 4,
        "rows": 10
       }
      },
      "text/html": [
       "<div>\n",
       "<style scoped>\n",
       "    .dataframe tbody tr th:only-of-type {\n",
       "        vertical-align: middle;\n",
       "    }\n",
       "\n",
       "    .dataframe tbody tr th {\n",
       "        vertical-align: top;\n",
       "    }\n",
       "\n",
       "    .dataframe thead th {\n",
       "        text-align: right;\n",
       "    }\n",
       "</style>\n",
       "<table border=\"1\" class=\"dataframe\">\n",
       "  <thead>\n",
       "    <tr style=\"text-align: right;\">\n",
       "      <th></th>\n",
       "      <th>user_id</th>\n",
       "      <th>song</th>\n",
       "      <th>score</th>\n",
       "      <th>rank</th>\n",
       "    </tr>\n",
       "  </thead>\n",
       "  <tbody>\n",
       "    <tr>\n",
       "      <th>0</th>\n",
       "      <td>4bd88bfb25263a75bbdd467e74018f4ae570e5df</td>\n",
       "      <td>You Found Me (Album Version) - The Fray</td>\n",
       "      <td>0.058974</td>\n",
       "      <td>1</td>\n",
       "    </tr>\n",
       "    <tr>\n",
       "      <th>1</th>\n",
       "      <td>4bd88bfb25263a75bbdd467e74018f4ae570e5df</td>\n",
       "      <td>Hellbound - J-Black &amp; Masta Ace</td>\n",
       "      <td>0.058974</td>\n",
       "      <td>2</td>\n",
       "    </tr>\n",
       "    <tr>\n",
       "      <th>2</th>\n",
       "      <td>4bd88bfb25263a75bbdd467e74018f4ae570e5df</td>\n",
       "      <td>As The World Turns - Eminem</td>\n",
       "      <td>0.053780</td>\n",
       "      <td>3</td>\n",
       "    </tr>\n",
       "    <tr>\n",
       "      <th>3</th>\n",
       "      <td>4bd88bfb25263a75bbdd467e74018f4ae570e5df</td>\n",
       "      <td>I'm Back - Eminem</td>\n",
       "      <td>0.052015</td>\n",
       "      <td>4</td>\n",
       "    </tr>\n",
       "    <tr>\n",
       "      <th>4</th>\n",
       "      <td>4bd88bfb25263a75bbdd467e74018f4ae570e5df</td>\n",
       "      <td>Armed And Ready (2009 Digital Remaster) - The ...</td>\n",
       "      <td>0.044322</td>\n",
       "      <td>5</td>\n",
       "    </tr>\n",
       "    <tr>\n",
       "      <th>5</th>\n",
       "      <td>4bd88bfb25263a75bbdd467e74018f4ae570e5df</td>\n",
       "      <td>I'm The One Who Understands (Edit Version) - War</td>\n",
       "      <td>0.044322</td>\n",
       "      <td>6</td>\n",
       "    </tr>\n",
       "    <tr>\n",
       "      <th>6</th>\n",
       "      <td>4bd88bfb25263a75bbdd467e74018f4ae570e5df</td>\n",
       "      <td>Falling - Iration</td>\n",
       "      <td>0.044322</td>\n",
       "      <td>7</td>\n",
       "    </tr>\n",
       "    <tr>\n",
       "      <th>7</th>\n",
       "      <td>4bd88bfb25263a75bbdd467e74018f4ae570e5df</td>\n",
       "      <td>Superman - Eminem / Dina Rae</td>\n",
       "      <td>0.039777</td>\n",
       "      <td>8</td>\n",
       "    </tr>\n",
       "    <tr>\n",
       "      <th>8</th>\n",
       "      <td>4bd88bfb25263a75bbdd467e74018f4ae570e5df</td>\n",
       "      <td>The Seed (2.0) - The Roots / Cody Chestnutt</td>\n",
       "      <td>0.038586</td>\n",
       "      <td>9</td>\n",
       "    </tr>\n",
       "    <tr>\n",
       "      <th>9</th>\n",
       "      <td>4bd88bfb25263a75bbdd467e74018f4ae570e5df</td>\n",
       "      <td>The Way You Move - OutKast</td>\n",
       "      <td>0.038586</td>\n",
       "      <td>10</td>\n",
       "    </tr>\n",
       "  </tbody>\n",
       "</table>\n",
       "</div>"
      ],
      "text/plain": [
       "                                    user_id  \\\n",
       "0  4bd88bfb25263a75bbdd467e74018f4ae570e5df   \n",
       "1  4bd88bfb25263a75bbdd467e74018f4ae570e5df   \n",
       "2  4bd88bfb25263a75bbdd467e74018f4ae570e5df   \n",
       "3  4bd88bfb25263a75bbdd467e74018f4ae570e5df   \n",
       "4  4bd88bfb25263a75bbdd467e74018f4ae570e5df   \n",
       "5  4bd88bfb25263a75bbdd467e74018f4ae570e5df   \n",
       "6  4bd88bfb25263a75bbdd467e74018f4ae570e5df   \n",
       "7  4bd88bfb25263a75bbdd467e74018f4ae570e5df   \n",
       "8  4bd88bfb25263a75bbdd467e74018f4ae570e5df   \n",
       "9  4bd88bfb25263a75bbdd467e74018f4ae570e5df   \n",
       "\n",
       "                                                song     score  rank  \n",
       "0            You Found Me (Album Version) - The Fray  0.058974     1  \n",
       "1                    Hellbound - J-Black & Masta Ace  0.058974     2  \n",
       "2                        As The World Turns - Eminem  0.053780     3  \n",
       "3                                  I'm Back - Eminem  0.052015     4  \n",
       "4  Armed And Ready (2009 Digital Remaster) - The ...  0.044322     5  \n",
       "5   I'm The One Who Understands (Edit Version) - War  0.044322     6  \n",
       "6                                  Falling - Iration  0.044322     7  \n",
       "7                       Superman - Eminem / Dina Rae  0.039777     8  \n",
       "8        The Seed (2.0) - The Roots / Cody Chestnutt  0.038586     9  \n",
       "9                         The Way You Move - OutKast  0.038586    10  "
      ]
     },
     "execution_count": 77,
     "metadata": {},
     "output_type": "execute_result"
    }
   ],
   "source": [
    "cur_user_id = users[5]\n",
    "user_items = personalized_model.get_user_items( cur_user_id )\n",
    "personalized_model.recommend( cur_user_id )"
   ]
  },
  {
   "cell_type": "code",
   "execution_count": 78,
   "metadata": {},
   "outputs": [
    {
     "name": "stdout",
     "output_type": "stream",
     "text": [
      "No. of unique songs in the training set: 4496\n",
      "Non zero values in cooccurence_matrix :22\n"
     ]
    },
    {
     "data": {
      "application/vnd.microsoft.datawrangler.viewer.v0+json": {
       "columns": [
        {
         "name": "index",
         "rawType": "int64",
         "type": "integer"
        },
        {
         "name": "user_id",
         "rawType": "object",
         "type": "string"
        },
        {
         "name": "song",
         "rawType": "object",
         "type": "string"
        },
        {
         "name": "score",
         "rawType": "float64",
         "type": "float"
        },
        {
         "name": "rank",
         "rawType": "int64",
         "type": "integer"
        }
       ],
       "conversionMethod": "pd.DataFrame",
       "ref": "c79470c5-4da7-4c3c-a4e2-a39a7e478a94",
       "rows": [
        [
         "0",
         "",
         "Always Like This - Bombay Bicycle Club",
         "0.5",
         "1"
        ],
        [
         "1",
         "",
         "Kong - Bonobo",
         "0.5",
         "2"
        ],
        [
         "2",
         "",
         "I'll Try Anything Once - The Strokes",
         "0.5",
         "3"
        ],
        [
         "3",
         "",
         "Cotton Fields (The Cotton Song) (Digitally Remastered 01) - The Beach Boys",
         "0.5",
         "4"
        ],
        [
         "4",
         "",
         "You Only Live Once - The Strokes",
         "0.5",
         "5"
        ],
        [
         "5",
         "",
         "The Sound of Settling (Album Version) - Death Cab for Cutie",
         "0.5",
         "6"
        ],
        [
         "6",
         "",
         "Novocaine For The Soul - Eels",
         "0.3333333333333333",
         "7"
        ],
        [
         "7",
         "",
         "Every Lasting Light - The Black Keys",
         "0.3333333333333333",
         "8"
        ],
        [
         "8",
         "",
         "This Charming Man - The Smiths",
         "0.3333333333333333",
         "9"
        ],
        [
         "9",
         "",
         "Holland_ 1945 - Neutral Milk Hotel",
         "0.3333333333333333",
         "10"
        ]
       ],
       "shape": {
        "columns": 4,
        "rows": 10
       }
      },
      "text/html": [
       "<div>\n",
       "<style scoped>\n",
       "    .dataframe tbody tr th:only-of-type {\n",
       "        vertical-align: middle;\n",
       "    }\n",
       "\n",
       "    .dataframe tbody tr th {\n",
       "        vertical-align: top;\n",
       "    }\n",
       "\n",
       "    .dataframe thead th {\n",
       "        text-align: right;\n",
       "    }\n",
       "</style>\n",
       "<table border=\"1\" class=\"dataframe\">\n",
       "  <thead>\n",
       "    <tr style=\"text-align: right;\">\n",
       "      <th></th>\n",
       "      <th>user_id</th>\n",
       "      <th>song</th>\n",
       "      <th>score</th>\n",
       "      <th>rank</th>\n",
       "    </tr>\n",
       "  </thead>\n",
       "  <tbody>\n",
       "    <tr>\n",
       "      <th>0</th>\n",
       "      <td></td>\n",
       "      <td>Always Like This - Bombay Bicycle Club</td>\n",
       "      <td>0.500000</td>\n",
       "      <td>1</td>\n",
       "    </tr>\n",
       "    <tr>\n",
       "      <th>1</th>\n",
       "      <td></td>\n",
       "      <td>Kong - Bonobo</td>\n",
       "      <td>0.500000</td>\n",
       "      <td>2</td>\n",
       "    </tr>\n",
       "    <tr>\n",
       "      <th>2</th>\n",
       "      <td></td>\n",
       "      <td>I'll Try Anything Once - The Strokes</td>\n",
       "      <td>0.500000</td>\n",
       "      <td>3</td>\n",
       "    </tr>\n",
       "    <tr>\n",
       "      <th>3</th>\n",
       "      <td></td>\n",
       "      <td>Cotton Fields (The Cotton Song) (Digitally Rem...</td>\n",
       "      <td>0.500000</td>\n",
       "      <td>4</td>\n",
       "    </tr>\n",
       "    <tr>\n",
       "      <th>4</th>\n",
       "      <td></td>\n",
       "      <td>You Only Live Once - The Strokes</td>\n",
       "      <td>0.500000</td>\n",
       "      <td>5</td>\n",
       "    </tr>\n",
       "    <tr>\n",
       "      <th>5</th>\n",
       "      <td></td>\n",
       "      <td>The Sound of Settling (Album Version) - Death ...</td>\n",
       "      <td>0.500000</td>\n",
       "      <td>6</td>\n",
       "    </tr>\n",
       "    <tr>\n",
       "      <th>6</th>\n",
       "      <td></td>\n",
       "      <td>Novocaine For The Soul - Eels</td>\n",
       "      <td>0.333333</td>\n",
       "      <td>7</td>\n",
       "    </tr>\n",
       "    <tr>\n",
       "      <th>7</th>\n",
       "      <td></td>\n",
       "      <td>Every Lasting Light - The Black Keys</td>\n",
       "      <td>0.333333</td>\n",
       "      <td>8</td>\n",
       "    </tr>\n",
       "    <tr>\n",
       "      <th>8</th>\n",
       "      <td></td>\n",
       "      <td>This Charming Man - The Smiths</td>\n",
       "      <td>0.333333</td>\n",
       "      <td>9</td>\n",
       "    </tr>\n",
       "    <tr>\n",
       "      <th>9</th>\n",
       "      <td></td>\n",
       "      <td>Holland_ 1945 - Neutral Milk Hotel</td>\n",
       "      <td>0.333333</td>\n",
       "      <td>10</td>\n",
       "    </tr>\n",
       "  </tbody>\n",
       "</table>\n",
       "</div>"
      ],
      "text/plain": [
       "  user_id                                               song     score  rank\n",
       "0                     Always Like This - Bombay Bicycle Club  0.500000     1\n",
       "1                                              Kong - Bonobo  0.500000     2\n",
       "2                       I'll Try Anything Once - The Strokes  0.500000     3\n",
       "3          Cotton Fields (The Cotton Song) (Digitally Rem...  0.500000     4\n",
       "4                           You Only Live Once - The Strokes  0.500000     5\n",
       "5          The Sound of Settling (Album Version) - Death ...  0.500000     6\n",
       "6                              Novocaine For The Soul - Eels  0.333333     7\n",
       "7                       Every Lasting Light - The Black Keys  0.333333     8\n",
       "8                             This Charming Man - The Smiths  0.333333     9\n",
       "9                         Holland_ 1945 - Neutral Milk Hotel  0.333333    10"
      ]
     },
     "execution_count": 78,
     "metadata": {},
     "output_type": "execute_result"
    }
   ],
   "source": [
    "personalized_model.get_similar_items(['Chan Chan (Live) - Buena Vista Social Club'])"
   ]
  }
 ],
 "metadata": {
  "kernelspec": {
   "display_name": "py_envs",
   "language": "python",
   "name": "python3"
  },
  "language_info": {
   "codemirror_mode": {
    "name": "ipython",
    "version": 3
   },
   "file_extension": ".py",
   "mimetype": "text/x-python",
   "name": "python",
   "nbconvert_exporter": "python",
   "pygments_lexer": "ipython3",
   "version": "3.12.3"
  }
 },
 "nbformat": 4,
 "nbformat_minor": 1
}
