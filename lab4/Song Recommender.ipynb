{
 "cells": [
  {
   "cell_type": "code",
   "metadata": {
    "ExecuteTime": {
     "end_time": "2025-04-28T08:50:00.524533Z",
     "start_time": "2025-04-28T08:50:00.522337Z"
    }
   },
   "source": [
    "%matplotlib inline\n",
    "import pandas\n",
    "from sklearn.model_selection import train_test_split\n",
    "import numpy as np\n",
    "import pylab as pl"
   ],
   "outputs": [],
   "execution_count": 3
  },
  {
   "cell_type": "code",
   "metadata": {
    "ExecuteTime": {
     "end_time": "2025-04-28T08:50:01.202203Z",
     "start_time": "2025-04-28T08:50:00.544811Z"
    }
   },
   "source": "song_df = pandas.read_csv('song_data.csv')",
   "outputs": [],
   "execution_count": 4
  },
  {
   "cell_type": "code",
   "metadata": {
    "ExecuteTime": {
     "end_time": "2025-04-28T08:50:01.212901Z",
     "start_time": "2025-04-28T08:50:01.211410Z"
    }
   },
   "source": [
    "print(len(song_df))"
   ],
   "outputs": [
    {
     "name": "stdout",
     "output_type": "stream",
     "text": [
      "1116609\n"
     ]
    }
   ],
   "execution_count": 5
  },
  {
   "cell_type": "markdown",
   "metadata": {},
   "source": [
    "### 1"
   ]
  },
  {
   "cell_type": "code",
   "metadata": {
    "ExecuteTime": {
     "end_time": "2025-04-28T08:50:01.313370Z",
     "start_time": "2025-04-28T08:50:01.269298Z"
    }
   },
   "source": [
    "song_df_1 = song_df[song_df['artist'] == 'Taylor Swift']\n",
    "taylor_users = song_df_1['user_id'].nunique()\n",
    "\n",
    "print(taylor_users)"
   ],
   "outputs": [
    {
     "name": "stdout",
     "output_type": "stream",
     "text": [
      "3246\n"
     ]
    }
   ],
   "execution_count": 6
  },
  {
   "cell_type": "markdown",
   "metadata": {},
   "source": [
    "### 2"
   ]
  },
  {
   "cell_type": "code",
   "metadata": {
    "ExecuteTime": {
     "end_time": "2025-04-28T08:50:01.397803Z",
     "start_time": "2025-04-28T08:50:01.349499Z"
    }
   },
   "source": [
    "song_df_2 = song_df\n",
    "\n",
    "artist_group = song_df_2.groupby('artist')['listen_count'].sum().sort_values(ascending=False)\n",
    "\n",
    "print(artist_group.index[2], \"-\", artist_group.iloc[2])\n",
    "print(artist_group.index[-3], \"-\", artist_group.iloc[-3])"
   ],
   "outputs": [
    {
     "name": "stdout",
     "output_type": "stream",
     "text": [
      "Björk - 38889\n",
      "Beyoncé feat. Bun B and Slim Thug - 26\n"
     ]
    }
   ],
   "execution_count": 7
  },
  {
   "cell_type": "markdown",
   "metadata": {},
   "source": [
    "### 3"
   ]
  },
  {
   "cell_type": "code",
   "metadata": {
    "ExecuteTime": {
     "end_time": "2025-04-28T08:50:01.408165Z",
     "start_time": "2025-04-28T08:50:01.406595Z"
    }
   },
   "source": [
    "song_df_3 = song_df.head(10000)"
   ],
   "outputs": [],
   "execution_count": 8
  },
  {
   "cell_type": "code",
   "metadata": {
    "ExecuteTime": {
     "end_time": "2025-04-28T08:50:01.461424Z",
     "start_time": "2025-04-28T08:50:01.458598Z"
    }
   },
   "source": [
    "new_train_data, new_test_data = train_test_split(song_df_3, test_size = 0.20, random_state=0)"
   ],
   "outputs": [],
   "execution_count": 9
  },
  {
   "cell_type": "code",
   "metadata": {
    "ExecuteTime": {
     "end_time": "2025-04-28T08:50:01.520360Z",
     "start_time": "2025-04-28T08:50:01.515788Z"
    }
   },
   "source": [
    "class new_item_similarity_recommender_py():\n",
    "    def __init__(self):\n",
    "        # Змінні для збереження даних та параметрів моделі\n",
    "        self.train_data = None\n",
    "        self.user_id = None\n",
    "        self.item_id = None\n",
    "\n",
    "    def get_user_items(self, user):\n",
    "        # Отримати список пісень, які слухав даний користувач\n",
    "        user_data = self.train_data[self.train_data[self.user_id] == user]\n",
    "        return list(user_data[self.item_id].unique())\n",
    "\n",
    "    def get_item_users(self, item):\n",
    "        # Отримати користувачів, які слухали цю пісню\n",
    "        item_data = self.train_data[self.train_data[self.item_id] == item]\n",
    "        return set(item_data[self.user_id].unique())\n",
    "\n",
    "    def get_all_items_train_data(self):\n",
    "        # Отримати всі унікальні пісні з навчального датасету\n",
    "        return list(self.train_data[self.item_id].unique())\n",
    "\n",
    "    def construct_cooccurence_matrix(self, user_songs, all_songs):\n",
    "        # Крок A: Отримати слухачів кожної з пісень користувача\n",
    "        user_songs_users = [self.get_item_users(song) for song in user_songs]\n",
    "\n",
    "        # Крок B: Ініціалізуємо матрицю (user_songs x all_songs)\n",
    "        cooccurence_matrix = np.matrix(np.zeros((len(user_songs), len(all_songs))), float)\n",
    "\n",
    "        # Крок C: Обчислення подібності між піснями користувача та всіма унікальними піснями в навчальних даних\n",
    "        for i in range(len(all_songs)):\n",
    "            users_i = self.get_item_users(all_songs[i])  # слухачі пісні i\n",
    "            for j in range(len(user_songs)):\n",
    "                users_j = user_songs_users[j]  # слухачі пісні j користувача\n",
    "                intersection = users_i.intersection(users_j)\n",
    "                if intersection:\n",
    "                    union = users_i.union(users_j)\n",
    "                    cooccurence_matrix[j, i] = float(len(intersection)) / float(len(union))\n",
    "                else:\n",
    "                    cooccurence_matrix[j, i] = 0.0\n",
    "        return cooccurence_matrix\n",
    "\n",
    "    def generate_top_recommendations(self, user, cooccurence_matrix, all_songs, user_songs):\n",
    "        # Крок A: Підрахунок середньої схожості по рядках\n",
    "        user_sim_scores = cooccurence_matrix.sum(axis=0) / float(cooccurence_matrix.shape[0])\n",
    "        user_sim_scores = np.array(user_sim_scores)[0].tolist()\n",
    "\n",
    "        # Крок B: Сортуємо за зменшенням score\n",
    "        sort_index = sorted(((e, i) for i, e in enumerate(user_sim_scores)), reverse=True)\n",
    "\n",
    "        # Крок C: Створюємо DataFrame з результатами\n",
    "        columns = ['user_id', 'song', 'score', 'rank']\n",
    "        df = pandas.DataFrame(columns=columns)\n",
    "\n",
    "        # Крок D: Додаємо найкращі 10 рекомендацій, уникаючи пісень, які користувач вже слухав\n",
    "        rank = 1\n",
    "        for score, i in sort_index:\n",
    "            if not np.isnan(score) and all_songs[i] not in user_songs and rank <= 10:\n",
    "                df.loc[len(df)] = [user, all_songs[i], score, rank]\n",
    "                rank += 1\n",
    "\n",
    "        return df if not df.empty else -1  # -1 якщо немає нових пісень\n",
    "\n",
    "    def create(self, train_data, user_id, item_id):\n",
    "        # Ініціалізуємо модель даними\n",
    "        self.train_data = train_data\n",
    "        self.user_id = user_id\n",
    "        self.item_id = item_id\n",
    "\n",
    "    def recommend(self, user):\n",
    "        # Повний цикл генерації рекомендацій для користувача\n",
    "        user_songs = self.get_user_items(user)\n",
    "        all_songs = self.get_all_items_train_data()\n",
    "        cooccurence_matrix = self.construct_cooccurence_matrix(user_songs, all_songs)\n",
    "        return self.generate_top_recommendations(user, cooccurence_matrix, all_songs, user_songs)"
   ],
   "outputs": [],
   "execution_count": 10
  },
  {
   "cell_type": "code",
   "metadata": {
    "ExecuteTime": {
     "end_time": "2025-04-28T08:50:01.565716Z",
     "start_time": "2025-04-28T08:50:01.563935Z"
    }
   },
   "source": [
    "class new_popularity_recommender_py(new_item_similarity_recommender_py):\n",
    "    def recommend_one_song(self, user):\n",
    "        user_songs = self.get_user_items(user)\n",
    "        all_songs = self.get_all_items_train_data()\n",
    "\n",
    "        # Матриця збігів (co-occurrence matrix)\n",
    "        cooccurence_matrix = self.construct_cooccurence_matrix(user_songs, all_songs)\n",
    "\n",
    "        df_recommendations = self.generate_top_recommendations(user, cooccurence_matrix, all_songs, user_songs)\n",
    "\n",
    "        return df_recommendations.iloc[0] if isinstance(df_recommendations, pandas.DataFrame) and not df_recommendations.empty else None"
   ],
   "outputs": [],
   "execution_count": 11
  },
  {
   "cell_type": "code",
   "metadata": {
    "ExecuteTime": {
     "end_time": "2025-04-28T08:50:06.417874Z",
     "start_time": "2025-04-28T08:50:01.621825Z"
    }
   },
   "source": [
    "recommender = new_popularity_recommender_py()\n",
    "recommender.create(train_data=new_train_data, user_id='user_id', item_id='song')\n",
    "\n",
    "unique_users = song_df['user_id'].unique()[:3]\n",
    "\n",
    "top1_recommendations = {user: recommender.recommend_one_song(user) for user in unique_users}\n",
    "top1_recommendations"
   ],
   "outputs": [
    {
     "data": {
      "text/plain": [
       "{'b80344d063b5ccb3212f76538f3d9e43d87dca9e': user_id    b80344d063b5ccb3212f76538f3d9e43d87dca9e\n",
       " song                   Your Protector - Fleet Foxes\n",
       " score                                      0.038552\n",
       " rank                                              1\n",
       " Name: 0, dtype: object,\n",
       " '85c1f87fea955d09b4bec2e36aee110927aedf9a': user_id    85c1f87fea955d09b4bec2e36aee110927aedf9a\n",
       " song                           Puppets - Atmosphere\n",
       " score                                           0.5\n",
       " rank                                              1\n",
       " Name: 0, dtype: object,\n",
       " 'bd4c6e843f00bd476847fb75c47b4fb430a06856': user_id    bd4c6e843f00bd476847fb75c47b4fb430a06856\n",
       " song        Dead Souls [Re-mastered] - Joy Division\n",
       " score                                      0.138889\n",
       " rank                                              1\n",
       " Name: 0, dtype: object}"
      ]
     },
     "execution_count": 12,
     "metadata": {},
     "output_type": "execute_result"
    }
   ],
   "execution_count": 12
  },
  {
   "cell_type": "code",
   "metadata": {
    "ExecuteTime": {
     "end_time": "2025-04-28T08:50:06.491677Z",
     "start_time": "2025-04-28T08:50:06.428586Z"
    }
   },
   "source": [
    "# Тут пісні сортуються за кількістю прослуховувань з використанням агрегації\n",
    "song_grouped = song_df.groupby(['song']).agg({'listen_count': 'count'}).reset_index()\n",
    "grouped_sum  = song_grouped['listen_count'].sum()\n",
    "\n",
    "song_grouped['percentage']  = song_grouped['listen_count'].div(grouped_sum)*100\n",
    "song_grouped.sort_values( by='percentage', ascending=False).head(10)"
   ],
   "outputs": [
    {
     "data": {
      "text/plain": [
       "                                                   song  listen_count  \\\n",
       "7128                           Sehr kosmisch - Harmonia          5970   \n",
       "9083                                       Undo - Björk          5281   \n",
       "9879                     You're The One - Dwight Yoakam          4806   \n",
       "2068  Dog Days Are Over (Radio Edit) - Florence + Th...          4536   \n",
       "6775                            Revelry - Kings Of Leon          4339   \n",
       "3614  Horn Concerto No. 4 in E flat K495: II. Romanc...          3949   \n",
       "7116                              Secrets - OneRepublic          3916   \n",
       "8846                                 Tive Sim - Cartola          3185   \n",
       "2718                     Fireflies - Charttraxx Karaoke          3171   \n",
       "3486                           Hey_ Soul Sister - Train          3132   \n",
       "\n",
       "      percentage  \n",
       "7128    0.534654  \n",
       "9083    0.472950  \n",
       "9879    0.430410  \n",
       "2068    0.406230  \n",
       "6775    0.388587  \n",
       "3614    0.353660  \n",
       "7116    0.350705  \n",
       "8846    0.285239  \n",
       "2718    0.283985  \n",
       "3486    0.280492  "
      ],
      "text/html": [
       "<div>\n",
       "<style scoped>\n",
       "    .dataframe tbody tr th:only-of-type {\n",
       "        vertical-align: middle;\n",
       "    }\n",
       "\n",
       "    .dataframe tbody tr th {\n",
       "        vertical-align: top;\n",
       "    }\n",
       "\n",
       "    .dataframe thead th {\n",
       "        text-align: right;\n",
       "    }\n",
       "</style>\n",
       "<table border=\"1\" class=\"dataframe\">\n",
       "  <thead>\n",
       "    <tr style=\"text-align: right;\">\n",
       "      <th></th>\n",
       "      <th>song</th>\n",
       "      <th>listen_count</th>\n",
       "      <th>percentage</th>\n",
       "    </tr>\n",
       "  </thead>\n",
       "  <tbody>\n",
       "    <tr>\n",
       "      <th>7128</th>\n",
       "      <td>Sehr kosmisch - Harmonia</td>\n",
       "      <td>5970</td>\n",
       "      <td>0.534654</td>\n",
       "    </tr>\n",
       "    <tr>\n",
       "      <th>9083</th>\n",
       "      <td>Undo - Björk</td>\n",
       "      <td>5281</td>\n",
       "      <td>0.472950</td>\n",
       "    </tr>\n",
       "    <tr>\n",
       "      <th>9879</th>\n",
       "      <td>You're The One - Dwight Yoakam</td>\n",
       "      <td>4806</td>\n",
       "      <td>0.430410</td>\n",
       "    </tr>\n",
       "    <tr>\n",
       "      <th>2068</th>\n",
       "      <td>Dog Days Are Over (Radio Edit) - Florence + Th...</td>\n",
       "      <td>4536</td>\n",
       "      <td>0.406230</td>\n",
       "    </tr>\n",
       "    <tr>\n",
       "      <th>6775</th>\n",
       "      <td>Revelry - Kings Of Leon</td>\n",
       "      <td>4339</td>\n",
       "      <td>0.388587</td>\n",
       "    </tr>\n",
       "    <tr>\n",
       "      <th>3614</th>\n",
       "      <td>Horn Concerto No. 4 in E flat K495: II. Romanc...</td>\n",
       "      <td>3949</td>\n",
       "      <td>0.353660</td>\n",
       "    </tr>\n",
       "    <tr>\n",
       "      <th>7116</th>\n",
       "      <td>Secrets - OneRepublic</td>\n",
       "      <td>3916</td>\n",
       "      <td>0.350705</td>\n",
       "    </tr>\n",
       "    <tr>\n",
       "      <th>8846</th>\n",
       "      <td>Tive Sim - Cartola</td>\n",
       "      <td>3185</td>\n",
       "      <td>0.285239</td>\n",
       "    </tr>\n",
       "    <tr>\n",
       "      <th>2718</th>\n",
       "      <td>Fireflies - Charttraxx Karaoke</td>\n",
       "      <td>3171</td>\n",
       "      <td>0.283985</td>\n",
       "    </tr>\n",
       "    <tr>\n",
       "      <th>3486</th>\n",
       "      <td>Hey_ Soul Sister - Train</td>\n",
       "      <td>3132</td>\n",
       "      <td>0.280492</td>\n",
       "    </tr>\n",
       "  </tbody>\n",
       "</table>\n",
       "</div>"
      ]
     },
     "execution_count": 13,
     "metadata": {},
     "output_type": "execute_result"
    }
   ],
   "execution_count": 13
  },
  {
   "cell_type": "code",
   "metadata": {
    "ExecuteTime": {
     "end_time": "2025-04-28T08:50:06.572330Z",
     "start_time": "2025-04-28T08:50:06.504987Z"
    }
   },
   "source": [
    "song_df['song'].describe()"
   ],
   "outputs": [
    {
     "data": {
      "text/plain": [
       "count                      1116609\n",
       "unique                        9952\n",
       "top       Sehr kosmisch - Harmonia\n",
       "freq                          5970\n",
       "Name: song, dtype: object"
      ]
     },
     "execution_count": 14,
     "metadata": {},
     "output_type": "execute_result"
    }
   ],
   "execution_count": 14
  },
  {
   "cell_type": "code",
   "metadata": {
    "ExecuteTime": {
     "end_time": "2025-04-28T08:50:06.648482Z",
     "start_time": "2025-04-28T08:50:06.604559Z"
    }
   },
   "source": [
    "# Кількість записів, а також кількість користувачів\n",
    "users = song_df['user_id'].unique()"
   ],
   "outputs": [],
   "execution_count": 15
  },
  {
   "cell_type": "code",
   "metadata": {
    "ExecuteTime": {
     "end_time": "2025-04-28T08:50:06.683533Z",
     "start_time": "2025-04-28T08:50:06.681611Z"
    }
   },
   "source": [
    "len(song_df)"
   ],
   "outputs": [
    {
     "data": {
      "text/plain": [
       "1116609"
      ]
     },
     "execution_count": 16,
     "metadata": {},
     "output_type": "execute_result"
    }
   ],
   "execution_count": 16
  },
  {
   "cell_type": "code",
   "metadata": {
    "ExecuteTime": {
     "end_time": "2025-04-28T08:50:06.740238Z",
     "start_time": "2025-04-28T08:50:06.738301Z"
    }
   },
   "source": [
    "len(users)"
   ],
   "outputs": [
    {
     "data": {
      "text/plain": [
       "66346"
      ]
     },
     "execution_count": 17,
     "metadata": {},
     "output_type": "execute_result"
    }
   ],
   "execution_count": 17
  },
  {
   "cell_type": "markdown",
   "metadata": {},
   "source": [
    "### Створення рекомендаційної системи для пісень – simple popularity-based recommender"
   ]
  },
  {
   "cell_type": "code",
   "metadata": {
    "scrolled": true,
    "ExecuteTime": {
     "end_time": "2025-04-28T08:50:06.794600Z",
     "start_time": "2025-04-28T08:50:06.789914Z"
    }
   },
   "source": [
    "train_data, test_data = train_test_split(song_df_3, test_size = 0.20, random_state=0)\n",
    "train_data.head(5)"
   ],
   "outputs": [
    {
     "data": {
      "text/plain": [
       "                                       user_id             song_id  \\\n",
       "7389  354cfdb566f543bb5b810a4d8959d974a30797fd  SOPLUOT12A6D4F7AC3   \n",
       "9275  0ec9cc33028dff6209aa49bf645ef64bdcbe00fc  SOHAZRY12A8C13BC47   \n",
       "2995  8fce200f3912e9608e3b1463cdb9c3529aab5c08  SOIBPQQ12A6310F0F4   \n",
       "5316  7ef2a3b074b34984f3f677bddde0f1813486cc10  SOUJWJW12A63110848   \n",
       "356   2b6c2f33bc0e887ea7c4411f58106805a1923280  SONYEOJ12A8C142E86   \n",
       "\n",
       "      listen_count                  title               artist  \\\n",
       "7389             1          Intergalactic         Beastie Boys   \n",
       "9275            12              Southside  Common / Kanye West   \n",
       "2995             1          I Bloom Blaum             Coldplay   \n",
       "5316             1  Sound Check (Gravity)             Gorillaz   \n",
       "356              6                  Breed              Nirvana   \n",
       "\n",
       "                                  song  \n",
       "7389      Intergalactic - Beastie Boys  \n",
       "9275   Southside - Common / Kanye West  \n",
       "2995          I Bloom Blaum - Coldplay  \n",
       "5316  Sound Check (Gravity) - Gorillaz  \n",
       "356                    Breed - Nirvana  "
      ],
      "text/html": [
       "<div>\n",
       "<style scoped>\n",
       "    .dataframe tbody tr th:only-of-type {\n",
       "        vertical-align: middle;\n",
       "    }\n",
       "\n",
       "    .dataframe tbody tr th {\n",
       "        vertical-align: top;\n",
       "    }\n",
       "\n",
       "    .dataframe thead th {\n",
       "        text-align: right;\n",
       "    }\n",
       "</style>\n",
       "<table border=\"1\" class=\"dataframe\">\n",
       "  <thead>\n",
       "    <tr style=\"text-align: right;\">\n",
       "      <th></th>\n",
       "      <th>user_id</th>\n",
       "      <th>song_id</th>\n",
       "      <th>listen_count</th>\n",
       "      <th>title</th>\n",
       "      <th>artist</th>\n",
       "      <th>song</th>\n",
       "    </tr>\n",
       "  </thead>\n",
       "  <tbody>\n",
       "    <tr>\n",
       "      <th>7389</th>\n",
       "      <td>354cfdb566f543bb5b810a4d8959d974a30797fd</td>\n",
       "      <td>SOPLUOT12A6D4F7AC3</td>\n",
       "      <td>1</td>\n",
       "      <td>Intergalactic</td>\n",
       "      <td>Beastie Boys</td>\n",
       "      <td>Intergalactic - Beastie Boys</td>\n",
       "    </tr>\n",
       "    <tr>\n",
       "      <th>9275</th>\n",
       "      <td>0ec9cc33028dff6209aa49bf645ef64bdcbe00fc</td>\n",
       "      <td>SOHAZRY12A8C13BC47</td>\n",
       "      <td>12</td>\n",
       "      <td>Southside</td>\n",
       "      <td>Common / Kanye West</td>\n",
       "      <td>Southside - Common / Kanye West</td>\n",
       "    </tr>\n",
       "    <tr>\n",
       "      <th>2995</th>\n",
       "      <td>8fce200f3912e9608e3b1463cdb9c3529aab5c08</td>\n",
       "      <td>SOIBPQQ12A6310F0F4</td>\n",
       "      <td>1</td>\n",
       "      <td>I Bloom Blaum</td>\n",
       "      <td>Coldplay</td>\n",
       "      <td>I Bloom Blaum - Coldplay</td>\n",
       "    </tr>\n",
       "    <tr>\n",
       "      <th>5316</th>\n",
       "      <td>7ef2a3b074b34984f3f677bddde0f1813486cc10</td>\n",
       "      <td>SOUJWJW12A63110848</td>\n",
       "      <td>1</td>\n",
       "      <td>Sound Check (Gravity)</td>\n",
       "      <td>Gorillaz</td>\n",
       "      <td>Sound Check (Gravity) - Gorillaz</td>\n",
       "    </tr>\n",
       "    <tr>\n",
       "      <th>356</th>\n",
       "      <td>2b6c2f33bc0e887ea7c4411f58106805a1923280</td>\n",
       "      <td>SONYEOJ12A8C142E86</td>\n",
       "      <td>6</td>\n",
       "      <td>Breed</td>\n",
       "      <td>Nirvana</td>\n",
       "      <td>Breed - Nirvana</td>\n",
       "    </tr>\n",
       "  </tbody>\n",
       "</table>\n",
       "</div>"
      ]
     },
     "execution_count": 18,
     "metadata": {},
     "output_type": "execute_result"
    }
   ],
   "execution_count": 18
  },
  {
   "cell_type": "code",
   "metadata": {
    "ExecuteTime": {
     "end_time": "2025-04-28T08:50:06.896107Z",
     "start_time": "2025-04-28T08:50:06.893462Z"
    }
   },
   "source": [
    "#Class for Popularity based Recommender System model\n",
    "class popularity_recommender_py():\n",
    "    def __init__(self):\n",
    "        self.train_data = None\n",
    "        self.user_id = None\n",
    "        self.item_id = None\n",
    "        self.popularity_recommendations = None\n",
    "\n",
    "    #Create the popularity based recommender system model\n",
    "    def create(self, train_data, user_id, item_id):\n",
    "        self.train_data = train_data\n",
    "        self.user_id = user_id\n",
    "        self.item_id = item_id\n",
    "\n",
    "        #Get a count of user_ids for each unique song as recommendation score\n",
    "        train_data_grouped = train_data.groupby([self.item_id]).agg({self.user_id: 'count'}).reset_index()\n",
    "        train_data_grouped.rename(columns = {'user_id': 'score'},inplace=True)\n",
    "\n",
    "        #Sort the songs based upon recommendation score\n",
    "        train_data_sort = train_data_grouped.sort_values(['score', self.item_id], ascending = [0,1])\n",
    "\n",
    "        #Generate a recommendation rank based upon score\n",
    "        train_data_sort['Rank'] = train_data_sort['score'].rank(ascending=0, method='first')\n",
    "\n",
    "        #Get the top 10 recommendations\n",
    "        self.popularity_recommendations = train_data_sort.head(10)\n",
    "\n",
    "    #Use the popularity based recommender system model to\n",
    "    #make recommendations\n",
    "    def recommend(self, user_id):\n",
    "        user_recommendations = self.popularity_recommendations\n",
    "\n",
    "        #Add user_id column for which the recommendations are being generated\n",
    "        user_recommendations['user_id'] = user_id\n",
    "\n",
    "        #Bring user_id column to the front\n",
    "        cols = user_recommendations.columns.tolist()\n",
    "        cols = cols[-1:] + cols[:-1]\n",
    "        user_recommendations = user_recommendations[cols]\n",
    "\n",
    "        return user_recommendations"
   ],
   "outputs": [],
   "execution_count": 19
  },
  {
   "cell_type": "code",
   "metadata": {
    "ExecuteTime": {
     "end_time": "2025-04-28T08:50:06.950327Z",
     "start_time": "2025-04-28T08:50:06.944171Z"
    }
   },
   "source": [
    "popularity_m = popularity_recommender_py()\n",
    "popularity_m.create(train_data, 'user_id', 'song')"
   ],
   "outputs": [],
   "execution_count": 20
  },
  {
   "cell_type": "code",
   "metadata": {
    "ExecuteTime": {
     "end_time": "2025-04-28T08:50:06.998879Z",
     "start_time": "2025-04-28T08:50:06.995083Z"
    }
   },
   "source": [
    "popularity_m.recommend(song_df['user_id'][0])"
   ],
   "outputs": [
    {
     "data": {
      "text/plain": [
       "                                       user_id  \\\n",
       "3228  b80344d063b5ccb3212f76538f3d9e43d87dca9e   \n",
       "929   b80344d063b5ccb3212f76538f3d9e43d87dca9e   \n",
       "4097  b80344d063b5ccb3212f76538f3d9e43d87dca9e   \n",
       "3222  b80344d063b5ccb3212f76538f3d9e43d87dca9e   \n",
       "4464  b80344d063b5ccb3212f76538f3d9e43d87dca9e   \n",
       "1231  b80344d063b5ccb3212f76538f3d9e43d87dca9e   \n",
       "3072  b80344d063b5ccb3212f76538f3d9e43d87dca9e   \n",
       "1654  b80344d063b5ccb3212f76538f3d9e43d87dca9e   \n",
       "3849  b80344d063b5ccb3212f76538f3d9e43d87dca9e   \n",
       "1002  b80344d063b5ccb3212f76538f3d9e43d87dca9e   \n",
       "\n",
       "                                                   song  score  Rank  \n",
       "3228                           Sehr kosmisch - Harmonia     44   1.0  \n",
       "929   Dog Days Are Over (Radio Edit) - Florence + Th...     40   2.0  \n",
       "4097                                       Undo - Björk     35   3.0  \n",
       "3222                              Secrets - OneRepublic     34   4.0  \n",
       "4464                     You're The One - Dwight Yoakam     33   5.0  \n",
       "1231                     Fireflies - Charttraxx Karaoke     29   6.0  \n",
       "3072                            Revelry - Kings Of Leon     29   7.0  \n",
       "1654  Horn Concerto No. 4 in E flat K495: II. Romanc...     28   8.0  \n",
       "3849                           The Scientist - Coldplay     23   9.0  \n",
       "1002                Drop The World - Lil Wayne / Eminem     22  10.0  "
      ],
      "text/html": [
       "<div>\n",
       "<style scoped>\n",
       "    .dataframe tbody tr th:only-of-type {\n",
       "        vertical-align: middle;\n",
       "    }\n",
       "\n",
       "    .dataframe tbody tr th {\n",
       "        vertical-align: top;\n",
       "    }\n",
       "\n",
       "    .dataframe thead th {\n",
       "        text-align: right;\n",
       "    }\n",
       "</style>\n",
       "<table border=\"1\" class=\"dataframe\">\n",
       "  <thead>\n",
       "    <tr style=\"text-align: right;\">\n",
       "      <th></th>\n",
       "      <th>user_id</th>\n",
       "      <th>song</th>\n",
       "      <th>score</th>\n",
       "      <th>Rank</th>\n",
       "    </tr>\n",
       "  </thead>\n",
       "  <tbody>\n",
       "    <tr>\n",
       "      <th>3228</th>\n",
       "      <td>b80344d063b5ccb3212f76538f3d9e43d87dca9e</td>\n",
       "      <td>Sehr kosmisch - Harmonia</td>\n",
       "      <td>44</td>\n",
       "      <td>1.0</td>\n",
       "    </tr>\n",
       "    <tr>\n",
       "      <th>929</th>\n",
       "      <td>b80344d063b5ccb3212f76538f3d9e43d87dca9e</td>\n",
       "      <td>Dog Days Are Over (Radio Edit) - Florence + Th...</td>\n",
       "      <td>40</td>\n",
       "      <td>2.0</td>\n",
       "    </tr>\n",
       "    <tr>\n",
       "      <th>4097</th>\n",
       "      <td>b80344d063b5ccb3212f76538f3d9e43d87dca9e</td>\n",
       "      <td>Undo - Björk</td>\n",
       "      <td>35</td>\n",
       "      <td>3.0</td>\n",
       "    </tr>\n",
       "    <tr>\n",
       "      <th>3222</th>\n",
       "      <td>b80344d063b5ccb3212f76538f3d9e43d87dca9e</td>\n",
       "      <td>Secrets - OneRepublic</td>\n",
       "      <td>34</td>\n",
       "      <td>4.0</td>\n",
       "    </tr>\n",
       "    <tr>\n",
       "      <th>4464</th>\n",
       "      <td>b80344d063b5ccb3212f76538f3d9e43d87dca9e</td>\n",
       "      <td>You're The One - Dwight Yoakam</td>\n",
       "      <td>33</td>\n",
       "      <td>5.0</td>\n",
       "    </tr>\n",
       "    <tr>\n",
       "      <th>1231</th>\n",
       "      <td>b80344d063b5ccb3212f76538f3d9e43d87dca9e</td>\n",
       "      <td>Fireflies - Charttraxx Karaoke</td>\n",
       "      <td>29</td>\n",
       "      <td>6.0</td>\n",
       "    </tr>\n",
       "    <tr>\n",
       "      <th>3072</th>\n",
       "      <td>b80344d063b5ccb3212f76538f3d9e43d87dca9e</td>\n",
       "      <td>Revelry - Kings Of Leon</td>\n",
       "      <td>29</td>\n",
       "      <td>7.0</td>\n",
       "    </tr>\n",
       "    <tr>\n",
       "      <th>1654</th>\n",
       "      <td>b80344d063b5ccb3212f76538f3d9e43d87dca9e</td>\n",
       "      <td>Horn Concerto No. 4 in E flat K495: II. Romanc...</td>\n",
       "      <td>28</td>\n",
       "      <td>8.0</td>\n",
       "    </tr>\n",
       "    <tr>\n",
       "      <th>3849</th>\n",
       "      <td>b80344d063b5ccb3212f76538f3d9e43d87dca9e</td>\n",
       "      <td>The Scientist - Coldplay</td>\n",
       "      <td>23</td>\n",
       "      <td>9.0</td>\n",
       "    </tr>\n",
       "    <tr>\n",
       "      <th>1002</th>\n",
       "      <td>b80344d063b5ccb3212f76538f3d9e43d87dca9e</td>\n",
       "      <td>Drop The World - Lil Wayne / Eminem</td>\n",
       "      <td>22</td>\n",
       "      <td>10.0</td>\n",
       "    </tr>\n",
       "  </tbody>\n",
       "</table>\n",
       "</div>"
      ]
     },
     "execution_count": 21,
     "metadata": {},
     "output_type": "execute_result"
    }
   ],
   "execution_count": 21
  },
  {
   "cell_type": "code",
   "metadata": {
    "ExecuteTime": {
     "end_time": "2025-04-28T08:50:07.064826Z",
     "start_time": "2025-04-28T08:50:07.061076Z"
    }
   },
   "source": [
    "popularity_m.recommend(song_df['user_id'][1])"
   ],
   "outputs": [
    {
     "data": {
      "text/plain": [
       "                                       user_id  \\\n",
       "3228  b80344d063b5ccb3212f76538f3d9e43d87dca9e   \n",
       "929   b80344d063b5ccb3212f76538f3d9e43d87dca9e   \n",
       "4097  b80344d063b5ccb3212f76538f3d9e43d87dca9e   \n",
       "3222  b80344d063b5ccb3212f76538f3d9e43d87dca9e   \n",
       "4464  b80344d063b5ccb3212f76538f3d9e43d87dca9e   \n",
       "1231  b80344d063b5ccb3212f76538f3d9e43d87dca9e   \n",
       "3072  b80344d063b5ccb3212f76538f3d9e43d87dca9e   \n",
       "1654  b80344d063b5ccb3212f76538f3d9e43d87dca9e   \n",
       "3849  b80344d063b5ccb3212f76538f3d9e43d87dca9e   \n",
       "1002  b80344d063b5ccb3212f76538f3d9e43d87dca9e   \n",
       "\n",
       "                                                   song  score  Rank  \n",
       "3228                           Sehr kosmisch - Harmonia     44   1.0  \n",
       "929   Dog Days Are Over (Radio Edit) - Florence + Th...     40   2.0  \n",
       "4097                                       Undo - Björk     35   3.0  \n",
       "3222                              Secrets - OneRepublic     34   4.0  \n",
       "4464                     You're The One - Dwight Yoakam     33   5.0  \n",
       "1231                     Fireflies - Charttraxx Karaoke     29   6.0  \n",
       "3072                            Revelry - Kings Of Leon     29   7.0  \n",
       "1654  Horn Concerto No. 4 in E flat K495: II. Romanc...     28   8.0  \n",
       "3849                           The Scientist - Coldplay     23   9.0  \n",
       "1002                Drop The World - Lil Wayne / Eminem     22  10.0  "
      ],
      "text/html": [
       "<div>\n",
       "<style scoped>\n",
       "    .dataframe tbody tr th:only-of-type {\n",
       "        vertical-align: middle;\n",
       "    }\n",
       "\n",
       "    .dataframe tbody tr th {\n",
       "        vertical-align: top;\n",
       "    }\n",
       "\n",
       "    .dataframe thead th {\n",
       "        text-align: right;\n",
       "    }\n",
       "</style>\n",
       "<table border=\"1\" class=\"dataframe\">\n",
       "  <thead>\n",
       "    <tr style=\"text-align: right;\">\n",
       "      <th></th>\n",
       "      <th>user_id</th>\n",
       "      <th>song</th>\n",
       "      <th>score</th>\n",
       "      <th>Rank</th>\n",
       "    </tr>\n",
       "  </thead>\n",
       "  <tbody>\n",
       "    <tr>\n",
       "      <th>3228</th>\n",
       "      <td>b80344d063b5ccb3212f76538f3d9e43d87dca9e</td>\n",
       "      <td>Sehr kosmisch - Harmonia</td>\n",
       "      <td>44</td>\n",
       "      <td>1.0</td>\n",
       "    </tr>\n",
       "    <tr>\n",
       "      <th>929</th>\n",
       "      <td>b80344d063b5ccb3212f76538f3d9e43d87dca9e</td>\n",
       "      <td>Dog Days Are Over (Radio Edit) - Florence + Th...</td>\n",
       "      <td>40</td>\n",
       "      <td>2.0</td>\n",
       "    </tr>\n",
       "    <tr>\n",
       "      <th>4097</th>\n",
       "      <td>b80344d063b5ccb3212f76538f3d9e43d87dca9e</td>\n",
       "      <td>Undo - Björk</td>\n",
       "      <td>35</td>\n",
       "      <td>3.0</td>\n",
       "    </tr>\n",
       "    <tr>\n",
       "      <th>3222</th>\n",
       "      <td>b80344d063b5ccb3212f76538f3d9e43d87dca9e</td>\n",
       "      <td>Secrets - OneRepublic</td>\n",
       "      <td>34</td>\n",
       "      <td>4.0</td>\n",
       "    </tr>\n",
       "    <tr>\n",
       "      <th>4464</th>\n",
       "      <td>b80344d063b5ccb3212f76538f3d9e43d87dca9e</td>\n",
       "      <td>You're The One - Dwight Yoakam</td>\n",
       "      <td>33</td>\n",
       "      <td>5.0</td>\n",
       "    </tr>\n",
       "    <tr>\n",
       "      <th>1231</th>\n",
       "      <td>b80344d063b5ccb3212f76538f3d9e43d87dca9e</td>\n",
       "      <td>Fireflies - Charttraxx Karaoke</td>\n",
       "      <td>29</td>\n",
       "      <td>6.0</td>\n",
       "    </tr>\n",
       "    <tr>\n",
       "      <th>3072</th>\n",
       "      <td>b80344d063b5ccb3212f76538f3d9e43d87dca9e</td>\n",
       "      <td>Revelry - Kings Of Leon</td>\n",
       "      <td>29</td>\n",
       "      <td>7.0</td>\n",
       "    </tr>\n",
       "    <tr>\n",
       "      <th>1654</th>\n",
       "      <td>b80344d063b5ccb3212f76538f3d9e43d87dca9e</td>\n",
       "      <td>Horn Concerto No. 4 in E flat K495: II. Romanc...</td>\n",
       "      <td>28</td>\n",
       "      <td>8.0</td>\n",
       "    </tr>\n",
       "    <tr>\n",
       "      <th>3849</th>\n",
       "      <td>b80344d063b5ccb3212f76538f3d9e43d87dca9e</td>\n",
       "      <td>The Scientist - Coldplay</td>\n",
       "      <td>23</td>\n",
       "      <td>9.0</td>\n",
       "    </tr>\n",
       "    <tr>\n",
       "      <th>1002</th>\n",
       "      <td>b80344d063b5ccb3212f76538f3d9e43d87dca9e</td>\n",
       "      <td>Drop The World - Lil Wayne / Eminem</td>\n",
       "      <td>22</td>\n",
       "      <td>10.0</td>\n",
       "    </tr>\n",
       "  </tbody>\n",
       "</table>\n",
       "</div>"
      ]
     },
     "execution_count": 22,
     "metadata": {},
     "output_type": "execute_result"
    }
   ],
   "execution_count": 22
  },
  {
   "cell_type": "markdown",
   "metadata": {},
   "source": [
    "### Рекомендаційна система з персоналізацією, що заснована на схожості"
   ]
  },
  {
   "cell_type": "code",
   "metadata": {
    "ExecuteTime": {
     "end_time": "2025-04-28T08:50:07.141123Z",
     "start_time": "2025-04-28T08:50:07.135700Z"
    }
   },
   "source": [
    "class item_similarity_recommender_py():\n",
    "    def __init__(self):\n",
    "        self.train_data = None\n",
    "        self.user_id = None\n",
    "        self.item_id = None\n",
    "        self.cooccurence_matrix = None\n",
    "        self.songs_dict = None\n",
    "        self.rev_songs_dict = None\n",
    "        self.item_similarity_recommendations = None\n",
    "\n",
    "    #Get unique items (songs) corresponding to a given user\n",
    "    def get_user_items(self, user):\n",
    "        user_data = self.train_data[self.train_data[self.user_id] == user]\n",
    "        user_items = list(user_data[self.item_id].unique())\n",
    "\n",
    "        return user_items\n",
    "\n",
    "    #Get unique users for a given item (song)\n",
    "    def get_item_users(self, item):\n",
    "        item_data = self.train_data[self.train_data[self.item_id] == item]\n",
    "        item_users = set(item_data[self.user_id].unique())\n",
    "\n",
    "        return item_users\n",
    "\n",
    "    #Get unique items (songs) in the training data\n",
    "    def get_all_items_train_data(self):\n",
    "        all_items = list(self.train_data[self.item_id].unique())\n",
    "\n",
    "        return all_items\n",
    "\n",
    "    #Construct cooccurence matrix\n",
    "    def construct_cooccurence_matrix(self, user_songs, all_songs):\n",
    "\n",
    "        ####################################\n",
    "        #Get users for all songs in user_songs.\n",
    "        ####################################\n",
    "        user_songs_users = []\n",
    "        for i in range(0, len(user_songs)):\n",
    "            user_songs_users.append(self.get_item_users(user_songs[i]))\n",
    "\n",
    "        ###############################################\n",
    "        #Initialize the item cooccurence matrix of size\n",
    "        #len(user_songs) X len(songs)\n",
    "        ###############################################\n",
    "        cooccurence_matrix = np.matrix(np.zeros(shape=(len(user_songs), len(all_songs))), float)\n",
    "\n",
    "        #############################################################\n",
    "        #Calculate similarity between user songs and all unique songs\n",
    "        #in the training data\n",
    "        #############################################################\n",
    "        for i in range(0,len(all_songs)):\n",
    "            #Calculate unique listeners (users) of song (item) i\n",
    "            songs_i_data = self.train_data[self.train_data[self.item_id] == all_songs[i]]\n",
    "            users_i = set(songs_i_data[self.user_id].unique())\n",
    "\n",
    "            for j in range(0,len(user_songs)):\n",
    "\n",
    "                #Get unique listeners (users) of song (item) j\n",
    "                users_j = user_songs_users[j]\n",
    "\n",
    "                #Calculate intersection of listeners of songs i and j\n",
    "                users_intersection = users_i.intersection(users_j)\n",
    "\n",
    "                #Calculate cooccurence_matrix[i,j] as Jaccard Index\n",
    "                if len(users_intersection) != 0:\n",
    "                    #Calculate union of listeners of songs i and j\n",
    "                    users_union = users_i.union(users_j)\n",
    "\n",
    "                    cooccurence_matrix[j,i] = float(len(users_intersection))/float(len(users_union))\n",
    "                else:\n",
    "                    cooccurence_matrix[j,i] = 0\n",
    "\n",
    "\n",
    "        return cooccurence_matrix\n",
    "\n",
    "\n",
    "    #Use the cooccurence matrix to make top recommendations\n",
    "    def generate_top_recommendations(self, user, cooccurence_matrix, all_songs, user_songs):\n",
    "        print(\"Non zero values in cooccurence_matrix :%d\" % np.count_nonzero(cooccurence_matrix))\n",
    "\n",
    "        #Calculate a weighted average of the scores in cooccurence matrix for all user songs.\n",
    "        user_sim_scores = cooccurence_matrix.sum(axis=0)/float(cooccurence_matrix.shape[0])\n",
    "        user_sim_scores = np.array(user_sim_scores)[0].tolist()\n",
    "\n",
    "        #Sort the indices of user_sim_scores based upon their value\n",
    "        #Also maintain the corresponding score\n",
    "        sort_index = sorted(((e,i) for i,e in enumerate(list(user_sim_scores))), reverse=True)\n",
    "\n",
    "        #Create a dataframe from the following\n",
    "        columns = ['user_id', 'song', 'score', 'rank']\n",
    "        #index = np.arange(1) # array of numbers for the number of samples\n",
    "        df = pandas.DataFrame(columns=columns)\n",
    "\n",
    "        #Fill the dataframe with top 10 item based recommendations\n",
    "        rank = 1\n",
    "        for i in range(0,len(sort_index)):\n",
    "            if ~np.isnan(sort_index[i][0]) and all_songs[sort_index[i][1]] not in user_songs and rank <= 10:\n",
    "                df.loc[len(df)]=[user,all_songs[sort_index[i][1]],sort_index[i][0],rank]\n",
    "                rank = rank+1\n",
    "\n",
    "        #Handle the case where there are no recommendations\n",
    "        if df.shape[0] == 0:\n",
    "            print(\"The current user has no songs for training the item similarity based recommendation model.\")\n",
    "            return -1\n",
    "        else:\n",
    "            return df\n",
    "\n",
    "    #Create the item similarity based recommender system model\n",
    "    def create(self, train_data, user_id, item_id):\n",
    "        self.train_data = train_data\n",
    "        self.user_id = user_id\n",
    "        self.item_id = item_id\n",
    "\n",
    "    #Use the item similarity based recommender system model to\n",
    "    #make recommendations\n",
    "    def recommend(self, user):\n",
    "\n",
    "        ########################################\n",
    "        #A. Get all unique songs for this user\n",
    "        ########################################\n",
    "        user_songs = self.get_user_items(user)\n",
    "\n",
    "        print(\"No. of unique songs for the user: %d\" % len(user_songs))\n",
    "\n",
    "        ######################################################\n",
    "        #B. Get all unique items (songs) in the training data\n",
    "        ######################################################\n",
    "        all_songs = self.get_all_items_train_data()\n",
    "\n",
    "        print(\"No. of unique songs in the training set: %d\" % len(all_songs))\n",
    "\n",
    "        ###############################################\n",
    "        #C. Construct item cooccurence matrix of size\n",
    "        #len(user_songs) X len(songs)\n",
    "        ###############################################\n",
    "        cooccurence_matrix = self.construct_cooccurence_matrix(user_songs, all_songs)\n",
    "\n",
    "        #######################################################\n",
    "        #D. Use the cooccurence matrix to make recommendations\n",
    "        #######################################################\n",
    "        df_recommendations = self.generate_top_recommendations(user, cooccurence_matrix, all_songs, user_songs)\n",
    "\n",
    "        return df_recommendations\n",
    "\n",
    "    #Get similar items to given items\n",
    "    def get_similar_items(self, item_list):\n",
    "\n",
    "        user_songs = item_list\n",
    "\n",
    "        ######################################################\n",
    "        #B. Get all unique items (songs) in the training data\n",
    "        ######################################################\n",
    "        all_songs = self.get_all_items_train_data()\n",
    "\n",
    "        print(\"No. of unique songs in the training set: %d\" % len(all_songs))\n",
    "\n",
    "        ###############################################\n",
    "        #C. Construct item cooccurence matrix of size\n",
    "        #len(user_songs) X len(songs)\n",
    "        ###############################################\n",
    "        cooccurence_matrix = self.construct_cooccurence_matrix(user_songs, all_songs)\n",
    "\n",
    "        #######################################################\n",
    "        #D. Use the cooccurence matrix to make recommendations\n",
    "        #######################################################\n",
    "        user = \"\"\n",
    "        df_recommendations = self.generate_top_recommendations(user, cooccurence_matrix, all_songs, user_songs)\n",
    "\n",
    "        return df_recommendations"
   ],
   "outputs": [],
   "execution_count": 23
  },
  {
   "cell_type": "code",
   "metadata": {
    "ExecuteTime": {
     "end_time": "2025-04-28T08:50:07.191571Z",
     "start_time": "2025-04-28T08:50:07.189777Z"
    }
   },
   "source": [
    "personalized_model = item_similarity_recommender_py()\n",
    "personalized_model.create( train_data, 'user_id', 'song' )"
   ],
   "outputs": [],
   "execution_count": 24
  },
  {
   "cell_type": "code",
   "metadata": {
    "ExecuteTime": {
     "end_time": "2025-04-28T08:50:08.838611Z",
     "start_time": "2025-04-28T08:50:07.242428Z"
    }
   },
   "source": [
    "cur_user_id = users[5]\n",
    "user_items = personalized_model.get_user_items( cur_user_id )\n",
    "personalized_model.recommend( cur_user_id )"
   ],
   "outputs": [
    {
     "name": "stdout",
     "output_type": "stream",
     "text": [
      "No. of unique songs for the user: 13\n",
      "No. of unique songs in the training set: 4496\n",
      "Non zero values in cooccurence_matrix :959\n"
     ]
    },
    {
     "data": {
      "text/plain": [
       "                                    user_id  \\\n",
       "0  4bd88bfb25263a75bbdd467e74018f4ae570e5df   \n",
       "1  4bd88bfb25263a75bbdd467e74018f4ae570e5df   \n",
       "2  4bd88bfb25263a75bbdd467e74018f4ae570e5df   \n",
       "3  4bd88bfb25263a75bbdd467e74018f4ae570e5df   \n",
       "4  4bd88bfb25263a75bbdd467e74018f4ae570e5df   \n",
       "5  4bd88bfb25263a75bbdd467e74018f4ae570e5df   \n",
       "6  4bd88bfb25263a75bbdd467e74018f4ae570e5df   \n",
       "7  4bd88bfb25263a75bbdd467e74018f4ae570e5df   \n",
       "8  4bd88bfb25263a75bbdd467e74018f4ae570e5df   \n",
       "9  4bd88bfb25263a75bbdd467e74018f4ae570e5df   \n",
       "\n",
       "                                                song     score  rank  \n",
       "0            You Found Me (Album Version) - The Fray  0.058974     1  \n",
       "1                    Hellbound - J-Black & Masta Ace  0.058974     2  \n",
       "2                        As The World Turns - Eminem  0.053780     3  \n",
       "3                                  I'm Back - Eminem  0.052015     4  \n",
       "4  Armed And Ready (2009 Digital Remaster) - The ...  0.044322     5  \n",
       "5   I'm The One Who Understands (Edit Version) - War  0.044322     6  \n",
       "6                                  Falling - Iration  0.044322     7  \n",
       "7                       Superman - Eminem / Dina Rae  0.039777     8  \n",
       "8        The Seed (2.0) - The Roots / Cody Chestnutt  0.038586     9  \n",
       "9                         The Way You Move - OutKast  0.038586    10  "
      ],
      "text/html": [
       "<div>\n",
       "<style scoped>\n",
       "    .dataframe tbody tr th:only-of-type {\n",
       "        vertical-align: middle;\n",
       "    }\n",
       "\n",
       "    .dataframe tbody tr th {\n",
       "        vertical-align: top;\n",
       "    }\n",
       "\n",
       "    .dataframe thead th {\n",
       "        text-align: right;\n",
       "    }\n",
       "</style>\n",
       "<table border=\"1\" class=\"dataframe\">\n",
       "  <thead>\n",
       "    <tr style=\"text-align: right;\">\n",
       "      <th></th>\n",
       "      <th>user_id</th>\n",
       "      <th>song</th>\n",
       "      <th>score</th>\n",
       "      <th>rank</th>\n",
       "    </tr>\n",
       "  </thead>\n",
       "  <tbody>\n",
       "    <tr>\n",
       "      <th>0</th>\n",
       "      <td>4bd88bfb25263a75bbdd467e74018f4ae570e5df</td>\n",
       "      <td>You Found Me (Album Version) - The Fray</td>\n",
       "      <td>0.058974</td>\n",
       "      <td>1</td>\n",
       "    </tr>\n",
       "    <tr>\n",
       "      <th>1</th>\n",
       "      <td>4bd88bfb25263a75bbdd467e74018f4ae570e5df</td>\n",
       "      <td>Hellbound - J-Black &amp; Masta Ace</td>\n",
       "      <td>0.058974</td>\n",
       "      <td>2</td>\n",
       "    </tr>\n",
       "    <tr>\n",
       "      <th>2</th>\n",
       "      <td>4bd88bfb25263a75bbdd467e74018f4ae570e5df</td>\n",
       "      <td>As The World Turns - Eminem</td>\n",
       "      <td>0.053780</td>\n",
       "      <td>3</td>\n",
       "    </tr>\n",
       "    <tr>\n",
       "      <th>3</th>\n",
       "      <td>4bd88bfb25263a75bbdd467e74018f4ae570e5df</td>\n",
       "      <td>I'm Back - Eminem</td>\n",
       "      <td>0.052015</td>\n",
       "      <td>4</td>\n",
       "    </tr>\n",
       "    <tr>\n",
       "      <th>4</th>\n",
       "      <td>4bd88bfb25263a75bbdd467e74018f4ae570e5df</td>\n",
       "      <td>Armed And Ready (2009 Digital Remaster) - The ...</td>\n",
       "      <td>0.044322</td>\n",
       "      <td>5</td>\n",
       "    </tr>\n",
       "    <tr>\n",
       "      <th>5</th>\n",
       "      <td>4bd88bfb25263a75bbdd467e74018f4ae570e5df</td>\n",
       "      <td>I'm The One Who Understands (Edit Version) - War</td>\n",
       "      <td>0.044322</td>\n",
       "      <td>6</td>\n",
       "    </tr>\n",
       "    <tr>\n",
       "      <th>6</th>\n",
       "      <td>4bd88bfb25263a75bbdd467e74018f4ae570e5df</td>\n",
       "      <td>Falling - Iration</td>\n",
       "      <td>0.044322</td>\n",
       "      <td>7</td>\n",
       "    </tr>\n",
       "    <tr>\n",
       "      <th>7</th>\n",
       "      <td>4bd88bfb25263a75bbdd467e74018f4ae570e5df</td>\n",
       "      <td>Superman - Eminem / Dina Rae</td>\n",
       "      <td>0.039777</td>\n",
       "      <td>8</td>\n",
       "    </tr>\n",
       "    <tr>\n",
       "      <th>8</th>\n",
       "      <td>4bd88bfb25263a75bbdd467e74018f4ae570e5df</td>\n",
       "      <td>The Seed (2.0) - The Roots / Cody Chestnutt</td>\n",
       "      <td>0.038586</td>\n",
       "      <td>9</td>\n",
       "    </tr>\n",
       "    <tr>\n",
       "      <th>9</th>\n",
       "      <td>4bd88bfb25263a75bbdd467e74018f4ae570e5df</td>\n",
       "      <td>The Way You Move - OutKast</td>\n",
       "      <td>0.038586</td>\n",
       "      <td>10</td>\n",
       "    </tr>\n",
       "  </tbody>\n",
       "</table>\n",
       "</div>"
      ]
     },
     "execution_count": 25,
     "metadata": {},
     "output_type": "execute_result"
    }
   ],
   "execution_count": 25
  },
  {
   "cell_type": "code",
   "metadata": {
    "ExecuteTime": {
     "end_time": "2025-04-28T08:50:10.417002Z",
     "start_time": "2025-04-28T08:50:08.863649Z"
    }
   },
   "source": [
    "personalized_model.get_similar_items(['Chan Chan (Live) - Buena Vista Social Club'])"
   ],
   "outputs": [
    {
     "name": "stdout",
     "output_type": "stream",
     "text": [
      "No. of unique songs in the training set: 4496\n",
      "Non zero values in cooccurence_matrix :22\n"
     ]
    },
    {
     "data": {
      "text/plain": [
       "  user_id                                               song     score  rank\n",
       "0                     Always Like This - Bombay Bicycle Club  0.500000     1\n",
       "1                                              Kong - Bonobo  0.500000     2\n",
       "2                       I'll Try Anything Once - The Strokes  0.500000     3\n",
       "3          Cotton Fields (The Cotton Song) (Digitally Rem...  0.500000     4\n",
       "4                           You Only Live Once - The Strokes  0.500000     5\n",
       "5          The Sound of Settling (Album Version) - Death ...  0.500000     6\n",
       "6                              Novocaine For The Soul - Eels  0.333333     7\n",
       "7                       Every Lasting Light - The Black Keys  0.333333     8\n",
       "8                             This Charming Man - The Smiths  0.333333     9\n",
       "9                         Holland_ 1945 - Neutral Milk Hotel  0.333333    10"
      ],
      "text/html": [
       "<div>\n",
       "<style scoped>\n",
       "    .dataframe tbody tr th:only-of-type {\n",
       "        vertical-align: middle;\n",
       "    }\n",
       "\n",
       "    .dataframe tbody tr th {\n",
       "        vertical-align: top;\n",
       "    }\n",
       "\n",
       "    .dataframe thead th {\n",
       "        text-align: right;\n",
       "    }\n",
       "</style>\n",
       "<table border=\"1\" class=\"dataframe\">\n",
       "  <thead>\n",
       "    <tr style=\"text-align: right;\">\n",
       "      <th></th>\n",
       "      <th>user_id</th>\n",
       "      <th>song</th>\n",
       "      <th>score</th>\n",
       "      <th>rank</th>\n",
       "    </tr>\n",
       "  </thead>\n",
       "  <tbody>\n",
       "    <tr>\n",
       "      <th>0</th>\n",
       "      <td></td>\n",
       "      <td>Always Like This - Bombay Bicycle Club</td>\n",
       "      <td>0.500000</td>\n",
       "      <td>1</td>\n",
       "    </tr>\n",
       "    <tr>\n",
       "      <th>1</th>\n",
       "      <td></td>\n",
       "      <td>Kong - Bonobo</td>\n",
       "      <td>0.500000</td>\n",
       "      <td>2</td>\n",
       "    </tr>\n",
       "    <tr>\n",
       "      <th>2</th>\n",
       "      <td></td>\n",
       "      <td>I'll Try Anything Once - The Strokes</td>\n",
       "      <td>0.500000</td>\n",
       "      <td>3</td>\n",
       "    </tr>\n",
       "    <tr>\n",
       "      <th>3</th>\n",
       "      <td></td>\n",
       "      <td>Cotton Fields (The Cotton Song) (Digitally Rem...</td>\n",
       "      <td>0.500000</td>\n",
       "      <td>4</td>\n",
       "    </tr>\n",
       "    <tr>\n",
       "      <th>4</th>\n",
       "      <td></td>\n",
       "      <td>You Only Live Once - The Strokes</td>\n",
       "      <td>0.500000</td>\n",
       "      <td>5</td>\n",
       "    </tr>\n",
       "    <tr>\n",
       "      <th>5</th>\n",
       "      <td></td>\n",
       "      <td>The Sound of Settling (Album Version) - Death ...</td>\n",
       "      <td>0.500000</td>\n",
       "      <td>6</td>\n",
       "    </tr>\n",
       "    <tr>\n",
       "      <th>6</th>\n",
       "      <td></td>\n",
       "      <td>Novocaine For The Soul - Eels</td>\n",
       "      <td>0.333333</td>\n",
       "      <td>7</td>\n",
       "    </tr>\n",
       "    <tr>\n",
       "      <th>7</th>\n",
       "      <td></td>\n",
       "      <td>Every Lasting Light - The Black Keys</td>\n",
       "      <td>0.333333</td>\n",
       "      <td>8</td>\n",
       "    </tr>\n",
       "    <tr>\n",
       "      <th>8</th>\n",
       "      <td></td>\n",
       "      <td>This Charming Man - The Smiths</td>\n",
       "      <td>0.333333</td>\n",
       "      <td>9</td>\n",
       "    </tr>\n",
       "    <tr>\n",
       "      <th>9</th>\n",
       "      <td></td>\n",
       "      <td>Holland_ 1945 - Neutral Milk Hotel</td>\n",
       "      <td>0.333333</td>\n",
       "      <td>10</td>\n",
       "    </tr>\n",
       "  </tbody>\n",
       "</table>\n",
       "</div>"
      ]
     },
     "execution_count": 26,
     "metadata": {},
     "output_type": "execute_result"
    }
   ],
   "execution_count": 26
  },
  {
   "cell_type": "code",
   "metadata": {
    "ExecuteTime": {
     "end_time": "2025-04-28T08:50:12.003998Z",
     "start_time": "2025-04-28T08:50:10.453185Z"
    }
   },
   "source": [
    "personalized_model.get_similar_items(['Taylor Swift']).head(20)"
   ],
   "outputs": [
    {
     "name": "stdout",
     "output_type": "stream",
     "text": [
      "No. of unique songs in the training set: 4496\n",
      "Non zero values in cooccurence_matrix :0\n"
     ]
    },
    {
     "data": {
      "text/plain": [
       "  user_id                                               song  score  rank\n",
       "0                                 Joe's Head - Kings Of Leon    0.0     1\n",
       "1                         Santa Monica - Theory Of A Deadman    0.0     2\n",
       "2                                       Rock Bottom - Eminem    0.0     3\n",
       "3                            Too Much Love - LCD Soundsystem    0.0     4\n",
       "4          Side To Side (Featuring Lateef & Pigeon John) ...    0.0     5\n",
       "5               Superman (It's Not Easy) - Five for Fighting    0.0     6\n",
       "6                       Hell Breaks Loose - Eminem / Dr. Dre    0.0     7\n",
       "7                         Doin' The Cockroach - Modest Mouse    0.0     8\n",
       "8                           Walkin' On The Sun - Smash Mouth    0.0     9\n",
       "9                                 Te Va A Doler - Maelo Ruiz    0.0    10"
      ],
      "text/html": [
       "<div>\n",
       "<style scoped>\n",
       "    .dataframe tbody tr th:only-of-type {\n",
       "        vertical-align: middle;\n",
       "    }\n",
       "\n",
       "    .dataframe tbody tr th {\n",
       "        vertical-align: top;\n",
       "    }\n",
       "\n",
       "    .dataframe thead th {\n",
       "        text-align: right;\n",
       "    }\n",
       "</style>\n",
       "<table border=\"1\" class=\"dataframe\">\n",
       "  <thead>\n",
       "    <tr style=\"text-align: right;\">\n",
       "      <th></th>\n",
       "      <th>user_id</th>\n",
       "      <th>song</th>\n",
       "      <th>score</th>\n",
       "      <th>rank</th>\n",
       "    </tr>\n",
       "  </thead>\n",
       "  <tbody>\n",
       "    <tr>\n",
       "      <th>0</th>\n",
       "      <td></td>\n",
       "      <td>Joe's Head - Kings Of Leon</td>\n",
       "      <td>0.0</td>\n",
       "      <td>1</td>\n",
       "    </tr>\n",
       "    <tr>\n",
       "      <th>1</th>\n",
       "      <td></td>\n",
       "      <td>Santa Monica - Theory Of A Deadman</td>\n",
       "      <td>0.0</td>\n",
       "      <td>2</td>\n",
       "    </tr>\n",
       "    <tr>\n",
       "      <th>2</th>\n",
       "      <td></td>\n",
       "      <td>Rock Bottom - Eminem</td>\n",
       "      <td>0.0</td>\n",
       "      <td>3</td>\n",
       "    </tr>\n",
       "    <tr>\n",
       "      <th>3</th>\n",
       "      <td></td>\n",
       "      <td>Too Much Love - LCD Soundsystem</td>\n",
       "      <td>0.0</td>\n",
       "      <td>4</td>\n",
       "    </tr>\n",
       "    <tr>\n",
       "      <th>4</th>\n",
       "      <td></td>\n",
       "      <td>Side To Side (Featuring Lateef &amp; Pigeon John) ...</td>\n",
       "      <td>0.0</td>\n",
       "      <td>5</td>\n",
       "    </tr>\n",
       "    <tr>\n",
       "      <th>5</th>\n",
       "      <td></td>\n",
       "      <td>Superman (It's Not Easy) - Five for Fighting</td>\n",
       "      <td>0.0</td>\n",
       "      <td>6</td>\n",
       "    </tr>\n",
       "    <tr>\n",
       "      <th>6</th>\n",
       "      <td></td>\n",
       "      <td>Hell Breaks Loose - Eminem / Dr. Dre</td>\n",
       "      <td>0.0</td>\n",
       "      <td>7</td>\n",
       "    </tr>\n",
       "    <tr>\n",
       "      <th>7</th>\n",
       "      <td></td>\n",
       "      <td>Doin' The Cockroach - Modest Mouse</td>\n",
       "      <td>0.0</td>\n",
       "      <td>8</td>\n",
       "    </tr>\n",
       "    <tr>\n",
       "      <th>8</th>\n",
       "      <td></td>\n",
       "      <td>Walkin' On The Sun - Smash Mouth</td>\n",
       "      <td>0.0</td>\n",
       "      <td>9</td>\n",
       "    </tr>\n",
       "    <tr>\n",
       "      <th>9</th>\n",
       "      <td></td>\n",
       "      <td>Te Va A Doler - Maelo Ruiz</td>\n",
       "      <td>0.0</td>\n",
       "      <td>10</td>\n",
       "    </tr>\n",
       "  </tbody>\n",
       "</table>\n",
       "</div>"
      ]
     },
     "execution_count": 27,
     "metadata": {},
     "output_type": "execute_result"
    }
   ],
   "execution_count": 27
  }
 ],
 "metadata": {
  "kernelspec": {
   "display_name": "Python 3 (ipykernel)",
   "language": "python",
   "name": "python3"
  },
  "language_info": {
   "codemirror_mode": {
    "name": "ipython",
    "version": 3
   },
   "file_extension": ".py",
   "mimetype": "text/x-python",
   "name": "python",
   "nbconvert_exporter": "python",
   "pygments_lexer": "ipython3",
   "version": "3.12.3"
  }
 },
 "nbformat": 4,
 "nbformat_minor": 4
}
